{
 "cells": [
  {
   "cell_type": "markdown",
   "id": "914b2729-4857-49b2-a8dd-30c8584e0bd6",
   "metadata": {},
   "source": [
    "# jalase 71,72"
   ]
  },
  {
   "cell_type": "markdown",
   "id": "2a80a728-2c12-4cfb-ad18-883a6b8b6cbe",
   "metadata": {},
   "source": [
    "## 1.\timporting our library"
   ]
  },
  {
   "cell_type": "code",
   "execution_count": 76,
   "id": "7652dad5-81f2-4a7d-8451-6e59a9091de1",
   "metadata": {},
   "outputs": [],
   "source": [
    "import numpy as np\n",
    "import matplotlib.pyplot as plt\n",
    "import pandas as pd\n",
    "%matplotlib inline"
   ]
  },
  {
   "cell_type": "markdown",
   "id": "d5ecaa80-2751-49ae-b577-3e82e5191ed7",
   "metadata": {},
   "source": [
    "## 2.\treading our dataset"
   ]
  },
  {
   "cell_type": "code",
   "execution_count": 77,
   "id": "f23756ad-be1d-4b0b-a70d-3dcbe3d34c00",
   "metadata": {},
   "outputs": [],
   "source": [
    "Titanic_DF = pd.read_csv('H:\\\\Data Science\\\\Python for Data Science\\\\72\\\\12. Data Science Hands-On Projects __ 1.2 Titanic.csv')"
   ]
  },
  {
   "cell_type": "code",
   "execution_count": 78,
   "id": "882f4578-0392-4e8c-b5fe-9c7e335d1e4d",
   "metadata": {},
   "outputs": [
    {
     "data": {
      "text/html": [
       "<div>\n",
       "<style scoped>\n",
       "    .dataframe tbody tr th:only-of-type {\n",
       "        vertical-align: middle;\n",
       "    }\n",
       "\n",
       "    .dataframe tbody tr th {\n",
       "        vertical-align: top;\n",
       "    }\n",
       "\n",
       "    .dataframe thead th {\n",
       "        text-align: right;\n",
       "    }\n",
       "</style>\n",
       "<table border=\"1\" class=\"dataframe\">\n",
       "  <thead>\n",
       "    <tr style=\"text-align: right;\">\n",
       "      <th></th>\n",
       "      <th>Unnamed: 0</th>\n",
       "      <th>survived</th>\n",
       "      <th>sex</th>\n",
       "      <th>age</th>\n",
       "      <th>passengerClass</th>\n",
       "    </tr>\n",
       "  </thead>\n",
       "  <tbody>\n",
       "    <tr>\n",
       "      <th>0</th>\n",
       "      <td>Allen, Miss. Elisabeth Walton</td>\n",
       "      <td>yes</td>\n",
       "      <td>female</td>\n",
       "      <td>29.0000</td>\n",
       "      <td>1st</td>\n",
       "    </tr>\n",
       "    <tr>\n",
       "      <th>1</th>\n",
       "      <td>Allison, Master. Hudson Trevor</td>\n",
       "      <td>yes</td>\n",
       "      <td>male</td>\n",
       "      <td>0.9167</td>\n",
       "      <td>1st</td>\n",
       "    </tr>\n",
       "    <tr>\n",
       "      <th>2</th>\n",
       "      <td>Allison, Miss. Helen Loraine</td>\n",
       "      <td>no</td>\n",
       "      <td>female</td>\n",
       "      <td>2.0000</td>\n",
       "      <td>1st</td>\n",
       "    </tr>\n",
       "    <tr>\n",
       "      <th>3</th>\n",
       "      <td>Allison, Mr. Hudson Joshua Crei</td>\n",
       "      <td>no</td>\n",
       "      <td>male</td>\n",
       "      <td>30.0000</td>\n",
       "      <td>1st</td>\n",
       "    </tr>\n",
       "    <tr>\n",
       "      <th>4</th>\n",
       "      <td>Allison, Mrs. Hudson J C (Bessi</td>\n",
       "      <td>no</td>\n",
       "      <td>female</td>\n",
       "      <td>25.0000</td>\n",
       "      <td>1st</td>\n",
       "    </tr>\n",
       "    <tr>\n",
       "      <th>...</th>\n",
       "      <td>...</td>\n",
       "      <td>...</td>\n",
       "      <td>...</td>\n",
       "      <td>...</td>\n",
       "      <td>...</td>\n",
       "    </tr>\n",
       "    <tr>\n",
       "      <th>1304</th>\n",
       "      <td>Zabour, Miss. Hileni</td>\n",
       "      <td>no</td>\n",
       "      <td>female</td>\n",
       "      <td>14.5000</td>\n",
       "      <td>3rd</td>\n",
       "    </tr>\n",
       "    <tr>\n",
       "      <th>1305</th>\n",
       "      <td>Zabour, Miss. Thamine</td>\n",
       "      <td>no</td>\n",
       "      <td>female</td>\n",
       "      <td>NaN</td>\n",
       "      <td>3rd</td>\n",
       "    </tr>\n",
       "    <tr>\n",
       "      <th>1306</th>\n",
       "      <td>Zakarian, Mr. Mapriededer</td>\n",
       "      <td>no</td>\n",
       "      <td>male</td>\n",
       "      <td>26.5000</td>\n",
       "      <td>3rd</td>\n",
       "    </tr>\n",
       "    <tr>\n",
       "      <th>1307</th>\n",
       "      <td>Zakarian, Mr. Ortin</td>\n",
       "      <td>no</td>\n",
       "      <td>male</td>\n",
       "      <td>27.0000</td>\n",
       "      <td>3rd</td>\n",
       "    </tr>\n",
       "    <tr>\n",
       "      <th>1308</th>\n",
       "      <td>Zimmerman, Mr. Leo</td>\n",
       "      <td>no</td>\n",
       "      <td>male</td>\n",
       "      <td>29.0000</td>\n",
       "      <td>3rd</td>\n",
       "    </tr>\n",
       "  </tbody>\n",
       "</table>\n",
       "<p>1309 rows × 5 columns</p>\n",
       "</div>"
      ],
      "text/plain": [
       "                           Unnamed: 0 survived     sex      age passengerClass\n",
       "0       Allen, Miss. Elisabeth Walton      yes  female  29.0000            1st\n",
       "1      Allison, Master. Hudson Trevor      yes    male   0.9167            1st\n",
       "2        Allison, Miss. Helen Loraine       no  female   2.0000            1st\n",
       "3     Allison, Mr. Hudson Joshua Crei       no    male  30.0000            1st\n",
       "4     Allison, Mrs. Hudson J C (Bessi       no  female  25.0000            1st\n",
       "...                               ...      ...     ...      ...            ...\n",
       "1304             Zabour, Miss. Hileni       no  female  14.5000            3rd\n",
       "1305            Zabour, Miss. Thamine       no  female      NaN            3rd\n",
       "1306        Zakarian, Mr. Mapriededer       no    male  26.5000            3rd\n",
       "1307              Zakarian, Mr. Ortin       no    male  27.0000            3rd\n",
       "1308               Zimmerman, Mr. Leo       no    male  29.0000            3rd\n",
       "\n",
       "[1309 rows x 5 columns]"
      ]
     },
     "execution_count": 78,
     "metadata": {},
     "output_type": "execute_result"
    }
   ],
   "source": [
    "Titanic_DF"
   ]
  },
  {
   "cell_type": "markdown",
   "id": "acc3e7f5-6082-428a-b298-d438bda35273",
   "metadata": {},
   "source": [
    "## 3.change the columns’ names as Name, Survived, Gender, Age and Class"
   ]
  },
  {
   "cell_type": "code",
   "execution_count": 79,
   "id": "b8b23142-4f68-4de9-b2e0-64391e4b29eb",
   "metadata": {},
   "outputs": [],
   "source": [
    "Titanic_DF.columns = ['Name','Survived','Gender','Age','Class']"
   ]
  },
  {
   "cell_type": "code",
   "execution_count": 80,
   "id": "6deae7f6-15ba-4841-9869-6e37f702b7d7",
   "metadata": {},
   "outputs": [
    {
     "data": {
      "text/plain": [
       "Index(['Name', 'Survived', 'Gender', 'Age', 'Class'], dtype='object')"
      ]
     },
     "execution_count": 80,
     "metadata": {},
     "output_type": "execute_result"
    }
   ],
   "source": [
    "Titanic_DF.columns"
   ]
  },
  {
   "cell_type": "code",
   "execution_count": 81,
   "id": "afec9352-407c-43e7-81b7-b67bfa7cff19",
   "metadata": {},
   "outputs": [
    {
     "data": {
      "text/html": [
       "<div>\n",
       "<style scoped>\n",
       "    .dataframe tbody tr th:only-of-type {\n",
       "        vertical-align: middle;\n",
       "    }\n",
       "\n",
       "    .dataframe tbody tr th {\n",
       "        vertical-align: top;\n",
       "    }\n",
       "\n",
       "    .dataframe thead th {\n",
       "        text-align: right;\n",
       "    }\n",
       "</style>\n",
       "<table border=\"1\" class=\"dataframe\">\n",
       "  <thead>\n",
       "    <tr style=\"text-align: right;\">\n",
       "      <th></th>\n",
       "      <th>Name</th>\n",
       "      <th>Survived</th>\n",
       "      <th>Gender</th>\n",
       "      <th>Age</th>\n",
       "      <th>Class</th>\n",
       "    </tr>\n",
       "  </thead>\n",
       "  <tbody>\n",
       "    <tr>\n",
       "      <th>0</th>\n",
       "      <td>Allen, Miss. Elisabeth Walton</td>\n",
       "      <td>yes</td>\n",
       "      <td>female</td>\n",
       "      <td>29.0000</td>\n",
       "      <td>1st</td>\n",
       "    </tr>\n",
       "    <tr>\n",
       "      <th>1</th>\n",
       "      <td>Allison, Master. Hudson Trevor</td>\n",
       "      <td>yes</td>\n",
       "      <td>male</td>\n",
       "      <td>0.9167</td>\n",
       "      <td>1st</td>\n",
       "    </tr>\n",
       "    <tr>\n",
       "      <th>2</th>\n",
       "      <td>Allison, Miss. Helen Loraine</td>\n",
       "      <td>no</td>\n",
       "      <td>female</td>\n",
       "      <td>2.0000</td>\n",
       "      <td>1st</td>\n",
       "    </tr>\n",
       "    <tr>\n",
       "      <th>3</th>\n",
       "      <td>Allison, Mr. Hudson Joshua Crei</td>\n",
       "      <td>no</td>\n",
       "      <td>male</td>\n",
       "      <td>30.0000</td>\n",
       "      <td>1st</td>\n",
       "    </tr>\n",
       "    <tr>\n",
       "      <th>4</th>\n",
       "      <td>Allison, Mrs. Hudson J C (Bessi</td>\n",
       "      <td>no</td>\n",
       "      <td>female</td>\n",
       "      <td>25.0000</td>\n",
       "      <td>1st</td>\n",
       "    </tr>\n",
       "    <tr>\n",
       "      <th>...</th>\n",
       "      <td>...</td>\n",
       "      <td>...</td>\n",
       "      <td>...</td>\n",
       "      <td>...</td>\n",
       "      <td>...</td>\n",
       "    </tr>\n",
       "    <tr>\n",
       "      <th>1304</th>\n",
       "      <td>Zabour, Miss. Hileni</td>\n",
       "      <td>no</td>\n",
       "      <td>female</td>\n",
       "      <td>14.5000</td>\n",
       "      <td>3rd</td>\n",
       "    </tr>\n",
       "    <tr>\n",
       "      <th>1305</th>\n",
       "      <td>Zabour, Miss. Thamine</td>\n",
       "      <td>no</td>\n",
       "      <td>female</td>\n",
       "      <td>NaN</td>\n",
       "      <td>3rd</td>\n",
       "    </tr>\n",
       "    <tr>\n",
       "      <th>1306</th>\n",
       "      <td>Zakarian, Mr. Mapriededer</td>\n",
       "      <td>no</td>\n",
       "      <td>male</td>\n",
       "      <td>26.5000</td>\n",
       "      <td>3rd</td>\n",
       "    </tr>\n",
       "    <tr>\n",
       "      <th>1307</th>\n",
       "      <td>Zakarian, Mr. Ortin</td>\n",
       "      <td>no</td>\n",
       "      <td>male</td>\n",
       "      <td>27.0000</td>\n",
       "      <td>3rd</td>\n",
       "    </tr>\n",
       "    <tr>\n",
       "      <th>1308</th>\n",
       "      <td>Zimmerman, Mr. Leo</td>\n",
       "      <td>no</td>\n",
       "      <td>male</td>\n",
       "      <td>29.0000</td>\n",
       "      <td>3rd</td>\n",
       "    </tr>\n",
       "  </tbody>\n",
       "</table>\n",
       "<p>1309 rows × 5 columns</p>\n",
       "</div>"
      ],
      "text/plain": [
       "                                 Name Survived  Gender      Age Class\n",
       "0       Allen, Miss. Elisabeth Walton      yes  female  29.0000   1st\n",
       "1      Allison, Master. Hudson Trevor      yes    male   0.9167   1st\n",
       "2        Allison, Miss. Helen Loraine       no  female   2.0000   1st\n",
       "3     Allison, Mr. Hudson Joshua Crei       no    male  30.0000   1st\n",
       "4     Allison, Mrs. Hudson J C (Bessi       no  female  25.0000   1st\n",
       "...                               ...      ...     ...      ...   ...\n",
       "1304             Zabour, Miss. Hileni       no  female  14.5000   3rd\n",
       "1305            Zabour, Miss. Thamine       no  female      NaN   3rd\n",
       "1306        Zakarian, Mr. Mapriededer       no    male  26.5000   3rd\n",
       "1307              Zakarian, Mr. Ortin       no    male  27.0000   3rd\n",
       "1308               Zimmerman, Mr. Leo       no    male  29.0000   3rd\n",
       "\n",
       "[1309 rows x 5 columns]"
      ]
     },
     "execution_count": 81,
     "metadata": {},
     "output_type": "execute_result"
    }
   ],
   "source": [
    "Titanic_DF"
   ]
  },
  {
   "cell_type": "markdown",
   "id": "e15e57ae-2409-4d10-ac86-099ef2929737",
   "metadata": {},
   "source": [
    "## 4. find the rows count"
   ]
  },
  {
   "cell_type": "code",
   "execution_count": 82,
   "id": "86622c9e-df0a-4a1c-86a4-f0d7d990e9ee",
   "metadata": {},
   "outputs": [
    {
     "data": {
      "text/plain": [
       "1309"
      ]
     },
     "execution_count": 82,
     "metadata": {},
     "output_type": "execute_result"
    }
   ],
   "source": [
    "len(Titanic_DF)"
   ]
  },
  {
   "cell_type": "code",
   "execution_count": 83,
   "id": "613d06d5-e954-4606-9f85-b7df9e087858",
   "metadata": {},
   "outputs": [
    {
     "data": {
      "text/plain": [
       "Name        1309\n",
       "Survived    1309\n",
       "Gender      1309\n",
       "Age         1046\n",
       "Class       1309\n",
       "dtype: int64"
      ]
     },
     "execution_count": 83,
     "metadata": {},
     "output_type": "execute_result"
    }
   ],
   "source": [
    "Titanic_DF.count()"
   ]
  },
  {
   "cell_type": "markdown",
   "id": "493c5ac8-0665-4891-9227-cc2fb866b676",
   "metadata": {},
   "source": [
    "## 5. find the first 15 rows in our dataset"
   ]
  },
  {
   "cell_type": "code",
   "execution_count": 84,
   "id": "2dce04aa-abde-452c-aa14-770d038191e3",
   "metadata": {},
   "outputs": [
    {
     "data": {
      "text/html": [
       "<div>\n",
       "<style scoped>\n",
       "    .dataframe tbody tr th:only-of-type {\n",
       "        vertical-align: middle;\n",
       "    }\n",
       "\n",
       "    .dataframe tbody tr th {\n",
       "        vertical-align: top;\n",
       "    }\n",
       "\n",
       "    .dataframe thead th {\n",
       "        text-align: right;\n",
       "    }\n",
       "</style>\n",
       "<table border=\"1\" class=\"dataframe\">\n",
       "  <thead>\n",
       "    <tr style=\"text-align: right;\">\n",
       "      <th></th>\n",
       "      <th>Name</th>\n",
       "      <th>Survived</th>\n",
       "      <th>Gender</th>\n",
       "      <th>Age</th>\n",
       "      <th>Class</th>\n",
       "    </tr>\n",
       "  </thead>\n",
       "  <tbody>\n",
       "    <tr>\n",
       "      <th>0</th>\n",
       "      <td>Allen, Miss. Elisabeth Walton</td>\n",
       "      <td>yes</td>\n",
       "      <td>female</td>\n",
       "      <td>29.0000</td>\n",
       "      <td>1st</td>\n",
       "    </tr>\n",
       "    <tr>\n",
       "      <th>1</th>\n",
       "      <td>Allison, Master. Hudson Trevor</td>\n",
       "      <td>yes</td>\n",
       "      <td>male</td>\n",
       "      <td>0.9167</td>\n",
       "      <td>1st</td>\n",
       "    </tr>\n",
       "    <tr>\n",
       "      <th>2</th>\n",
       "      <td>Allison, Miss. Helen Loraine</td>\n",
       "      <td>no</td>\n",
       "      <td>female</td>\n",
       "      <td>2.0000</td>\n",
       "      <td>1st</td>\n",
       "    </tr>\n",
       "    <tr>\n",
       "      <th>3</th>\n",
       "      <td>Allison, Mr. Hudson Joshua Crei</td>\n",
       "      <td>no</td>\n",
       "      <td>male</td>\n",
       "      <td>30.0000</td>\n",
       "      <td>1st</td>\n",
       "    </tr>\n",
       "    <tr>\n",
       "      <th>4</th>\n",
       "      <td>Allison, Mrs. Hudson J C (Bessi</td>\n",
       "      <td>no</td>\n",
       "      <td>female</td>\n",
       "      <td>25.0000</td>\n",
       "      <td>1st</td>\n",
       "    </tr>\n",
       "    <tr>\n",
       "      <th>5</th>\n",
       "      <td>Anderson, Mr. Harry</td>\n",
       "      <td>yes</td>\n",
       "      <td>male</td>\n",
       "      <td>48.0000</td>\n",
       "      <td>1st</td>\n",
       "    </tr>\n",
       "    <tr>\n",
       "      <th>6</th>\n",
       "      <td>Andrews, Miss. Kornelia Theodos</td>\n",
       "      <td>yes</td>\n",
       "      <td>female</td>\n",
       "      <td>63.0000</td>\n",
       "      <td>1st</td>\n",
       "    </tr>\n",
       "    <tr>\n",
       "      <th>7</th>\n",
       "      <td>Andrews, Mr. Thomas Jr</td>\n",
       "      <td>no</td>\n",
       "      <td>male</td>\n",
       "      <td>39.0000</td>\n",
       "      <td>1st</td>\n",
       "    </tr>\n",
       "    <tr>\n",
       "      <th>8</th>\n",
       "      <td>Appleton, Mrs. Edward Dale (Cha</td>\n",
       "      <td>yes</td>\n",
       "      <td>female</td>\n",
       "      <td>53.0000</td>\n",
       "      <td>1st</td>\n",
       "    </tr>\n",
       "    <tr>\n",
       "      <th>9</th>\n",
       "      <td>Artagaveytia, Mr. Ramon</td>\n",
       "      <td>no</td>\n",
       "      <td>male</td>\n",
       "      <td>71.0000</td>\n",
       "      <td>1st</td>\n",
       "    </tr>\n",
       "    <tr>\n",
       "      <th>10</th>\n",
       "      <td>Astor, Col. John Jacob</td>\n",
       "      <td>no</td>\n",
       "      <td>male</td>\n",
       "      <td>47.0000</td>\n",
       "      <td>1st</td>\n",
       "    </tr>\n",
       "    <tr>\n",
       "      <th>11</th>\n",
       "      <td>Astor, Mrs. John Jacob (Madelei</td>\n",
       "      <td>yes</td>\n",
       "      <td>female</td>\n",
       "      <td>18.0000</td>\n",
       "      <td>1st</td>\n",
       "    </tr>\n",
       "    <tr>\n",
       "      <th>12</th>\n",
       "      <td>Aubart, Mme. Leontine Pauline</td>\n",
       "      <td>yes</td>\n",
       "      <td>female</td>\n",
       "      <td>24.0000</td>\n",
       "      <td>1st</td>\n",
       "    </tr>\n",
       "    <tr>\n",
       "      <th>13</th>\n",
       "      <td>Barber, Miss. Ellen Nellie</td>\n",
       "      <td>yes</td>\n",
       "      <td>female</td>\n",
       "      <td>26.0000</td>\n",
       "      <td>1st</td>\n",
       "    </tr>\n",
       "    <tr>\n",
       "      <th>14</th>\n",
       "      <td>Barkworth, Mr. Algernon Henry W</td>\n",
       "      <td>yes</td>\n",
       "      <td>male</td>\n",
       "      <td>80.0000</td>\n",
       "      <td>1st</td>\n",
       "    </tr>\n",
       "  </tbody>\n",
       "</table>\n",
       "</div>"
      ],
      "text/plain": [
       "                               Name Survived  Gender      Age Class\n",
       "0     Allen, Miss. Elisabeth Walton      yes  female  29.0000   1st\n",
       "1    Allison, Master. Hudson Trevor      yes    male   0.9167   1st\n",
       "2      Allison, Miss. Helen Loraine       no  female   2.0000   1st\n",
       "3   Allison, Mr. Hudson Joshua Crei       no    male  30.0000   1st\n",
       "4   Allison, Mrs. Hudson J C (Bessi       no  female  25.0000   1st\n",
       "5               Anderson, Mr. Harry      yes    male  48.0000   1st\n",
       "6   Andrews, Miss. Kornelia Theodos      yes  female  63.0000   1st\n",
       "7            Andrews, Mr. Thomas Jr       no    male  39.0000   1st\n",
       "8   Appleton, Mrs. Edward Dale (Cha      yes  female  53.0000   1st\n",
       "9           Artagaveytia, Mr. Ramon       no    male  71.0000   1st\n",
       "10           Astor, Col. John Jacob       no    male  47.0000   1st\n",
       "11  Astor, Mrs. John Jacob (Madelei      yes  female  18.0000   1st\n",
       "12    Aubart, Mme. Leontine Pauline      yes  female  24.0000   1st\n",
       "13       Barber, Miss. Ellen Nellie      yes  female  26.0000   1st\n",
       "14  Barkworth, Mr. Algernon Henry W      yes    male  80.0000   1st"
      ]
     },
     "execution_count": 84,
     "metadata": {},
     "output_type": "execute_result"
    }
   ],
   "source": [
    "Titanic_DF.head(15)"
   ]
  },
  {
   "cell_type": "markdown",
   "id": "663e561a-f9fe-4ca0-8a3b-88c00cc55e53",
   "metadata": {},
   "source": [
    "## 6.find the last 20 rows in our dataset"
   ]
  },
  {
   "cell_type": "code",
   "execution_count": 85,
   "id": "dc3c1327-5bb3-4c53-9ab0-b2a3aaa54ea6",
   "metadata": {},
   "outputs": [
    {
     "data": {
      "text/html": [
       "<div>\n",
       "<style scoped>\n",
       "    .dataframe tbody tr th:only-of-type {\n",
       "        vertical-align: middle;\n",
       "    }\n",
       "\n",
       "    .dataframe tbody tr th {\n",
       "        vertical-align: top;\n",
       "    }\n",
       "\n",
       "    .dataframe thead th {\n",
       "        text-align: right;\n",
       "    }\n",
       "</style>\n",
       "<table border=\"1\" class=\"dataframe\">\n",
       "  <thead>\n",
       "    <tr style=\"text-align: right;\">\n",
       "      <th></th>\n",
       "      <th>Name</th>\n",
       "      <th>Survived</th>\n",
       "      <th>Gender</th>\n",
       "      <th>Age</th>\n",
       "      <th>Class</th>\n",
       "    </tr>\n",
       "  </thead>\n",
       "  <tbody>\n",
       "    <tr>\n",
       "      <th>1289</th>\n",
       "      <td>Wiklund, Mr. Karl Johan</td>\n",
       "      <td>no</td>\n",
       "      <td>male</td>\n",
       "      <td>21.0</td>\n",
       "      <td>3rd</td>\n",
       "    </tr>\n",
       "    <tr>\n",
       "      <th>1290</th>\n",
       "      <td>Wilkes, Mrs. James (Ellen Needs</td>\n",
       "      <td>yes</td>\n",
       "      <td>female</td>\n",
       "      <td>47.0</td>\n",
       "      <td>3rd</td>\n",
       "    </tr>\n",
       "    <tr>\n",
       "      <th>1291</th>\n",
       "      <td>Willer, Mr. Aaron (Abi Weller</td>\n",
       "      <td>no</td>\n",
       "      <td>male</td>\n",
       "      <td>NaN</td>\n",
       "      <td>3rd</td>\n",
       "    </tr>\n",
       "    <tr>\n",
       "      <th>1292</th>\n",
       "      <td>Willey, Mr. Edward</td>\n",
       "      <td>no</td>\n",
       "      <td>male</td>\n",
       "      <td>NaN</td>\n",
       "      <td>3rd</td>\n",
       "    </tr>\n",
       "    <tr>\n",
       "      <th>1293</th>\n",
       "      <td>Williams, Mr. Howard Hugh Harr</td>\n",
       "      <td>no</td>\n",
       "      <td>male</td>\n",
       "      <td>NaN</td>\n",
       "      <td>3rd</td>\n",
       "    </tr>\n",
       "    <tr>\n",
       "      <th>1294</th>\n",
       "      <td>Williams, Mr. Leslie</td>\n",
       "      <td>no</td>\n",
       "      <td>male</td>\n",
       "      <td>28.5</td>\n",
       "      <td>3rd</td>\n",
       "    </tr>\n",
       "    <tr>\n",
       "      <th>1295</th>\n",
       "      <td>Windelov, Mr. Einar</td>\n",
       "      <td>no</td>\n",
       "      <td>male</td>\n",
       "      <td>21.0</td>\n",
       "      <td>3rd</td>\n",
       "    </tr>\n",
       "    <tr>\n",
       "      <th>1296</th>\n",
       "      <td>Wirz, Mr. Albert</td>\n",
       "      <td>no</td>\n",
       "      <td>male</td>\n",
       "      <td>27.0</td>\n",
       "      <td>3rd</td>\n",
       "    </tr>\n",
       "    <tr>\n",
       "      <th>1297</th>\n",
       "      <td>Wiseman, Mr. Phillippe</td>\n",
       "      <td>no</td>\n",
       "      <td>male</td>\n",
       "      <td>NaN</td>\n",
       "      <td>3rd</td>\n",
       "    </tr>\n",
       "    <tr>\n",
       "      <th>1298</th>\n",
       "      <td>Wittevrongel, Mr. Camille</td>\n",
       "      <td>no</td>\n",
       "      <td>male</td>\n",
       "      <td>36.0</td>\n",
       "      <td>3rd</td>\n",
       "    </tr>\n",
       "    <tr>\n",
       "      <th>1299</th>\n",
       "      <td>Yasbeck, Mr. Antoni</td>\n",
       "      <td>no</td>\n",
       "      <td>male</td>\n",
       "      <td>27.0</td>\n",
       "      <td>3rd</td>\n",
       "    </tr>\n",
       "    <tr>\n",
       "      <th>1300</th>\n",
       "      <td>Yasbeck, Mrs. Antoni (Selini Al</td>\n",
       "      <td>yes</td>\n",
       "      <td>female</td>\n",
       "      <td>15.0</td>\n",
       "      <td>3rd</td>\n",
       "    </tr>\n",
       "    <tr>\n",
       "      <th>1301</th>\n",
       "      <td>Youseff, Mr. Gerious</td>\n",
       "      <td>no</td>\n",
       "      <td>male</td>\n",
       "      <td>45.5</td>\n",
       "      <td>3rd</td>\n",
       "    </tr>\n",
       "    <tr>\n",
       "      <th>1302</th>\n",
       "      <td>Yousif, Mr. Wazli</td>\n",
       "      <td>no</td>\n",
       "      <td>male</td>\n",
       "      <td>NaN</td>\n",
       "      <td>3rd</td>\n",
       "    </tr>\n",
       "    <tr>\n",
       "      <th>1303</th>\n",
       "      <td>Yousseff, Mr. Gerious</td>\n",
       "      <td>no</td>\n",
       "      <td>male</td>\n",
       "      <td>NaN</td>\n",
       "      <td>3rd</td>\n",
       "    </tr>\n",
       "    <tr>\n",
       "      <th>1304</th>\n",
       "      <td>Zabour, Miss. Hileni</td>\n",
       "      <td>no</td>\n",
       "      <td>female</td>\n",
       "      <td>14.5</td>\n",
       "      <td>3rd</td>\n",
       "    </tr>\n",
       "    <tr>\n",
       "      <th>1305</th>\n",
       "      <td>Zabour, Miss. Thamine</td>\n",
       "      <td>no</td>\n",
       "      <td>female</td>\n",
       "      <td>NaN</td>\n",
       "      <td>3rd</td>\n",
       "    </tr>\n",
       "    <tr>\n",
       "      <th>1306</th>\n",
       "      <td>Zakarian, Mr. Mapriededer</td>\n",
       "      <td>no</td>\n",
       "      <td>male</td>\n",
       "      <td>26.5</td>\n",
       "      <td>3rd</td>\n",
       "    </tr>\n",
       "    <tr>\n",
       "      <th>1307</th>\n",
       "      <td>Zakarian, Mr. Ortin</td>\n",
       "      <td>no</td>\n",
       "      <td>male</td>\n",
       "      <td>27.0</td>\n",
       "      <td>3rd</td>\n",
       "    </tr>\n",
       "    <tr>\n",
       "      <th>1308</th>\n",
       "      <td>Zimmerman, Mr. Leo</td>\n",
       "      <td>no</td>\n",
       "      <td>male</td>\n",
       "      <td>29.0</td>\n",
       "      <td>3rd</td>\n",
       "    </tr>\n",
       "  </tbody>\n",
       "</table>\n",
       "</div>"
      ],
      "text/plain": [
       "                                 Name Survived  Gender   Age Class\n",
       "1289          Wiklund, Mr. Karl Johan       no    male  21.0   3rd\n",
       "1290  Wilkes, Mrs. James (Ellen Needs      yes  female  47.0   3rd\n",
       "1291    Willer, Mr. Aaron (Abi Weller       no    male   NaN   3rd\n",
       "1292               Willey, Mr. Edward       no    male   NaN   3rd\n",
       "1293   Williams, Mr. Howard Hugh Harr       no    male   NaN   3rd\n",
       "1294             Williams, Mr. Leslie       no    male  28.5   3rd\n",
       "1295              Windelov, Mr. Einar       no    male  21.0   3rd\n",
       "1296                 Wirz, Mr. Albert       no    male  27.0   3rd\n",
       "1297           Wiseman, Mr. Phillippe       no    male   NaN   3rd\n",
       "1298        Wittevrongel, Mr. Camille       no    male  36.0   3rd\n",
       "1299              Yasbeck, Mr. Antoni       no    male  27.0   3rd\n",
       "1300  Yasbeck, Mrs. Antoni (Selini Al      yes  female  15.0   3rd\n",
       "1301             Youseff, Mr. Gerious       no    male  45.5   3rd\n",
       "1302                Yousif, Mr. Wazli       no    male   NaN   3rd\n",
       "1303            Yousseff, Mr. Gerious       no    male   NaN   3rd\n",
       "1304             Zabour, Miss. Hileni       no  female  14.5   3rd\n",
       "1305            Zabour, Miss. Thamine       no  female   NaN   3rd\n",
       "1306        Zakarian, Mr. Mapriededer       no    male  26.5   3rd\n",
       "1307              Zakarian, Mr. Ortin       no    male  27.0   3rd\n",
       "1308               Zimmerman, Mr. Leo       no    male  29.0   3rd"
      ]
     },
     "execution_count": 85,
     "metadata": {},
     "output_type": "execute_result"
    }
   ],
   "source": [
    "Titanic_DF.tail(20)"
   ]
  },
  {
   "cell_type": "markdown",
   "id": "c9582bed-7495-4ecf-8068-88c2bd1fea36",
   "metadata": {},
   "source": [
    "## 7.calculate the average age of passengers"
   ]
  },
  {
   "cell_type": "code",
   "execution_count": 86,
   "id": "32dc6847-d879-4650-b11a-1057b9444452",
   "metadata": {},
   "outputs": [
    {
     "data": {
      "text/plain": [
       "29.881134512434034"
      ]
     },
     "execution_count": 86,
     "metadata": {},
     "output_type": "execute_result"
    }
   ],
   "source": [
    "Age_average = sum(Titanic_DF['Age'].dropna())/(len(Titanic_DF['Age'].dropna()))\n",
    "Age_average"
   ]
  },
  {
   "cell_type": "markdown",
   "id": "f131fba1-be51-4c47-a350-e3dc6f83f614",
   "metadata": {},
   "source": [
    "## 8.find the oldest passenger’s age and name"
   ]
  },
  {
   "cell_type": "code",
   "execution_count": 87,
   "id": "4827c5f3-c466-4fa6-8af0-bae46fb7e5f2",
   "metadata": {},
   "outputs": [
    {
     "data": {
      "text/plain": [
       "Name        van Melkebeke, Mr. Philemon\n",
       "Survived                            yes\n",
       "Gender                             male\n",
       "Age                                80.0\n",
       "Class                               3rd\n",
       "dtype: object"
      ]
     },
     "execution_count": 87,
     "metadata": {},
     "output_type": "execute_result"
    }
   ],
   "source": [
    "Titanic_DF.max()"
   ]
  },
  {
   "cell_type": "code",
   "execution_count": 88,
   "id": "6b077216-24c8-41c6-a9ed-5e00fc7af739",
   "metadata": {},
   "outputs": [
    {
     "data": {
      "text/plain": [
       "0       29.0000\n",
       "1        0.9167\n",
       "2        2.0000\n",
       "3       30.0000\n",
       "4       25.0000\n",
       "         ...   \n",
       "1304    14.5000\n",
       "1305        NaN\n",
       "1306    26.5000\n",
       "1307    27.0000\n",
       "1308    29.0000\n",
       "Name: Age, Length: 1309, dtype: float64"
      ]
     },
     "execution_count": 88,
     "metadata": {},
     "output_type": "execute_result"
    }
   ],
   "source": [
    "Titanic_DF['Age']"
   ]
  },
  {
   "cell_type": "code",
   "execution_count": 89,
   "id": "ce87fa64-5b2d-4bee-97fa-2a3b8ae72229",
   "metadata": {},
   "outputs": [
    {
     "data": {
      "text/html": [
       "<div>\n",
       "<style scoped>\n",
       "    .dataframe tbody tr th:only-of-type {\n",
       "        vertical-align: middle;\n",
       "    }\n",
       "\n",
       "    .dataframe tbody tr th {\n",
       "        vertical-align: top;\n",
       "    }\n",
       "\n",
       "    .dataframe thead th {\n",
       "        text-align: right;\n",
       "    }\n",
       "</style>\n",
       "<table border=\"1\" class=\"dataframe\">\n",
       "  <thead>\n",
       "    <tr style=\"text-align: right;\">\n",
       "      <th></th>\n",
       "      <th>Name</th>\n",
       "      <th>Survived</th>\n",
       "      <th>Gender</th>\n",
       "      <th>Age</th>\n",
       "      <th>Class</th>\n",
       "    </tr>\n",
       "  </thead>\n",
       "  <tbody>\n",
       "    <tr>\n",
       "      <th>14</th>\n",
       "      <td>Barkworth, Mr. Algernon Henry W</td>\n",
       "      <td>yes</td>\n",
       "      <td>male</td>\n",
       "      <td>80.0</td>\n",
       "      <td>1st</td>\n",
       "    </tr>\n",
       "  </tbody>\n",
       "</table>\n",
       "</div>"
      ],
      "text/plain": [
       "                               Name Survived Gender   Age Class\n",
       "14  Barkworth, Mr. Algernon Henry W      yes   male  80.0   1st"
      ]
     },
     "execution_count": 89,
     "metadata": {},
     "output_type": "execute_result"
    }
   ],
   "source": [
    "Titanic_DF[Titanic_DF['Age']==Titanic_DF['Age'].max()]"
   ]
  },
  {
   "cell_type": "code",
   "execution_count": 90,
   "id": "5a88f116-30bb-4790-a2a4-a404cc8503ac",
   "metadata": {},
   "outputs": [
    {
     "data": {
      "text/html": [
       "<div>\n",
       "<style scoped>\n",
       "    .dataframe tbody tr th:only-of-type {\n",
       "        vertical-align: middle;\n",
       "    }\n",
       "\n",
       "    .dataframe tbody tr th {\n",
       "        vertical-align: top;\n",
       "    }\n",
       "\n",
       "    .dataframe thead th {\n",
       "        text-align: right;\n",
       "    }\n",
       "</style>\n",
       "<table border=\"1\" class=\"dataframe\">\n",
       "  <thead>\n",
       "    <tr style=\"text-align: right;\">\n",
       "      <th></th>\n",
       "      <th>Name</th>\n",
       "      <th>Survived</th>\n",
       "      <th>Gender</th>\n",
       "      <th>Age</th>\n",
       "      <th>Class</th>\n",
       "    </tr>\n",
       "  </thead>\n",
       "  <tbody>\n",
       "    <tr>\n",
       "      <th>763</th>\n",
       "      <td>Dean, Miss. Elizabeth Gladys M</td>\n",
       "      <td>yes</td>\n",
       "      <td>female</td>\n",
       "      <td>0.1667</td>\n",
       "      <td>3rd</td>\n",
       "    </tr>\n",
       "  </tbody>\n",
       "</table>\n",
       "</div>"
      ],
      "text/plain": [
       "                               Name Survived  Gender     Age Class\n",
       "763  Dean, Miss. Elizabeth Gladys M      yes  female  0.1667   3rd"
      ]
     },
     "execution_count": 90,
     "metadata": {},
     "output_type": "execute_result"
    }
   ],
   "source": [
    "Titanic_DF[Titanic_DF['Age']==Titanic_DF['Age'].min()]"
   ]
  },
  {
   "cell_type": "markdown",
   "id": "ce2b5f9f-5b43-4ca3-b4d1-ee2ab6dee6ad",
   "metadata": {},
   "source": [
    "## 9.Group the dataset by passenger’s Class"
   ]
  },
  {
   "cell_type": "code",
   "execution_count": 91,
   "id": "842411e7-3103-443d-8f2d-faa03922708d",
   "metadata": {},
   "outputs": [],
   "source": [
    "Titanic_groupby_class = Titanic_DF.groupby('Class')"
   ]
  },
  {
   "cell_type": "code",
   "execution_count": 92,
   "id": "7a9e3a54-286a-45cd-8f6b-baf183dbbc00",
   "metadata": {},
   "outputs": [
    {
     "data": {
      "text/plain": [
       "<pandas.core.groupby.generic.DataFrameGroupBy object at 0x00000187353FF290>"
      ]
     },
     "execution_count": 92,
     "metadata": {},
     "output_type": "execute_result"
    }
   ],
   "source": [
    "Titanic_groupby_class"
   ]
  },
  {
   "cell_type": "code",
   "execution_count": 93,
   "id": "e5921810-4a9d-4dfc-ac44-f316aed4e8d1",
   "metadata": {},
   "outputs": [
    {
     "data": {
      "text/plain": [
       "{'1st': [0, 1, 2, 3, 4, 5, 6, 7, 8, 9, 10, 11, 12, 13, 14, 15, 16, 17, 18, 19, 20, 21, 22, 23, 24, 25, 26, 27, 28, 29, 30, 31, 32, 33, 34, 35, 36, 37, 38, 39, 40, 41, 42, 43, 44, 45, 46, 47, 48, 49, 50, 51, 52, 53, 54, 55, 56, 57, 58, 59, 60, 61, 62, 63, 64, 65, 66, 67, 68, 69, 70, 71, 72, 73, 74, 75, 76, 77, 78, 79, 80, 81, 82, 83, 84, 85, 86, 87, 88, 89, 90, 91, 92, 93, 94, 95, 96, 97, 98, 99, ...], '2nd': [323, 324, 325, 326, 327, 328, 329, 330, 331, 332, 333, 334, 335, 336, 337, 338, 339, 340, 341, 342, 343, 344, 345, 346, 347, 348, 349, 350, 351, 352, 353, 354, 355, 356, 357, 358, 359, 360, 361, 362, 363, 364, 365, 366, 367, 368, 369, 370, 371, 372, 373, 374, 375, 376, 377, 378, 379, 380, 381, 382, 383, 384, 385, 386, 387, 388, 389, 390, 391, 392, 393, 394, 395, 396, 397, 398, 399, 400, 401, 402, 403, 404, 405, 406, 407, 408, 409, 410, 411, 412, 413, 414, 415, 416, 417, 418, 419, 420, 421, 422, ...], '3rd': [600, 601, 602, 603, 604, 605, 606, 607, 608, 609, 610, 611, 612, 613, 614, 615, 616, 617, 618, 619, 620, 621, 622, 623, 624, 625, 626, 627, 628, 629, 630, 631, 632, 633, 634, 635, 636, 637, 638, 639, 640, 641, 642, 643, 644, 645, 646, 647, 648, 649, 650, 651, 652, 653, 654, 655, 656, 657, 658, 659, 660, 661, 662, 663, 664, 665, 666, 667, 668, 669, 670, 671, 672, 673, 674, 675, 676, 677, 678, 679, 680, 681, 682, 683, 684, 685, 686, 687, 688, 689, 690, 691, 692, 693, 694, 695, 696, 697, 698, 699, ...]}"
      ]
     },
     "execution_count": 93,
     "metadata": {},
     "output_type": "execute_result"
    }
   ],
   "source": [
    "Titanic_groupby_class.groups"
   ]
  },
  {
   "cell_type": "code",
   "execution_count": 94,
   "id": "ee639546-0d84-4a26-920f-94234c1372e8",
   "metadata": {},
   "outputs": [
    {
     "data": {
      "text/html": [
       "<div>\n",
       "<style scoped>\n",
       "    .dataframe tbody tr th:only-of-type {\n",
       "        vertical-align: middle;\n",
       "    }\n",
       "\n",
       "    .dataframe tbody tr th {\n",
       "        vertical-align: top;\n",
       "    }\n",
       "\n",
       "    .dataframe thead th {\n",
       "        text-align: right;\n",
       "    }\n",
       "</style>\n",
       "<table border=\"1\" class=\"dataframe\">\n",
       "  <thead>\n",
       "    <tr style=\"text-align: right;\">\n",
       "      <th></th>\n",
       "      <th>Name</th>\n",
       "      <th>Survived</th>\n",
       "      <th>Gender</th>\n",
       "      <th>Age</th>\n",
       "      <th>Class</th>\n",
       "    </tr>\n",
       "  </thead>\n",
       "  <tbody>\n",
       "    <tr>\n",
       "      <th>323</th>\n",
       "      <td>Abelson, Mr. Samuel</td>\n",
       "      <td>no</td>\n",
       "      <td>male</td>\n",
       "      <td>30.0</td>\n",
       "      <td>2nd</td>\n",
       "    </tr>\n",
       "    <tr>\n",
       "      <th>324</th>\n",
       "      <td>Abelson, Mrs. Samuel (Hannah Wi</td>\n",
       "      <td>yes</td>\n",
       "      <td>female</td>\n",
       "      <td>28.0</td>\n",
       "      <td>2nd</td>\n",
       "    </tr>\n",
       "    <tr>\n",
       "      <th>325</th>\n",
       "      <td>Aldworth, Mr. Charles Augustus</td>\n",
       "      <td>no</td>\n",
       "      <td>male</td>\n",
       "      <td>30.0</td>\n",
       "      <td>2nd</td>\n",
       "    </tr>\n",
       "    <tr>\n",
       "      <th>326</th>\n",
       "      <td>Andrew, Mr. Edgardo Samuel</td>\n",
       "      <td>no</td>\n",
       "      <td>male</td>\n",
       "      <td>18.0</td>\n",
       "      <td>2nd</td>\n",
       "    </tr>\n",
       "    <tr>\n",
       "      <th>327</th>\n",
       "      <td>Andrew, Mr. Frank Thomas</td>\n",
       "      <td>no</td>\n",
       "      <td>male</td>\n",
       "      <td>25.0</td>\n",
       "      <td>2nd</td>\n",
       "    </tr>\n",
       "    <tr>\n",
       "      <th>...</th>\n",
       "      <td>...</td>\n",
       "      <td>...</td>\n",
       "      <td>...</td>\n",
       "      <td>...</td>\n",
       "      <td>...</td>\n",
       "    </tr>\n",
       "    <tr>\n",
       "      <th>595</th>\n",
       "      <td>Wheeler, Mr. Edwin Frederick</td>\n",
       "      <td>no</td>\n",
       "      <td>male</td>\n",
       "      <td>NaN</td>\n",
       "      <td>2nd</td>\n",
       "    </tr>\n",
       "    <tr>\n",
       "      <th>596</th>\n",
       "      <td>Wilhelms, Mr. Charles</td>\n",
       "      <td>yes</td>\n",
       "      <td>male</td>\n",
       "      <td>31.0</td>\n",
       "      <td>2nd</td>\n",
       "    </tr>\n",
       "    <tr>\n",
       "      <th>597</th>\n",
       "      <td>Williams, Mr. Charles Eugene</td>\n",
       "      <td>yes</td>\n",
       "      <td>male</td>\n",
       "      <td>NaN</td>\n",
       "      <td>2nd</td>\n",
       "    </tr>\n",
       "    <tr>\n",
       "      <th>598</th>\n",
       "      <td>Wright, Miss. Marion</td>\n",
       "      <td>yes</td>\n",
       "      <td>female</td>\n",
       "      <td>26.0</td>\n",
       "      <td>2nd</td>\n",
       "    </tr>\n",
       "    <tr>\n",
       "      <th>599</th>\n",
       "      <td>Yrois, Miss. Henriette (Mrs Ha</td>\n",
       "      <td>no</td>\n",
       "      <td>female</td>\n",
       "      <td>24.0</td>\n",
       "      <td>2nd</td>\n",
       "    </tr>\n",
       "  </tbody>\n",
       "</table>\n",
       "<p>277 rows × 5 columns</p>\n",
       "</div>"
      ],
      "text/plain": [
       "                                Name Survived  Gender   Age Class\n",
       "323              Abelson, Mr. Samuel       no    male  30.0   2nd\n",
       "324  Abelson, Mrs. Samuel (Hannah Wi      yes  female  28.0   2nd\n",
       "325   Aldworth, Mr. Charles Augustus       no    male  30.0   2nd\n",
       "326       Andrew, Mr. Edgardo Samuel       no    male  18.0   2nd\n",
       "327         Andrew, Mr. Frank Thomas       no    male  25.0   2nd\n",
       "..                               ...      ...     ...   ...   ...\n",
       "595     Wheeler, Mr. Edwin Frederick       no    male   NaN   2nd\n",
       "596            Wilhelms, Mr. Charles      yes    male  31.0   2nd\n",
       "597     Williams, Mr. Charles Eugene      yes    male   NaN   2nd\n",
       "598             Wright, Miss. Marion      yes  female  26.0   2nd\n",
       "599   Yrois, Miss. Henriette (Mrs Ha       no  female  24.0   2nd\n",
       "\n",
       "[277 rows x 5 columns]"
      ]
     },
     "execution_count": 94,
     "metadata": {},
     "output_type": "execute_result"
    }
   ],
   "source": [
    "Titanic_groupby_class.get_group('2nd')"
   ]
  },
  {
   "cell_type": "markdown",
   "id": "c5f03435-8e2b-42c5-879d-f19cd0cfd064",
   "metadata": {},
   "source": [
    "## 10.Group the dataset by passenger’s Survived Situation"
   ]
  },
  {
   "cell_type": "code",
   "execution_count": 95,
   "id": "2bc4d0cc-a31d-42f6-a8f8-a93b8454ac34",
   "metadata": {},
   "outputs": [],
   "source": [
    "Titanic_groupby_survived = Titanic_DF.groupby('Survived')"
   ]
  },
  {
   "cell_type": "code",
   "execution_count": 96,
   "id": "2cc72d7d-3ee6-4528-b338-6eb3c67065d5",
   "metadata": {},
   "outputs": [
    {
     "data": {
      "text/plain": [
       "{'no': [2, 3, 4, 7, 9, 10, 15, 16, 19, 25, 30, 34, 38, 39, 40, 45, 46, 51, 52, 53, 58, 60, 62, 70, 71, 74, 75, 77, 80, 81, 84, 89, 96, 101, 105, 106, 110, 114, 115, 118, 125, 126, 128, 132, 135, 138, 142, 147, 148, 150, 154, 156, 157, 158, 162, 166, 169, 171, 172, 173, 174, 175, 179, 184, 185, 189, 191, 194, 197, 200, 201, 203, 205, 206, 210, 211, 212, 215, 217, 221, 222, 223, 224, 225, 226, 228, 232, 234, 236, 237, 239, 241, 243, 244, 246, 248, 252, 262, 266, 267, ...], 'yes': [0, 1, 5, 6, 8, 11, 12, 13, 14, 17, 18, 20, 21, 22, 23, 24, 26, 27, 28, 29, 31, 32, 33, 35, 36, 37, 41, 42, 43, 44, 47, 48, 49, 50, 54, 55, 56, 57, 59, 61, 63, 64, 65, 66, 67, 68, 69, 72, 73, 76, 78, 79, 82, 83, 85, 86, 87, 88, 90, 91, 92, 93, 94, 95, 97, 98, 99, 100, 102, 103, 104, 107, 108, 109, 111, 112, 113, 116, 117, 119, 120, 121, 122, 123, 124, 127, 129, 130, 131, 133, 134, 136, 137, 139, 140, 141, 143, 144, 145, 146, ...]}"
      ]
     },
     "execution_count": 96,
     "metadata": {},
     "output_type": "execute_result"
    }
   ],
   "source": [
    "Titanic_groupby_survived.groups"
   ]
  },
  {
   "cell_type": "markdown",
   "id": "6b0790e2-7fa6-404d-97f2-1b7cd2b09c4b",
   "metadata": {},
   "source": [
    "## 11.find the total survivors’ count"
   ]
  },
  {
   "cell_type": "code",
   "execution_count": 97,
   "id": "5f334008-a760-42a0-909d-509e1aa8d970",
   "metadata": {},
   "outputs": [
    {
     "data": {
      "text/html": [
       "<div>\n",
       "<style scoped>\n",
       "    .dataframe tbody tr th:only-of-type {\n",
       "        vertical-align: middle;\n",
       "    }\n",
       "\n",
       "    .dataframe tbody tr th {\n",
       "        vertical-align: top;\n",
       "    }\n",
       "\n",
       "    .dataframe thead th {\n",
       "        text-align: right;\n",
       "    }\n",
       "</style>\n",
       "<table border=\"1\" class=\"dataframe\">\n",
       "  <thead>\n",
       "    <tr style=\"text-align: right;\">\n",
       "      <th></th>\n",
       "      <th>Name</th>\n",
       "      <th>Survived</th>\n",
       "      <th>Gender</th>\n",
       "      <th>Age</th>\n",
       "      <th>Class</th>\n",
       "    </tr>\n",
       "  </thead>\n",
       "  <tbody>\n",
       "    <tr>\n",
       "      <th>0</th>\n",
       "      <td>Allen, Miss. Elisabeth Walton</td>\n",
       "      <td>yes</td>\n",
       "      <td>female</td>\n",
       "      <td>29.0000</td>\n",
       "      <td>1st</td>\n",
       "    </tr>\n",
       "    <tr>\n",
       "      <th>1</th>\n",
       "      <td>Allison, Master. Hudson Trevor</td>\n",
       "      <td>yes</td>\n",
       "      <td>male</td>\n",
       "      <td>0.9167</td>\n",
       "      <td>1st</td>\n",
       "    </tr>\n",
       "    <tr>\n",
       "      <th>5</th>\n",
       "      <td>Anderson, Mr. Harry</td>\n",
       "      <td>yes</td>\n",
       "      <td>male</td>\n",
       "      <td>48.0000</td>\n",
       "      <td>1st</td>\n",
       "    </tr>\n",
       "    <tr>\n",
       "      <th>6</th>\n",
       "      <td>Andrews, Miss. Kornelia Theodos</td>\n",
       "      <td>yes</td>\n",
       "      <td>female</td>\n",
       "      <td>63.0000</td>\n",
       "      <td>1st</td>\n",
       "    </tr>\n",
       "    <tr>\n",
       "      <th>8</th>\n",
       "      <td>Appleton, Mrs. Edward Dale (Cha</td>\n",
       "      <td>yes</td>\n",
       "      <td>female</td>\n",
       "      <td>53.0000</td>\n",
       "      <td>1st</td>\n",
       "    </tr>\n",
       "    <tr>\n",
       "      <th>...</th>\n",
       "      <td>...</td>\n",
       "      <td>...</td>\n",
       "      <td>...</td>\n",
       "      <td>...</td>\n",
       "      <td>...</td>\n",
       "    </tr>\n",
       "    <tr>\n",
       "      <th>1261</th>\n",
       "      <td>Turkula, Mrs. (Hedwig)</td>\n",
       "      <td>yes</td>\n",
       "      <td>female</td>\n",
       "      <td>63.0000</td>\n",
       "      <td>3rd</td>\n",
       "    </tr>\n",
       "    <tr>\n",
       "      <th>1277</th>\n",
       "      <td>Vartanian, Mr. David</td>\n",
       "      <td>yes</td>\n",
       "      <td>male</td>\n",
       "      <td>22.0000</td>\n",
       "      <td>3rd</td>\n",
       "    </tr>\n",
       "    <tr>\n",
       "      <th>1286</th>\n",
       "      <td>Whabee, Mrs. George Joseph (Sha</td>\n",
       "      <td>yes</td>\n",
       "      <td>female</td>\n",
       "      <td>38.0000</td>\n",
       "      <td>3rd</td>\n",
       "    </tr>\n",
       "    <tr>\n",
       "      <th>1290</th>\n",
       "      <td>Wilkes, Mrs. James (Ellen Needs</td>\n",
       "      <td>yes</td>\n",
       "      <td>female</td>\n",
       "      <td>47.0000</td>\n",
       "      <td>3rd</td>\n",
       "    </tr>\n",
       "    <tr>\n",
       "      <th>1300</th>\n",
       "      <td>Yasbeck, Mrs. Antoni (Selini Al</td>\n",
       "      <td>yes</td>\n",
       "      <td>female</td>\n",
       "      <td>15.0000</td>\n",
       "      <td>3rd</td>\n",
       "    </tr>\n",
       "  </tbody>\n",
       "</table>\n",
       "<p>500 rows × 5 columns</p>\n",
       "</div>"
      ],
      "text/plain": [
       "                                 Name Survived  Gender      Age Class\n",
       "0       Allen, Miss. Elisabeth Walton      yes  female  29.0000   1st\n",
       "1      Allison, Master. Hudson Trevor      yes    male   0.9167   1st\n",
       "5                 Anderson, Mr. Harry      yes    male  48.0000   1st\n",
       "6     Andrews, Miss. Kornelia Theodos      yes  female  63.0000   1st\n",
       "8     Appleton, Mrs. Edward Dale (Cha      yes  female  53.0000   1st\n",
       "...                               ...      ...     ...      ...   ...\n",
       "1261           Turkula, Mrs. (Hedwig)      yes  female  63.0000   3rd\n",
       "1277             Vartanian, Mr. David      yes    male  22.0000   3rd\n",
       "1286  Whabee, Mrs. George Joseph (Sha      yes  female  38.0000   3rd\n",
       "1290  Wilkes, Mrs. James (Ellen Needs      yes  female  47.0000   3rd\n",
       "1300  Yasbeck, Mrs. Antoni (Selini Al      yes  female  15.0000   3rd\n",
       "\n",
       "[500 rows x 5 columns]"
      ]
     },
     "execution_count": 97,
     "metadata": {},
     "output_type": "execute_result"
    }
   ],
   "source": [
    "Titanic_groupby_survived.get_group('yes')"
   ]
  },
  {
   "cell_type": "code",
   "execution_count": 98,
   "id": "323aa42f-9892-46b2-b6a5-70309cc8b332",
   "metadata": {},
   "outputs": [
    {
     "data": {
      "text/plain": [
       "500"
      ]
     },
     "execution_count": 98,
     "metadata": {},
     "output_type": "execute_result"
    }
   ],
   "source": [
    "len(Titanic_groupby_survived.get_group('yes'))"
   ]
  },
  {
   "cell_type": "markdown",
   "id": "cda18668-8e59-4efd-b19c-c13fc5909c2a",
   "metadata": {},
   "source": [
    "## 12. find the youngest survivor age and name"
   ]
  },
  {
   "cell_type": "code",
   "execution_count": 99,
   "id": "c31c0d8c-f781-4c18-a04d-e91264123b88",
   "metadata": {},
   "outputs": [
    {
     "data": {
      "text/html": [
       "<div>\n",
       "<style scoped>\n",
       "    .dataframe tbody tr th:only-of-type {\n",
       "        vertical-align: middle;\n",
       "    }\n",
       "\n",
       "    .dataframe tbody tr th {\n",
       "        vertical-align: top;\n",
       "    }\n",
       "\n",
       "    .dataframe thead th {\n",
       "        text-align: right;\n",
       "    }\n",
       "</style>\n",
       "<table border=\"1\" class=\"dataframe\">\n",
       "  <thead>\n",
       "    <tr style=\"text-align: right;\">\n",
       "      <th></th>\n",
       "      <th>Name</th>\n",
       "      <th>Survived</th>\n",
       "      <th>Gender</th>\n",
       "      <th>Age</th>\n",
       "      <th>Class</th>\n",
       "    </tr>\n",
       "  </thead>\n",
       "  <tbody>\n",
       "    <tr>\n",
       "      <th>14</th>\n",
       "      <td>Barkworth, Mr. Algernon Henry W</td>\n",
       "      <td>yes</td>\n",
       "      <td>male</td>\n",
       "      <td>80.0</td>\n",
       "      <td>1st</td>\n",
       "    </tr>\n",
       "  </tbody>\n",
       "</table>\n",
       "</div>"
      ],
      "text/plain": [
       "                               Name Survived Gender   Age Class\n",
       "14  Barkworth, Mr. Algernon Henry W      yes   male  80.0   1st"
      ]
     },
     "execution_count": 99,
     "metadata": {},
     "output_type": "execute_result"
    }
   ],
   "source": [
    "Titanic_groupby_survived.get_group('yes')[Titanic_groupby_survived.get_group('yes')['Age'] == max(Titanic_groupby_survived.get_group('yes')['Age'])]"
   ]
  },
  {
   "cell_type": "code",
   "execution_count": 101,
   "id": "af2e4221-ebed-47aa-86d2-d79dec6983c3",
   "metadata": {},
   "outputs": [
    {
     "data": {
      "text/plain": [
       "500"
      ]
     },
     "execution_count": 101,
     "metadata": {},
     "output_type": "execute_result"
    }
   ],
   "source": [
    "len(Titanic_groupby_survived.get_group('yes'))"
   ]
  },
  {
   "cell_type": "markdown",
   "id": "c4b4d6af-6fa8-4d72-aff0-5bff8ab27910",
   "metadata": {},
   "source": [
    "## 13.Find the 2nd Class passenger’s average age"
   ]
  },
  {
   "cell_type": "code",
   "execution_count": 102,
   "id": "0076cc55-d685-4c32-81f3-9abaeeb875af",
   "metadata": {},
   "outputs": [],
   "source": [
    "import statistics"
   ]
  },
  {
   "cell_type": "code",
   "execution_count": 103,
   "id": "f76e9875-47ec-4552-9df4-fa94cd496290",
   "metadata": {},
   "outputs": [
    {
     "data": {
      "text/plain": [
       "29.506704980842912"
      ]
     },
     "execution_count": 103,
     "metadata": {},
     "output_type": "execute_result"
    }
   ],
   "source": [
    "average = statistics.mean(Titanic_groupby_class.get_group('2nd')['Age'].dropna())\n",
    "average"
   ]
  },
  {
   "cell_type": "code",
   "execution_count": 108,
   "id": "a814117d-0852-4d7a-ae92-4138ba79b4f0",
   "metadata": {},
   "outputs": [
    {
     "data": {
      "text/plain": [
       "323    30.0\n",
       "324    28.0\n",
       "325    30.0\n",
       "326    18.0\n",
       "327    25.0\n",
       "       ... \n",
       "595     NaN\n",
       "596    31.0\n",
       "597     NaN\n",
       "598    26.0\n",
       "599    24.0\n",
       "Name: Age, Length: 277, dtype: float64"
      ]
     },
     "execution_count": 108,
     "metadata": {},
     "output_type": "execute_result"
    }
   ],
   "source": [
    "Titanic_groupby_class.get_group('2nd')['Age']"
   ]
  },
  {
   "cell_type": "code",
   "execution_count": 28,
   "id": "d1760008-b4f8-4034-a017-7bbab23e0fe7",
   "metadata": {},
   "outputs": [
    {
     "data": {
      "text/plain": [
       "29.506704980842912"
      ]
     },
     "execution_count": 28,
     "metadata": {},
     "output_type": "execute_result"
    }
   ],
   "source": [
    "Titanic_groupby_class.get_group('2nd')['Age'].mean()"
   ]
  },
  {
   "cell_type": "markdown",
   "id": "2719e1d6-4f65-4ecf-9ddb-84f4a73657e6",
   "metadata": {},
   "source": [
    "## 14.Find the number of survivors of 3rd class passengers"
   ]
  },
  {
   "cell_type": "code",
   "execution_count": 29,
   "id": "ec7c9ce5-1533-4f20-8f1f-0f600e4d403c",
   "metadata": {},
   "outputs": [
    {
     "data": {
      "text/html": [
       "<div>\n",
       "<style scoped>\n",
       "    .dataframe tbody tr th:only-of-type {\n",
       "        vertical-align: middle;\n",
       "    }\n",
       "\n",
       "    .dataframe tbody tr th {\n",
       "        vertical-align: top;\n",
       "    }\n",
       "\n",
       "    .dataframe thead th {\n",
       "        text-align: right;\n",
       "    }\n",
       "</style>\n",
       "<table border=\"1\" class=\"dataframe\">\n",
       "  <thead>\n",
       "    <tr style=\"text-align: right;\">\n",
       "      <th></th>\n",
       "      <th>Name</th>\n",
       "      <th>Survived</th>\n",
       "      <th>Gender</th>\n",
       "      <th>Age</th>\n",
       "      <th>Class</th>\n",
       "    </tr>\n",
       "  </thead>\n",
       "  <tbody>\n",
       "    <tr>\n",
       "      <th>603</th>\n",
       "      <td>Abbott, Mrs. Stanton (Rosa Hunt</td>\n",
       "      <td>yes</td>\n",
       "      <td>female</td>\n",
       "      <td>35.0</td>\n",
       "      <td>3rd</td>\n",
       "    </tr>\n",
       "    <tr>\n",
       "      <th>604</th>\n",
       "      <td>Abelseth, Miss. Karen Marie</td>\n",
       "      <td>yes</td>\n",
       "      <td>female</td>\n",
       "      <td>16.0</td>\n",
       "      <td>3rd</td>\n",
       "    </tr>\n",
       "    <tr>\n",
       "      <th>605</th>\n",
       "      <td>Abelseth, Mr. Olaus Jorgensen</td>\n",
       "      <td>yes</td>\n",
       "      <td>male</td>\n",
       "      <td>25.0</td>\n",
       "      <td>3rd</td>\n",
       "    </tr>\n",
       "    <tr>\n",
       "      <th>606</th>\n",
       "      <td>Abrahamsson, Mr. Abraham August</td>\n",
       "      <td>yes</td>\n",
       "      <td>male</td>\n",
       "      <td>20.0</td>\n",
       "      <td>3rd</td>\n",
       "    </tr>\n",
       "    <tr>\n",
       "      <th>607</th>\n",
       "      <td>Abrahim, Mrs. Joseph (Sophie Ha</td>\n",
       "      <td>yes</td>\n",
       "      <td>female</td>\n",
       "      <td>18.0</td>\n",
       "      <td>3rd</td>\n",
       "    </tr>\n",
       "    <tr>\n",
       "      <th>...</th>\n",
       "      <td>...</td>\n",
       "      <td>...</td>\n",
       "      <td>...</td>\n",
       "      <td>...</td>\n",
       "      <td>...</td>\n",
       "    </tr>\n",
       "    <tr>\n",
       "      <th>1261</th>\n",
       "      <td>Turkula, Mrs. (Hedwig)</td>\n",
       "      <td>yes</td>\n",
       "      <td>female</td>\n",
       "      <td>63.0</td>\n",
       "      <td>3rd</td>\n",
       "    </tr>\n",
       "    <tr>\n",
       "      <th>1277</th>\n",
       "      <td>Vartanian, Mr. David</td>\n",
       "      <td>yes</td>\n",
       "      <td>male</td>\n",
       "      <td>22.0</td>\n",
       "      <td>3rd</td>\n",
       "    </tr>\n",
       "    <tr>\n",
       "      <th>1286</th>\n",
       "      <td>Whabee, Mrs. George Joseph (Sha</td>\n",
       "      <td>yes</td>\n",
       "      <td>female</td>\n",
       "      <td>38.0</td>\n",
       "      <td>3rd</td>\n",
       "    </tr>\n",
       "    <tr>\n",
       "      <th>1290</th>\n",
       "      <td>Wilkes, Mrs. James (Ellen Needs</td>\n",
       "      <td>yes</td>\n",
       "      <td>female</td>\n",
       "      <td>47.0</td>\n",
       "      <td>3rd</td>\n",
       "    </tr>\n",
       "    <tr>\n",
       "      <th>1300</th>\n",
       "      <td>Yasbeck, Mrs. Antoni (Selini Al</td>\n",
       "      <td>yes</td>\n",
       "      <td>female</td>\n",
       "      <td>15.0</td>\n",
       "      <td>3rd</td>\n",
       "    </tr>\n",
       "  </tbody>\n",
       "</table>\n",
       "<p>181 rows × 5 columns</p>\n",
       "</div>"
      ],
      "text/plain": [
       "                                 Name Survived  Gender   Age Class\n",
       "603   Abbott, Mrs. Stanton (Rosa Hunt      yes  female  35.0   3rd\n",
       "604       Abelseth, Miss. Karen Marie      yes  female  16.0   3rd\n",
       "605     Abelseth, Mr. Olaus Jorgensen      yes    male  25.0   3rd\n",
       "606   Abrahamsson, Mr. Abraham August      yes    male  20.0   3rd\n",
       "607   Abrahim, Mrs. Joseph (Sophie Ha      yes  female  18.0   3rd\n",
       "...                               ...      ...     ...   ...   ...\n",
       "1261           Turkula, Mrs. (Hedwig)      yes  female  63.0   3rd\n",
       "1277             Vartanian, Mr. David      yes    male  22.0   3rd\n",
       "1286  Whabee, Mrs. George Joseph (Sha      yes  female  38.0   3rd\n",
       "1290  Wilkes, Mrs. James (Ellen Needs      yes  female  47.0   3rd\n",
       "1300  Yasbeck, Mrs. Antoni (Selini Al      yes  female  15.0   3rd\n",
       "\n",
       "[181 rows x 5 columns]"
      ]
     },
     "execution_count": 29,
     "metadata": {},
     "output_type": "execute_result"
    }
   ],
   "source": [
    "third_class_survived = Titanic_groupby_survived.get_group('yes')[Titanic_groupby_survived.get_group('yes')['Class'] == '3rd']\n",
    "third_class_survived"
   ]
  },
  {
   "cell_type": "code",
   "execution_count": 30,
   "id": "3d26f34e-fd12-4589-881f-71761e808aaa",
   "metadata": {},
   "outputs": [
    {
     "data": {
      "text/html": [
       "<div>\n",
       "<style scoped>\n",
       "    .dataframe tbody tr th:only-of-type {\n",
       "        vertical-align: middle;\n",
       "    }\n",
       "\n",
       "    .dataframe tbody tr th {\n",
       "        vertical-align: top;\n",
       "    }\n",
       "\n",
       "    .dataframe thead th {\n",
       "        text-align: right;\n",
       "    }\n",
       "</style>\n",
       "<table border=\"1\" class=\"dataframe\">\n",
       "  <thead>\n",
       "    <tr style=\"text-align: right;\">\n",
       "      <th></th>\n",
       "      <th>Name</th>\n",
       "      <th>Survived</th>\n",
       "      <th>Gender</th>\n",
       "      <th>Age</th>\n",
       "      <th>Class</th>\n",
       "    </tr>\n",
       "  </thead>\n",
       "  <tbody>\n",
       "    <tr>\n",
       "      <th>603</th>\n",
       "      <td>Abbott, Mrs. Stanton (Rosa Hunt</td>\n",
       "      <td>yes</td>\n",
       "      <td>female</td>\n",
       "      <td>35.0</td>\n",
       "      <td>3rd</td>\n",
       "    </tr>\n",
       "    <tr>\n",
       "      <th>604</th>\n",
       "      <td>Abelseth, Miss. Karen Marie</td>\n",
       "      <td>yes</td>\n",
       "      <td>female</td>\n",
       "      <td>16.0</td>\n",
       "      <td>3rd</td>\n",
       "    </tr>\n",
       "    <tr>\n",
       "      <th>605</th>\n",
       "      <td>Abelseth, Mr. Olaus Jorgensen</td>\n",
       "      <td>yes</td>\n",
       "      <td>male</td>\n",
       "      <td>25.0</td>\n",
       "      <td>3rd</td>\n",
       "    </tr>\n",
       "    <tr>\n",
       "      <th>606</th>\n",
       "      <td>Abrahamsson, Mr. Abraham August</td>\n",
       "      <td>yes</td>\n",
       "      <td>male</td>\n",
       "      <td>20.0</td>\n",
       "      <td>3rd</td>\n",
       "    </tr>\n",
       "    <tr>\n",
       "      <th>607</th>\n",
       "      <td>Abrahim, Mrs. Joseph (Sophie Ha</td>\n",
       "      <td>yes</td>\n",
       "      <td>female</td>\n",
       "      <td>18.0</td>\n",
       "      <td>3rd</td>\n",
       "    </tr>\n",
       "    <tr>\n",
       "      <th>...</th>\n",
       "      <td>...</td>\n",
       "      <td>...</td>\n",
       "      <td>...</td>\n",
       "      <td>...</td>\n",
       "      <td>...</td>\n",
       "    </tr>\n",
       "    <tr>\n",
       "      <th>1261</th>\n",
       "      <td>Turkula, Mrs. (Hedwig)</td>\n",
       "      <td>yes</td>\n",
       "      <td>female</td>\n",
       "      <td>63.0</td>\n",
       "      <td>3rd</td>\n",
       "    </tr>\n",
       "    <tr>\n",
       "      <th>1277</th>\n",
       "      <td>Vartanian, Mr. David</td>\n",
       "      <td>yes</td>\n",
       "      <td>male</td>\n",
       "      <td>22.0</td>\n",
       "      <td>3rd</td>\n",
       "    </tr>\n",
       "    <tr>\n",
       "      <th>1286</th>\n",
       "      <td>Whabee, Mrs. George Joseph (Sha</td>\n",
       "      <td>yes</td>\n",
       "      <td>female</td>\n",
       "      <td>38.0</td>\n",
       "      <td>3rd</td>\n",
       "    </tr>\n",
       "    <tr>\n",
       "      <th>1290</th>\n",
       "      <td>Wilkes, Mrs. James (Ellen Needs</td>\n",
       "      <td>yes</td>\n",
       "      <td>female</td>\n",
       "      <td>47.0</td>\n",
       "      <td>3rd</td>\n",
       "    </tr>\n",
       "    <tr>\n",
       "      <th>1300</th>\n",
       "      <td>Yasbeck, Mrs. Antoni (Selini Al</td>\n",
       "      <td>yes</td>\n",
       "      <td>female</td>\n",
       "      <td>15.0</td>\n",
       "      <td>3rd</td>\n",
       "    </tr>\n",
       "  </tbody>\n",
       "</table>\n",
       "<p>181 rows × 5 columns</p>\n",
       "</div>"
      ],
      "text/plain": [
       "                                 Name Survived  Gender   Age Class\n",
       "603   Abbott, Mrs. Stanton (Rosa Hunt      yes  female  35.0   3rd\n",
       "604       Abelseth, Miss. Karen Marie      yes  female  16.0   3rd\n",
       "605     Abelseth, Mr. Olaus Jorgensen      yes    male  25.0   3rd\n",
       "606   Abrahamsson, Mr. Abraham August      yes    male  20.0   3rd\n",
       "607   Abrahim, Mrs. Joseph (Sophie Ha      yes  female  18.0   3rd\n",
       "...                               ...      ...     ...   ...   ...\n",
       "1261           Turkula, Mrs. (Hedwig)      yes  female  63.0   3rd\n",
       "1277             Vartanian, Mr. David      yes    male  22.0   3rd\n",
       "1286  Whabee, Mrs. George Joseph (Sha      yes  female  38.0   3rd\n",
       "1290  Wilkes, Mrs. James (Ellen Needs      yes  female  47.0   3rd\n",
       "1300  Yasbeck, Mrs. Antoni (Selini Al      yes  female  15.0   3rd\n",
       "\n",
       "[181 rows x 5 columns]"
      ]
     },
     "execution_count": 30,
     "metadata": {},
     "output_type": "execute_result"
    }
   ],
   "source": [
    "survivor_class = Titanic_groupby_survived.get_group('yes').groupby('Class')\n",
    "survivor_class.get_group('3rd')\n"
   ]
  },
  {
   "cell_type": "markdown",
   "id": "2dbd4c9f-a1b2-4a0b-ab16-506de9232b44",
   "metadata": {},
   "source": [
    "## 15.Find the average age of those who died from 1st class passengers"
   ]
  },
  {
   "cell_type": "code",
   "execution_count": 31,
   "id": "56c1b9d9-78f0-4485-9314-f056aa4f1dae",
   "metadata": {},
   "outputs": [
    {
     "data": {
      "text/html": [
       "<div>\n",
       "<style scoped>\n",
       "    .dataframe tbody tr th:only-of-type {\n",
       "        vertical-align: middle;\n",
       "    }\n",
       "\n",
       "    .dataframe tbody tr th {\n",
       "        vertical-align: top;\n",
       "    }\n",
       "\n",
       "    .dataframe thead th {\n",
       "        text-align: right;\n",
       "    }\n",
       "</style>\n",
       "<table border=\"1\" class=\"dataframe\">\n",
       "  <thead>\n",
       "    <tr style=\"text-align: right;\">\n",
       "      <th></th>\n",
       "      <th>Name</th>\n",
       "      <th>Survived</th>\n",
       "      <th>Gender</th>\n",
       "      <th>Age</th>\n",
       "      <th>Class</th>\n",
       "    </tr>\n",
       "  </thead>\n",
       "  <tbody>\n",
       "    <tr>\n",
       "      <th>2</th>\n",
       "      <td>Allison, Miss. Helen Loraine</td>\n",
       "      <td>no</td>\n",
       "      <td>female</td>\n",
       "      <td>2.0</td>\n",
       "      <td>1st</td>\n",
       "    </tr>\n",
       "    <tr>\n",
       "      <th>3</th>\n",
       "      <td>Allison, Mr. Hudson Joshua Crei</td>\n",
       "      <td>no</td>\n",
       "      <td>male</td>\n",
       "      <td>30.0</td>\n",
       "      <td>1st</td>\n",
       "    </tr>\n",
       "    <tr>\n",
       "      <th>4</th>\n",
       "      <td>Allison, Mrs. Hudson J C (Bessi</td>\n",
       "      <td>no</td>\n",
       "      <td>female</td>\n",
       "      <td>25.0</td>\n",
       "      <td>1st</td>\n",
       "    </tr>\n",
       "    <tr>\n",
       "      <th>7</th>\n",
       "      <td>Andrews, Mr. Thomas Jr</td>\n",
       "      <td>no</td>\n",
       "      <td>male</td>\n",
       "      <td>39.0</td>\n",
       "      <td>1st</td>\n",
       "    </tr>\n",
       "    <tr>\n",
       "      <th>9</th>\n",
       "      <td>Artagaveytia, Mr. Ramon</td>\n",
       "      <td>no</td>\n",
       "      <td>male</td>\n",
       "      <td>71.0</td>\n",
       "      <td>1st</td>\n",
       "    </tr>\n",
       "    <tr>\n",
       "      <th>...</th>\n",
       "      <td>...</td>\n",
       "      <td>...</td>\n",
       "      <td>...</td>\n",
       "      <td>...</td>\n",
       "      <td>...</td>\n",
       "    </tr>\n",
       "    <tr>\n",
       "      <th>312</th>\n",
       "      <td>Widener, Mr. George Dunton</td>\n",
       "      <td>no</td>\n",
       "      <td>male</td>\n",
       "      <td>50.0</td>\n",
       "      <td>1st</td>\n",
       "    </tr>\n",
       "    <tr>\n",
       "      <th>313</th>\n",
       "      <td>Widener, Mr. Harry Elkins</td>\n",
       "      <td>no</td>\n",
       "      <td>male</td>\n",
       "      <td>27.0</td>\n",
       "      <td>1st</td>\n",
       "    </tr>\n",
       "    <tr>\n",
       "      <th>316</th>\n",
       "      <td>Williams, Mr. Charles Duane</td>\n",
       "      <td>no</td>\n",
       "      <td>male</td>\n",
       "      <td>51.0</td>\n",
       "      <td>1st</td>\n",
       "    </tr>\n",
       "    <tr>\n",
       "      <th>318</th>\n",
       "      <td>Williams-Lambert, Mr. Fletcher</td>\n",
       "      <td>no</td>\n",
       "      <td>male</td>\n",
       "      <td>NaN</td>\n",
       "      <td>1st</td>\n",
       "    </tr>\n",
       "    <tr>\n",
       "      <th>321</th>\n",
       "      <td>Wright, Mr. George</td>\n",
       "      <td>no</td>\n",
       "      <td>male</td>\n",
       "      <td>62.0</td>\n",
       "      <td>1st</td>\n",
       "    </tr>\n",
       "  </tbody>\n",
       "</table>\n",
       "<p>123 rows × 5 columns</p>\n",
       "</div>"
      ],
      "text/plain": [
       "                                Name Survived  Gender   Age Class\n",
       "2       Allison, Miss. Helen Loraine       no  female   2.0   1st\n",
       "3    Allison, Mr. Hudson Joshua Crei       no    male  30.0   1st\n",
       "4    Allison, Mrs. Hudson J C (Bessi       no  female  25.0   1st\n",
       "7             Andrews, Mr. Thomas Jr       no    male  39.0   1st\n",
       "9            Artagaveytia, Mr. Ramon       no    male  71.0   1st\n",
       "..                               ...      ...     ...   ...   ...\n",
       "312       Widener, Mr. George Dunton       no    male  50.0   1st\n",
       "313        Widener, Mr. Harry Elkins       no    male  27.0   1st\n",
       "316      Williams, Mr. Charles Duane       no    male  51.0   1st\n",
       "318   Williams-Lambert, Mr. Fletcher       no    male   NaN   1st\n",
       "321               Wright, Mr. George       no    male  62.0   1st\n",
       "\n",
       "[123 rows x 5 columns]"
      ]
     },
     "execution_count": 31,
     "metadata": {},
     "output_type": "execute_result"
    }
   ],
   "source": [
    "first_class_unsurvived = Titanic_groupby_survived.get_group('no')[Titanic_groupby_survived.get_group('no')['Class'] == '1st']\n",
    "first_class_unsurvived"
   ]
  },
  {
   "cell_type": "code",
   "execution_count": 32,
   "id": "1c354f34-b3cf-4331-ba55-4dc7bc727f17",
   "metadata": {},
   "outputs": [
    {
     "data": {
      "text/plain": [
       "43.24757281553398"
      ]
     },
     "execution_count": 32,
     "metadata": {},
     "output_type": "execute_result"
    }
   ],
   "source": [
    "statistics.mean(first_class_unsurvived['Age'].dropna())"
   ]
  },
  {
   "cell_type": "markdown",
   "id": "d89ca926-e7c5-44ea-8b00-2b81f6fdee09",
   "metadata": {},
   "source": [
    "## 16.Create a pie chart that showed the distribution of passengers by class"
   ]
  },
  {
   "cell_type": "code",
   "execution_count": 33,
   "id": "495c09ff-d839-47f8-afed-12e4f7a2cba5",
   "metadata": {},
   "outputs": [],
   "source": [
    "import matplotlib.pyplot as plt"
   ]
  },
  {
   "cell_type": "code",
   "execution_count": 34,
   "id": "2f393f99-477f-450b-ba63-cbc32c1bee05",
   "metadata": {},
   "outputs": [],
   "source": [
    "labels = ['1st' , '2nd' , '3rd']"
   ]
  },
  {
   "cell_type": "code",
   "execution_count": 35,
   "id": "bfe62c65-05a6-40bc-88ab-0d636ac1aef8",
   "metadata": {},
   "outputs": [
    {
     "data": {
      "text/plain": [
       "Class\n",
       "3rd    709\n",
       "1st    323\n",
       "2nd    277\n",
       "Name: count, dtype: int64"
      ]
     },
     "execution_count": 35,
     "metadata": {},
     "output_type": "execute_result"
    }
   ],
   "source": [
    "# محاسبه تعداد مسافران در هر کلاس\n",
    "\n",
    "class_counts = Titanic_DF['Class'].value_counts()\n",
    "class_counts"
   ]
  },
  {
   "cell_type": "code",
   "execution_count": 36,
   "id": "19f18d09-75fa-48de-9a6f-3e5a417a918c",
   "metadata": {},
   "outputs": [
    {
     "data": {
      "text/plain": [
       "Class\n",
       "3rd    54.163484\n",
       "1st    24.675325\n",
       "2nd    21.161192\n",
       "Name: count, dtype: float64"
      ]
     },
     "execution_count": 36,
     "metadata": {},
     "output_type": "execute_result"
    }
   ],
   "source": [
    "# محاسبه درصد\n",
    "class_percentages = class_counts / class_counts.sum() * 100\n",
    "class_percentages"
   ]
  },
  {
   "cell_type": "code",
   "execution_count": 37,
   "id": "bc5e748a-5469-4d80-b0fe-e5d0c81438aa",
   "metadata": {},
   "outputs": [
    {
     "data": {
      "image/png": "[encoded data removed]",
      "text/plain": [
       "<Figure size 640x480 with 1 Axes>"
      ]
     },
     "metadata": {},
     "output_type": "display_data"
    }
   ],
   "source": [
    "plt.pie(class_percentages, labels = class_percentages.index , autopct = '%1.1f%%', startangle = 90)\n",
    "plt.show()"
   ]
  },
  {
   "cell_type": "code",
   "execution_count": 43,
   "id": "4651c9d4-565b-4d05-bdfa-dbe522c6a1d8",
   "metadata": {},
   "outputs": [
    {
     "data": {
      "text/plain": [
       "(323, 277, 709)"
      ]
     },
     "execution_count": 43,
     "metadata": {},
     "output_type": "execute_result"
    }
   ],
   "source": [
    "sizes = len(Titanic_groupby_class.get_group('1st')), len(Titanic_groupby_class.get_group('2nd')), len(Titanic_groupby_class.get_group('3rd'))\n",
    "sizes"
   ]
  },
  {
   "cell_type": "code",
   "execution_count": 47,
   "id": "a43d1dbc-0509-477f-a028-710e7ebb3239",
   "metadata": {},
   "outputs": [
    {
     "data": {
      "image/png": "[encoded data removed]",
      "text/plain": [
       "<Figure size 640x480 with 1 Axes>"
      ]
     },
     "metadata": {},
     "output_type": "display_data"
    }
   ],
   "source": [
    "Figure , Axes = plt.subplots()\n",
    "Axes.pie(sizes , labels = labels, autopct = '%1.1f%%')\n",
    "plt.show()"
   ]
  },
  {
   "cell_type": "markdown",
   "id": "be237ab5-ad52-41d7-a113-7144ad3cbef1",
   "metadata": {},
   "source": [
    "## 17.Create a histogram that showed the distribution of passengers by age"
   ]
  },
  {
   "cell_type": "code",
   "execution_count": 39,
   "id": "c034f84a-1122-46bc-9836-31fadac70dfa",
   "metadata": {},
   "outputs": [
    {
     "data": {
      "text/plain": [
       "0       29.0000\n",
       "1        0.9167\n",
       "2        2.0000\n",
       "3       30.0000\n",
       "4       25.0000\n",
       "         ...   \n",
       "1301    45.5000\n",
       "1304    14.5000\n",
       "1306    26.5000\n",
       "1307    27.0000\n",
       "1308    29.0000\n",
       "Name: Age, Length: 1046, dtype: float64"
      ]
     },
     "execution_count": 39,
     "metadata": {},
     "output_type": "execute_result"
    }
   ],
   "source": [
    "Titanic_DF_Ages = Titanic_DF['Age'].dropna()\n",
    "Titanic_DF_Ages"
   ]
  },
  {
   "cell_type": "code",
   "execution_count": 40,
   "id": "0b0d6d38-6240-448d-8844-f4a952d8083a",
   "metadata": {},
   "outputs": [
    {
     "data": {
      "text/plain": [
       "<matplotlib.lines.Line2D at 0x18731301050>"
      ]
     },
     "execution_count": 40,
     "metadata": {},
     "output_type": "execute_result"
    },
    {
     "data": {
      "image/png": "[encoded data removed]",
      "text/plain": [
       "<Figure size 640x480 with 1 Axes>"
      ]
     },
     "metadata": {},
     "output_type": "display_data"
    }
   ],
   "source": [
    "nbins = 8\n",
    "n , bins , patches = plt.hist(Titanic_DF_Ages , bins = nbins)\n",
    "plt.xlabel('People Ages')\n",
    "plt.ylabel('Frequency')\n",
    "plt.axvline(x = Titanic_DF_Ages.mean(), linewidth = 2 , color = 'red')"
   ]
  },
  {
   "cell_type": "code",
   "execution_count": 41,
   "id": "a81d5e14-5ca8-4e9c-a38c-7b4fe2165fe2",
   "metadata": {},
   "outputs": [
    {
     "data": {
      "text/plain": [
       "0.166700006"
      ]
     },
     "execution_count": 41,
     "metadata": {},
     "output_type": "execute_result"
    }
   ],
   "source": [
    "min(Titanic_DF_Ages)"
   ]
  },
  {
   "cell_type": "code",
   "execution_count": 42,
   "id": "f931c7c7-7220-4422-ae1a-362e1bcedf0e",
   "metadata": {},
   "outputs": [
    {
     "data": {
      "text/plain": [
       "80.0"
      ]
     },
     "execution_count": 42,
     "metadata": {},
     "output_type": "execute_result"
    }
   ],
   "source": [
    "max(Titanic_DF_Ages)"
   ]
  },
  {
   "cell_type": "code",
   "execution_count": 48,
   "id": "d4268aba-676f-4d97-ba53-7dde0106dbee",
   "metadata": {},
   "outputs": [
    {
     "data": {
      "image/png": "[encoded data removed]",
      "text/plain": [
       "<Figure size 640x480 with 1 Axes>"
      ]
     },
     "metadata": {},
     "output_type": "display_data"
    }
   ],
   "source": [
    "Histogram = Titanic_DF.hist()"
   ]
  },
  {
   "cell_type": "code",
   "execution_count": null,
   "id": "afa6ba14-6585-4aa1-bad3-798b54ff7e93",
   "metadata": {},
   "outputs": [],
   "source": []
  }
 ],
 "metadata": {
  "kernelspec": {
   "display_name": "Python 3 (ipykernel)",
   "language": "python",
   "name": "python3"
  },
  "language_info": {
   "codemirror_mode": {
    "name": "ipython",
    "version": 3
   },
   "file_extension": ".py",
   "mimetype": "text/x-python",
   "name": "python",
   "nbconvert_exporter": "python",
   "pygments_lexer": "ipython3",
   "version": "3.12.4"
  }
 },
 "nbformat": 4,
 "nbformat_minor": 5
}
