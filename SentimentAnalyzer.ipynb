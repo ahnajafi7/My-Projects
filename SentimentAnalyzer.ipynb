{
  "nbformat": 4,
  "nbformat_minor": 0,
  "metadata": {
    "colab": {
      "provenance": [],
      "authorship_tag": "ABX9TyMrDQQT6Wx8yZ11u7xVIfJM",
      "include_colab_link": true
    },
    "kernelspec": {
      "name": "python3",
      "display_name": "Python 3"
    },
    "language_info": {
      "name": "python"
    }
  },
  "cells": [
    {
      "cell_type": "markdown",
      "metadata": {
        "id": "view-in-github",
        "colab_type": "text"
      },
      "source": [
        "<a href=\"https://colab.research.google.com/github/ahnajafi7/My-Projects/blob/main/SentimentAnalyzer.ipynb\" target=\"_parent\"><img src=\"https://colab.research.google.com/assets/colab-badge.svg\" alt=\"Open In Colab\"/></a>"
      ]
    },
    {
      "cell_type": "code",
      "execution_count": 1,
      "metadata": {
        "colab": {
          "base_uri": "https://localhost:8080/"
        },
        "id": "qfFZWfJ4Lrfs",
        "outputId": "023fe70e-ab06-49e1-9ae8-2ba506554bae"
      },
      "outputs": [
        {
          "output_type": "stream",
          "name": "stdout",
          "text": [
            "Requirement already satisfied: textblob in /usr/local/lib/python3.10/dist-packages (0.17.1)\n",
            "Requirement already satisfied: nltk in /usr/local/lib/python3.10/dist-packages (3.8.1)\n",
            "Requirement already satisfied: click in /usr/local/lib/python3.10/dist-packages (from nltk) (8.1.7)\n",
            "Requirement already satisfied: joblib in /usr/local/lib/python3.10/dist-packages (from nltk) (1.4.2)\n",
            "Requirement already satisfied: regex>=2021.8.3 in /usr/local/lib/python3.10/dist-packages (from nltk) (2024.9.11)\n",
            "Requirement already satisfied: tqdm in /usr/local/lib/python3.10/dist-packages (from nltk) (4.66.5)\n"
          ]
        }
      ],
      "source": [
        "pip install textblob nltk"
      ]
    },
    {
      "cell_type": "code",
      "source": [
        "import nltk\n",
        "nltk.download('punkt')\n",
        "nltk.download('stopwords')"
      ],
      "metadata": {
        "colab": {
          "base_uri": "https://localhost:8080/"
        },
        "id": "GYrPkV-1TDAl",
        "outputId": "5d7bc9e7-eadc-40e5-f13c-3ae281faf016"
      },
      "execution_count": 11,
      "outputs": [
        {
          "output_type": "stream",
          "name": "stderr",
          "text": [
            "[nltk_data] Downloading package punkt to /root/nltk_data...\n",
            "[nltk_data]   Package punkt is already up-to-date!\n",
            "[nltk_data] Downloading package stopwords to /root/nltk_data...\n",
            "[nltk_data]   Package stopwords is already up-to-date!\n"
          ]
        },
        {
          "output_type": "execute_result",
          "data": {
            "text/plain": [
              "True"
            ]
          },
          "metadata": {},
          "execution_count": 11
        }
      ]
    },
    {
      "cell_type": "code",
      "source": [
        "from textblob import TextBlob\n",
        "from nltk.corpus import stopwords\n"
      ],
      "metadata": {
        "id": "aiRHnYhBV_V6"
      },
      "execution_count": 12,
      "outputs": []
    },
    {
      "cell_type": "code",
      "source": [
        "# (stopwords)دانلود لیست کلمات بی اهمیت انگلیسی\n",
        "stop_words = set(stopwords.words('english'))\n",
        "print(stop_words)"
      ],
      "metadata": {
        "colab": {
          "base_uri": "https://localhost:8080/"
        },
        "id": "ftPwTm6qchcR",
        "outputId": "3702663c-c375-4a8b-935b-cbab2d7243f2"
      },
      "execution_count": 15,
      "outputs": [
        {
          "output_type": "stream",
          "name": "stdout",
          "text": [
            "{'then', \"hasn't\", 'yours', 'haven', 'for', \"should've\", 'the', 'all', 'own', 'your', 'has', 'yourself', 'but', 'will', 'ma', 'his', 'no', \"don't\", 'to', \"doesn't\", 'can', 'these', 'were', 'themselves', 'did', 'by', 'over', 'hasn', 'there', 'shouldn', 'her', 'at', \"it's\", 'll', 'between', 'only', 'didn', 'wouldn', 'each', 'than', 'while', 'aren', 'are', 'few', 'mustn', 'isn', \"haven't\", 'where', 'them', 'himself', 'an', 's', 'doing', 'any', 'have', 'he', \"shan't\", \"that'll\", 'their', 've', \"shouldn't\", 'she', 'so', 'once', 'because', 'hers', \"couldn't\", 'both', 'whom', 'ain', 'now', 'won', 'which', 'been', 'of', 'nor', 'just', 'not', 'a', 'had', 'more', 'when', 'be', 'this', 'out', 'through', 'on', 'don', 'our', \"wasn't\", 'here', 'needn', 'they', \"isn't\", 'me', 'yourselves', 'same', 'until', 'being', 'm', 'weren', 'those', 'with', \"mustn't\", 'some', 'into', 'wasn', \"needn't\", 'we', 'doesn', 'it', 'ours', 'below', 'before', 'that', 'should', 'its', 'why', \"aren't\", 'up', 'was', 'am', 'about', 'y', 'do', 'down', 'or', 'my', 'itself', 'who', 'does', 'as', 'is', 'you', \"won't\", 'if', 't', 'after', 'what', 'most', \"didn't\", 'him', 'and', 'myself', \"hadn't\", 'how', 'i', 'against', \"wouldn't\", 'in', \"you'll\", \"she's\", 'very', 'other', 'mightn', \"you'd\", 'shan', \"mightn't\", \"weren't\", 'couldn', 'o', 're', \"you've\", 'having', 'from', 'too', 'hadn', 'theirs', 'during', 'such', 'ourselves', 'd', 'herself', 'off', 'again', 'further', 'above', \"you're\", 'under'}\n"
          ]
        }
      ]
    },
    {
      "cell_type": "code",
      "source": [
        "# ساخت تابع برای حذف کلمات بی اهمیت از جمله\n",
        "def remove_stopwords(text):\n",
        "  words = text.split() # جداکردن کلمات جمله\n",
        "  filtered_words = [word for word in words if word.lower() not in stop_words]  # حذف کلمات بی‌اهمیت\n",
        "  return \" \".join(filtered_words)\n",
        "  #return words\n",
        "  #return filtered_words"
      ],
      "metadata": {
        "id": "n2j8GsqDgkY0"
      },
      "execution_count": 35,
      "outputs": []
    },
    {
      "cell_type": "code",
      "source": [
        "# گرفتن جمله از کاربر\n",
        "text = input(\"یک جمله وارد کنید: \")"
      ],
      "metadata": {
        "colab": {
          "base_uri": "https://localhost:8080/"
        },
        "id": "iRo4s0ddrsND",
        "outputId": "3e3d765d-04f2-4c2f-9028-a91009e25373"
      },
      "execution_count": 33,
      "outputs": [
        {
          "name": "stdout",
          "output_type": "stream",
          "text": [
            "یک جمله وارد کنید:  Iranians are a very proud people with a heritage going back 2,500 years to the Great Persian Empire.\n"
          ]
        }
      ]
    },
    {
      "cell_type": "code",
      "source": [
        "# حذف کلمات بی‌اهمیت\n",
        "cleaned_text = remove_stopwords(text)\n",
        "print(f\"جمله پس از حذف کلمات بی‌اهمیت: {cleaned_text}\")"
      ],
      "metadata": {
        "colab": {
          "base_uri": "https://localhost:8080/"
        },
        "id": "do3hBOwZrz2k",
        "outputId": "5d21cd6d-3b08-4178-cd0a-7bbf45ddbd53"
      },
      "execution_count": 36,
      "outputs": [
        {
          "output_type": "stream",
          "name": "stdout",
          "text": [
            "جمله پس از حذف کلمات بی‌اهمیت: Iranians proud people heritage going back 2,500 years Great Persian Empire.\n"
          ]
        }
      ]
    },
    {
      "cell_type": "code",
      "source": [
        "#برای تحلیل جملهTextBlobساخت شی\n",
        "blob = TextBlob(cleaned_text)"
      ],
      "metadata": {
        "id": "OrJJ6GcAtjSa"
      },
      "execution_count": 38,
      "outputs": []
    },
    {
      "cell_type": "code",
      "source": [
        "#تحلیل احساسات\n",
        "sentiment = blob.sentiment.polarity"
      ],
      "metadata": {
        "id": "U7RhdBDo7wZz"
      },
      "execution_count": 39,
      "outputs": []
    },
    {
      "cell_type": "code",
      "source": [
        "# بررسی مثبت یا منفی بودن احساسات\n",
        "if sentiment > 0:\n",
        "    print(\"احساس این جمله مثبت است.\")\n",
        "elif sentiment < 0:\n",
        "    print(\"احساس این جمله منفی است.\")\n",
        "else:\n",
        "    print(\"احساس این جمله خنثی است.\")"
      ],
      "metadata": {
        "colab": {
          "base_uri": "https://localhost:8080/"
        },
        "id": "C64pUlQA8bMK",
        "outputId": "8bdc2e7d-ffb3-4c0b-8fba-ab61910d1a02"
      },
      "execution_count": 41,
      "outputs": [
        {
          "output_type": "stream",
          "name": "stdout",
          "text": [
            "احساس این جمله مثبت است.\n"
          ]
        }
      ]
    },
    {
      "cell_type": "code",
      "source": [],
      "metadata": {
        "id": "1mDmw9JI8fAX"
      },
      "execution_count": null,
      "outputs": []
    }
  ]
}