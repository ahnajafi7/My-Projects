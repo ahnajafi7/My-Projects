{
  "cells": [
    {
      "cell_type": "code",
      "execution_count": 1,
      "metadata": {
        "id": "SjZpy81Gx_cu"
      },
      "outputs": [],
      "source": [
        "import pandas as pd\n",
        "import numpy as np\n",
        "import plotly.express as px\n",
        "import plotly.graph_objects as go\n",
        "import plotly.figure_factory as ff\n",
        "import os"
      ]
    },
    {
      "cell_type": "code",
      "source": [
        "pip install opendatasets"
      ],
      "metadata": {
        "colab": {
          "base_uri": "https://localhost:8080/"
        },
        "id": "8y4-WSyhXwx3",
        "outputId": "74ac9991-cdd3-49ad-aa7e-347cc7cb196e"
      },
      "execution_count": 3,
      "outputs": [
        {
          "output_type": "stream",
          "name": "stdout",
          "text": [
            "Collecting opendatasets\n",
            "  Downloading opendatasets-0.1.22-py3-none-any.whl.metadata (9.2 kB)\n",
            "Requirement already satisfied: tqdm in /usr/local/lib/python3.11/dist-packages (from opendatasets) (4.67.1)\n",
            "Requirement already satisfied: kaggle in /usr/local/lib/python3.11/dist-packages (from opendatasets) (1.6.17)\n",
            "Requirement already satisfied: click in /usr/local/lib/python3.11/dist-packages (from opendatasets) (8.1.8)\n",
            "Requirement already satisfied: six>=1.10 in /usr/local/lib/python3.11/dist-packages (from kaggle->opendatasets) (1.17.0)\n",
            "Requirement already satisfied: certifi>=2023.7.22 in /usr/local/lib/python3.11/dist-packages (from kaggle->opendatasets) (2025.1.31)\n",
            "Requirement already satisfied: python-dateutil in /usr/local/lib/python3.11/dist-packages (from kaggle->opendatasets) (2.8.2)\n",
            "Requirement already satisfied: requests in /usr/local/lib/python3.11/dist-packages (from kaggle->opendatasets) (2.32.3)\n",
            "Requirement already satisfied: python-slugify in /usr/local/lib/python3.11/dist-packages (from kaggle->opendatasets) (8.0.4)\n",
            "Requirement already satisfied: urllib3 in /usr/local/lib/python3.11/dist-packages (from kaggle->opendatasets) (2.3.0)\n",
            "Requirement already satisfied: bleach in /usr/local/lib/python3.11/dist-packages (from kaggle->opendatasets) (6.2.0)\n",
            "Requirement already satisfied: webencodings in /usr/local/lib/python3.11/dist-packages (from bleach->kaggle->opendatasets) (0.5.1)\n",
            "Requirement already satisfied: text-unidecode>=1.3 in /usr/local/lib/python3.11/dist-packages (from python-slugify->kaggle->opendatasets) (1.3)\n",
            "Requirement already satisfied: charset-normalizer<4,>=2 in /usr/local/lib/python3.11/dist-packages (from requests->kaggle->opendatasets) (3.4.1)\n",
            "Requirement already satisfied: idna<4,>=2.5 in /usr/local/lib/python3.11/dist-packages (from requests->kaggle->opendatasets) (3.10)\n",
            "Downloading opendatasets-0.1.22-py3-none-any.whl (15 kB)\n",
            "Installing collected packages: opendatasets\n",
            "Successfully installed opendatasets-0.1.22\n"
          ]
        }
      ]
    },
    {
      "cell_type": "code",
      "source": [
        "import opendatasets as od\n",
        "od.download(\"https://www.kaggle.com/datasets/radeai/basalam-comments-and-products?select=BaSalam.products.csv\")"
      ],
      "metadata": {
        "colab": {
          "base_uri": "https://localhost:8080/"
        },
        "id": "mNdblyaqZTzO",
        "outputId": "2ea369b4-aca6-40cf-a503-4f218ec261c4"
      },
      "execution_count": 4,
      "outputs": [
        {
          "output_type": "stream",
          "name": "stdout",
          "text": [
            "Please provide your Kaggle credentials to download this dataset. Learn more: http://bit.ly/kaggle-creds\n",
            "Your Kaggle username: amirhoseinnajafi\n",
            "Your Kaggle Key: ··········\n",
            "Dataset URL: https://www.kaggle.com/datasets/radeai/basalam-comments-and-products\n",
            "Downloading basalam-comments-and-products.zip to ./basalam-comments-and-products\n"
          ]
        },
        {
          "output_type": "stream",
          "name": "stderr",
          "text": [
            "100%|██████████| 599M/599M [00:07<00:00, 89.6MB/s]\n"
          ]
        },
        {
          "output_type": "stream",
          "name": "stdout",
          "text": [
            "\n"
          ]
        }
      ]
    },
    {
      "cell_type": "code",
      "execution_count": 3,
      "metadata": {
        "colab": {
          "base_uri": "https://localhost:8080/",
          "height": 321
        },
        "id": "whuDo5h4x_cy",
        "outputId": "8ae797b7-81ec-4bb0-f626-2cdde3354bef"
      },
      "outputs": [
        {
          "output_type": "error",
          "ename": "FileNotFoundError",
          "evalue": "[Errno 2] No such file or directory: 'None/BaSalam.products.csv'",
          "traceback": [
            "\u001b[0;31m---------------------------------------------------------------------------\u001b[0m",
            "\u001b[0;31mFileNotFoundError\u001b[0m                         Traceback (most recent call last)",
            "\u001b[0;32m<ipython-input-3-c6246d3d850f>\u001b[0m in \u001b[0;36m<cell line: 0>\u001b[0;34m()\u001b[0m\n\u001b[1;32m      1\u001b[0m \u001b[0mdata_path\u001b[0m \u001b[0;34m=\u001b[0m \u001b[0mos\u001b[0m\u001b[0;34m.\u001b[0m\u001b[0mgetenv\u001b[0m\u001b[0;34m(\u001b[0m\u001b[0;34m'https://www.kaggle.com/datasets/radeai/basalam-comments-and-products?select=BaSalam.products.csv'\u001b[0m\u001b[0;34m)\u001b[0m\u001b[0;34m\u001b[0m\u001b[0;34m\u001b[0m\u001b[0m\n\u001b[0;32m----> 2\u001b[0;31m \u001b[0mproducts\u001b[0m \u001b[0;34m=\u001b[0m \u001b[0mpd\u001b[0m\u001b[0;34m.\u001b[0m\u001b[0mread_csv\u001b[0m\u001b[0;34m(\u001b[0m\u001b[0;34mf'{data_path}/BaSalam.products.csv'\u001b[0m\u001b[0;34m,\u001b[0m \u001b[0mlow_memory\u001b[0m\u001b[0;34m=\u001b[0m\u001b[0;32mFalse\u001b[0m\u001b[0;34m)\u001b[0m\u001b[0;34m\u001b[0m\u001b[0;34m\u001b[0m\u001b[0m\n\u001b[0m",
            "\u001b[0;32m/usr/local/lib/python3.11/dist-packages/pandas/io/parsers/readers.py\u001b[0m in \u001b[0;36mread_csv\u001b[0;34m(filepath_or_buffer, sep, delimiter, header, names, index_col, usecols, dtype, engine, converters, true_values, false_values, skipinitialspace, skiprows, skipfooter, nrows, na_values, keep_default_na, na_filter, verbose, skip_blank_lines, parse_dates, infer_datetime_format, keep_date_col, date_parser, date_format, dayfirst, cache_dates, iterator, chunksize, compression, thousands, decimal, lineterminator, quotechar, quoting, doublequote, escapechar, comment, encoding, encoding_errors, dialect, on_bad_lines, delim_whitespace, low_memory, memory_map, float_precision, storage_options, dtype_backend)\u001b[0m\n\u001b[1;32m   1024\u001b[0m     \u001b[0mkwds\u001b[0m\u001b[0;34m.\u001b[0m\u001b[0mupdate\u001b[0m\u001b[0;34m(\u001b[0m\u001b[0mkwds_defaults\u001b[0m\u001b[0;34m)\u001b[0m\u001b[0;34m\u001b[0m\u001b[0;34m\u001b[0m\u001b[0m\n\u001b[1;32m   1025\u001b[0m \u001b[0;34m\u001b[0m\u001b[0m\n\u001b[0;32m-> 1026\u001b[0;31m     \u001b[0;32mreturn\u001b[0m \u001b[0m_read\u001b[0m\u001b[0;34m(\u001b[0m\u001b[0mfilepath_or_buffer\u001b[0m\u001b[0;34m,\u001b[0m \u001b[0mkwds\u001b[0m\u001b[0;34m)\u001b[0m\u001b[0;34m\u001b[0m\u001b[0;34m\u001b[0m\u001b[0m\n\u001b[0m\u001b[1;32m   1027\u001b[0m \u001b[0;34m\u001b[0m\u001b[0m\n\u001b[1;32m   1028\u001b[0m \u001b[0;34m\u001b[0m\u001b[0m\n",
            "\u001b[0;32m/usr/local/lib/python3.11/dist-packages/pandas/io/parsers/readers.py\u001b[0m in \u001b[0;36m_read\u001b[0;34m(filepath_or_buffer, kwds)\u001b[0m\n\u001b[1;32m    618\u001b[0m \u001b[0;34m\u001b[0m\u001b[0m\n\u001b[1;32m    619\u001b[0m     \u001b[0;31m# Create the parser.\u001b[0m\u001b[0;34m\u001b[0m\u001b[0;34m\u001b[0m\u001b[0m\n\u001b[0;32m--> 620\u001b[0;31m     \u001b[0mparser\u001b[0m \u001b[0;34m=\u001b[0m \u001b[0mTextFileReader\u001b[0m\u001b[0;34m(\u001b[0m\u001b[0mfilepath_or_buffer\u001b[0m\u001b[0;34m,\u001b[0m \u001b[0;34m**\u001b[0m\u001b[0mkwds\u001b[0m\u001b[0;34m)\u001b[0m\u001b[0;34m\u001b[0m\u001b[0;34m\u001b[0m\u001b[0m\n\u001b[0m\u001b[1;32m    621\u001b[0m \u001b[0;34m\u001b[0m\u001b[0m\n\u001b[1;32m    622\u001b[0m     \u001b[0;32mif\u001b[0m \u001b[0mchunksize\u001b[0m \u001b[0;32mor\u001b[0m \u001b[0miterator\u001b[0m\u001b[0;34m:\u001b[0m\u001b[0;34m\u001b[0m\u001b[0;34m\u001b[0m\u001b[0m\n",
            "\u001b[0;32m/usr/local/lib/python3.11/dist-packages/pandas/io/parsers/readers.py\u001b[0m in \u001b[0;36m__init__\u001b[0;34m(self, f, engine, **kwds)\u001b[0m\n\u001b[1;32m   1618\u001b[0m \u001b[0;34m\u001b[0m\u001b[0m\n\u001b[1;32m   1619\u001b[0m         \u001b[0mself\u001b[0m\u001b[0;34m.\u001b[0m\u001b[0mhandles\u001b[0m\u001b[0;34m:\u001b[0m \u001b[0mIOHandles\u001b[0m \u001b[0;34m|\u001b[0m \u001b[0;32mNone\u001b[0m \u001b[0;34m=\u001b[0m \u001b[0;32mNone\u001b[0m\u001b[0;34m\u001b[0m\u001b[0;34m\u001b[0m\u001b[0m\n\u001b[0;32m-> 1620\u001b[0;31m         \u001b[0mself\u001b[0m\u001b[0;34m.\u001b[0m\u001b[0m_engine\u001b[0m \u001b[0;34m=\u001b[0m \u001b[0mself\u001b[0m\u001b[0;34m.\u001b[0m\u001b[0m_make_engine\u001b[0m\u001b[0;34m(\u001b[0m\u001b[0mf\u001b[0m\u001b[0;34m,\u001b[0m \u001b[0mself\u001b[0m\u001b[0;34m.\u001b[0m\u001b[0mengine\u001b[0m\u001b[0;34m)\u001b[0m\u001b[0;34m\u001b[0m\u001b[0;34m\u001b[0m\u001b[0m\n\u001b[0m\u001b[1;32m   1621\u001b[0m \u001b[0;34m\u001b[0m\u001b[0m\n\u001b[1;32m   1622\u001b[0m     \u001b[0;32mdef\u001b[0m \u001b[0mclose\u001b[0m\u001b[0;34m(\u001b[0m\u001b[0mself\u001b[0m\u001b[0;34m)\u001b[0m \u001b[0;34m->\u001b[0m \u001b[0;32mNone\u001b[0m\u001b[0;34m:\u001b[0m\u001b[0;34m\u001b[0m\u001b[0;34m\u001b[0m\u001b[0m\n",
            "\u001b[0;32m/usr/local/lib/python3.11/dist-packages/pandas/io/parsers/readers.py\u001b[0m in \u001b[0;36m_make_engine\u001b[0;34m(self, f, engine)\u001b[0m\n\u001b[1;32m   1878\u001b[0m                 \u001b[0;32mif\u001b[0m \u001b[0;34m\"b\"\u001b[0m \u001b[0;32mnot\u001b[0m \u001b[0;32min\u001b[0m \u001b[0mmode\u001b[0m\u001b[0;34m:\u001b[0m\u001b[0;34m\u001b[0m\u001b[0;34m\u001b[0m\u001b[0m\n\u001b[1;32m   1879\u001b[0m                     \u001b[0mmode\u001b[0m \u001b[0;34m+=\u001b[0m \u001b[0;34m\"b\"\u001b[0m\u001b[0;34m\u001b[0m\u001b[0;34m\u001b[0m\u001b[0m\n\u001b[0;32m-> 1880\u001b[0;31m             self.handles = get_handle(\n\u001b[0m\u001b[1;32m   1881\u001b[0m                 \u001b[0mf\u001b[0m\u001b[0;34m,\u001b[0m\u001b[0;34m\u001b[0m\u001b[0;34m\u001b[0m\u001b[0m\n\u001b[1;32m   1882\u001b[0m                 \u001b[0mmode\u001b[0m\u001b[0;34m,\u001b[0m\u001b[0;34m\u001b[0m\u001b[0;34m\u001b[0m\u001b[0m\n",
            "\u001b[0;32m/usr/local/lib/python3.11/dist-packages/pandas/io/common.py\u001b[0m in \u001b[0;36mget_handle\u001b[0;34m(path_or_buf, mode, encoding, compression, memory_map, is_text, errors, storage_options)\u001b[0m\n\u001b[1;32m    871\u001b[0m         \u001b[0;32mif\u001b[0m \u001b[0mioargs\u001b[0m\u001b[0;34m.\u001b[0m\u001b[0mencoding\u001b[0m \u001b[0;32mand\u001b[0m \u001b[0;34m\"b\"\u001b[0m \u001b[0;32mnot\u001b[0m \u001b[0;32min\u001b[0m \u001b[0mioargs\u001b[0m\u001b[0;34m.\u001b[0m\u001b[0mmode\u001b[0m\u001b[0;34m:\u001b[0m\u001b[0;34m\u001b[0m\u001b[0;34m\u001b[0m\u001b[0m\n\u001b[1;32m    872\u001b[0m             \u001b[0;31m# Encoding\u001b[0m\u001b[0;34m\u001b[0m\u001b[0;34m\u001b[0m\u001b[0m\n\u001b[0;32m--> 873\u001b[0;31m             handle = open(\n\u001b[0m\u001b[1;32m    874\u001b[0m                 \u001b[0mhandle\u001b[0m\u001b[0;34m,\u001b[0m\u001b[0;34m\u001b[0m\u001b[0;34m\u001b[0m\u001b[0m\n\u001b[1;32m    875\u001b[0m                 \u001b[0mioargs\u001b[0m\u001b[0;34m.\u001b[0m\u001b[0mmode\u001b[0m\u001b[0;34m,\u001b[0m\u001b[0;34m\u001b[0m\u001b[0;34m\u001b[0m\u001b[0m\n",
            "\u001b[0;31mFileNotFoundError\u001b[0m: [Errno 2] No such file or directory: 'None/BaSalam.products.csv'"
          ]
        }
      ],
      "source": [
        "# data_path = os.getenv('DATA_PATH')\n",
        "# products = pd.read_csv(f'{data_path}/BaSalam.products.csv', low_memory=False)"
      ]
    },
    {
      "cell_type": "code",
      "source": [
        "products = pd.read_csv(\"/content/basalam-comments-and-products/BaSalam.products.csv\")"
      ],
      "metadata": {
        "colab": {
          "base_uri": "https://localhost:8080/"
        },
        "id": "IQoVPOq-b8nE",
        "outputId": "b9be3e3d-c4ec-45d9-8931-368bd9e3b76a"
      },
      "execution_count": 5,
      "outputs": [
        {
          "output_type": "stream",
          "name": "stderr",
          "text": [
            "<ipython-input-5-89a98d9f3a53>:1: DtypeWarning: Columns (18,35,36,37,38,42) have mixed types. Specify dtype option on import or set low_memory=False.\n",
            "  products = pd.read_csv(\"/content/basalam-comments-and-products/BaSalam.products.csv\")\n"
          ]
        }
      ]
    },
    {
      "cell_type": "markdown",
      "metadata": {
        "id": "XgGEorjSx_cz"
      },
      "source": [
        "## EDA"
      ]
    },
    {
      "cell_type": "code",
      "execution_count": 7,
      "metadata": {
        "colab": {
          "base_uri": "https://localhost:8080/",
          "height": 1000
        },
        "id": "NUwYSd5Jx_c1",
        "outputId": "031f8f12-a4f8-4ff9-abc1-1fa51442713a"
      },
      "outputs": [
        {
          "output_type": "execute_result",
          "data": {
            "text/plain": [
              "                               miss value     uniq     type  outlier_iqr  \\\n",
              "_id                                     0  2411358    int64          0.0   \n",
              "_score                                  0     1509  float64      76942.0   \n",
              "sales_count_week                        0       34    int64      76942.0   \n",
              "name                                    8  2286034   object          NaN   \n",
              "price                                   2    43471  float64     329395.0   \n",
              "status_id                               2        2  float64       2583.0   \n",
              "status_title                         2585        1   object          NaN   \n",
              "stock                                   2     4636  float64     419092.0   \n",
              "photo_MEDIUM                          540  2363917   object          NaN   \n",
              "photo_SMALL                           540  2363917   object          NaN   \n",
              "rating_average                          3       40  float64          0.0   \n",
              "rating_count                            3      716  float64     297856.0   \n",
              "rating_signals                          3      716  float64     297856.0   \n",
              "primaryPrice                            3    26820  float64     301409.0   \n",
              "preparationDays                         3       32  float64     204105.0   \n",
              "weight                                  3     4384  float64     321858.0   \n",
              "categoryId                         146163      319  float64     297810.0   \n",
              "has_delivery                       146166        2   object          NaN   \n",
              "has_variation                           3        2   object          NaN   \n",
              "new_categoryId                          3      816  float64      42054.0   \n",
              "navigation_id                     2363132       55  float64       3054.0   \n",
              "vendor_name                             3    88849   object          NaN   \n",
              "vendor_identifier                       3    88822   object          NaN   \n",
              "vendor_statusId                         3        2  float64        907.0   \n",
              "vendor_freeShippingToIran          669330      848  float64     200545.0   \n",
              "vendor_freeShippingToSameCity      786896      727  float64     121384.0   \n",
              "vendor_cityId                           3     1008  float64          0.0   \n",
              "vendor_provinceId                       3       31  float64          0.0   \n",
              "vendor_has_delivery                 10409        2   object          NaN   \n",
              "vendor_score                      1239540        2  float64          0.0   \n",
              "vendor_id                               3    88822  float64          0.0   \n",
              "vendor_status_id                        3        2  float64        907.0   \n",
              "vendor_status_title                     3        2   object          NaN   \n",
              "vendor_owner_city                       7      989   object          NaN   \n",
              "vendor_owner_id                         3    88822  float64          0.0   \n",
              "isFreeShipping                          3        2   object          NaN   \n",
              "IsAvailable                             3        2   object          NaN   \n",
              "IsSaleable                              3        2   object          NaN   \n",
              "mainAttribute                     2213550     1375   object          NaN   \n",
              "categoryTitle                          46      813   object          NaN   \n",
              "published                         2341306        2   object          NaN   \n",
              "video_ORIGINAL                    2254969   149162   object          NaN   \n",
              "promotions                        2411289       65   object          NaN   \n",
              "\n",
              "                               outlier_Z-score  outlier_Z-score modified  \\\n",
              "_id                                  2411358.0                       0.0   \n",
              "_score                               1024592.0                 1024592.0   \n",
              "sales_count_week                        2703.0                   76942.0   \n",
              "name                                       NaN                       NaN   \n",
              "price                                2411356.0                       0.0   \n",
              "status_id                            2411356.0                       0.0   \n",
              "status_title                               NaN                       NaN   \n",
              "stock                                1558952.0                       0.0   \n",
              "photo_MEDIUM                               NaN                       NaN   \n",
              "photo_SMALL                                NaN                       NaN   \n",
              "rating_average                        727152.0                       0.0   \n",
              "rating_count                          224061.0                       0.0   \n",
              "rating_signals                        224061.0                       0.0   \n",
              "primaryPrice                         1450081.0                       0.0   \n",
              "preparationDays                       644132.0                       0.0   \n",
              "weight                               2368259.0                       0.0   \n",
              "categoryId                            297810.0                       0.0   \n",
              "has_delivery                               NaN                       NaN   \n",
              "has_variation                              NaN                       NaN   \n",
              "new_categoryId                       2411355.0                       0.0   \n",
              "navigation_id                          34884.0                       0.0   \n",
              "vendor_name                                NaN                       NaN   \n",
              "vendor_identifier                          NaN                       NaN   \n",
              "vendor_statusId                      2411355.0                       0.0   \n",
              "vendor_freeShippingToIran            1615749.0                       0.0   \n",
              "vendor_freeShippingToSameCity        1475651.0                       0.0   \n",
              "vendor_cityId                        2411355.0                       0.0   \n",
              "vendor_provinceId                    2308698.0                       0.0   \n",
              "vendor_has_delivery                        NaN                       NaN   \n",
              "vendor_score                               0.0                       0.0   \n",
              "vendor_id                            2411355.0                       0.0   \n",
              "vendor_status_id                     2411355.0                       0.0   \n",
              "vendor_status_title                        NaN                       NaN   \n",
              "vendor_owner_city                          NaN                       NaN   \n",
              "vendor_owner_id                      2411355.0                       0.0   \n",
              "isFreeShipping                             NaN                       NaN   \n",
              "IsAvailable                                NaN                       NaN   \n",
              "IsSaleable                                 NaN                       NaN   \n",
              "mainAttribute                              NaN                       NaN   \n",
              "categoryTitle                              NaN                       NaN   \n",
              "published                                  NaN                       NaN   \n",
              "video_ORIGINAL                             NaN                       NaN   \n",
              "promotions                                 NaN                       NaN   \n",
              "\n",
              "                                                                   Most repeated  \n",
              "_id                                                                      9873883  \n",
              "_score                                                                       0.0  \n",
              "sales_count_week                                                               0  \n",
              "name                                                                     هفت سین  \n",
              "price                                                                  1500000.0  \n",
              "status_id                                                                 2976.0  \n",
              "status_title                                                            در دسترس  \n",
              "stock                                                                        1.0  \n",
              "photo_MEDIUM                   https://statics.basalam.com/public/users/xn5O8...  \n",
              "photo_SMALL                    https://statics.basalam.com/public/users/xn5O8...  \n",
              "rating_average                                                               0.0  \n",
              "rating_count                                                                 0.0  \n",
              "rating_signals                                                               0.0  \n",
              "primaryPrice                                                                 0.0  \n",
              "preparationDays                                                              1.0  \n",
              "weight                                                                     100.0  \n",
              "categoryId                                                                   0.0  \n",
              "has_delivery                                                                True  \n",
              "has_variation                                                              False  \n",
              "new_categoryId                                                             790.0  \n",
              "navigation_id                                                                1.0  \n",
              "vendor_name                     تاپیکس TOPX | تحویل سفارش از 7 نوروز به بعد است.  \n",
              "vendor_identifier                                                          top_x  \n",
              "vendor_statusId                                                           2987.0  \n",
              "vendor_freeShippingToIran                                             10000000.0  \n",
              "vendor_freeShippingToSameCity                                          5000000.0  \n",
              "vendor_cityId                                                             2052.0  \n",
              "vendor_provinceId                                                           10.0  \n",
              "vendor_has_delivery                                                         True  \n",
              "vendor_score                                                                 0.0  \n",
              "vendor_id                                                               873468.0  \n",
              "vendor_status_id                                                          2987.0  \n",
              "vendor_status_title                                                         فعال  \n",
              "vendor_owner_city                                                          تهران  \n",
              "vendor_owner_id                                                        3270373.0  \n",
              "isFreeShipping                                                             False  \n",
              "IsAvailable                                                                 True  \n",
              "IsSaleable                                                                  True  \n",
              "mainAttribute                                                           1000 گرم  \n",
              "categoryTitle                                                               سایر  \n",
              "published                                                                   True  \n",
              "video_ORIGINAL                 https://basalam-com.arvanvod.ir/yOpvGE3e0D/YP0...  \n",
              "promotions                     {'type': 'FLASH_SALES_NOW', 'link': None, 'tit...  "
            ],
            "text/html": [
              "\n",
              "  <div id=\"df-568a1deb-d810-4376-86f6-811287550528\" class=\"colab-df-container\">\n",
              "    <div>\n",
              "<style scoped>\n",
              "    .dataframe tbody tr th:only-of-type {\n",
              "        vertical-align: middle;\n",
              "    }\n",
              "\n",
              "    .dataframe tbody tr th {\n",
              "        vertical-align: top;\n",
              "    }\n",
              "\n",
              "    .dataframe thead th {\n",
              "        text-align: right;\n",
              "    }\n",
              "</style>\n",
              "<table border=\"1\" class=\"dataframe\">\n",
              "  <thead>\n",
              "    <tr style=\"text-align: right;\">\n",
              "      <th></th>\n",
              "      <th>miss value</th>\n",
              "      <th>uniq</th>\n",
              "      <th>type</th>\n",
              "      <th>outlier_iqr</th>\n",
              "      <th>outlier_Z-score</th>\n",
              "      <th>outlier_Z-score modified</th>\n",
              "      <th>Most repeated</th>\n",
              "    </tr>\n",
              "  </thead>\n",
              "  <tbody>\n",
              "    <tr>\n",
              "      <th>_id</th>\n",
              "      <td>0</td>\n",
              "      <td>2411358</td>\n",
              "      <td>int64</td>\n",
              "      <td>0.0</td>\n",
              "      <td>2411358.0</td>\n",
              "      <td>0.0</td>\n",
              "      <td>9873883</td>\n",
              "    </tr>\n",
              "    <tr>\n",
              "      <th>_score</th>\n",
              "      <td>0</td>\n",
              "      <td>1509</td>\n",
              "      <td>float64</td>\n",
              "      <td>76942.0</td>\n",
              "      <td>1024592.0</td>\n",
              "      <td>1024592.0</td>\n",
              "      <td>0.0</td>\n",
              "    </tr>\n",
              "    <tr>\n",
              "      <th>sales_count_week</th>\n",
              "      <td>0</td>\n",
              "      <td>34</td>\n",
              "      <td>int64</td>\n",
              "      <td>76942.0</td>\n",
              "      <td>2703.0</td>\n",
              "      <td>76942.0</td>\n",
              "      <td>0</td>\n",
              "    </tr>\n",
              "    <tr>\n",
              "      <th>name</th>\n",
              "      <td>8</td>\n",
              "      <td>2286034</td>\n",
              "      <td>object</td>\n",
              "      <td>NaN</td>\n",
              "      <td>NaN</td>\n",
              "      <td>NaN</td>\n",
              "      <td>هفت سین</td>\n",
              "    </tr>\n",
              "    <tr>\n",
              "      <th>price</th>\n",
              "      <td>2</td>\n",
              "      <td>43471</td>\n",
              "      <td>float64</td>\n",
              "      <td>329395.0</td>\n",
              "      <td>2411356.0</td>\n",
              "      <td>0.0</td>\n",
              "      <td>1500000.0</td>\n",
              "    </tr>\n",
              "    <tr>\n",
              "      <th>status_id</th>\n",
              "      <td>2</td>\n",
              "      <td>2</td>\n",
              "      <td>float64</td>\n",
              "      <td>2583.0</td>\n",
              "      <td>2411356.0</td>\n",
              "      <td>0.0</td>\n",
              "      <td>2976.0</td>\n",
              "    </tr>\n",
              "    <tr>\n",
              "      <th>status_title</th>\n",
              "      <td>2585</td>\n",
              "      <td>1</td>\n",
              "      <td>object</td>\n",
              "      <td>NaN</td>\n",
              "      <td>NaN</td>\n",
              "      <td>NaN</td>\n",
              "      <td>در دسترس</td>\n",
              "    </tr>\n",
              "    <tr>\n",
              "      <th>stock</th>\n",
              "      <td>2</td>\n",
              "      <td>4636</td>\n",
              "      <td>float64</td>\n",
              "      <td>419092.0</td>\n",
              "      <td>1558952.0</td>\n",
              "      <td>0.0</td>\n",
              "      <td>1.0</td>\n",
              "    </tr>\n",
              "    <tr>\n",
              "      <th>photo_MEDIUM</th>\n",
              "      <td>540</td>\n",
              "      <td>2363917</td>\n",
              "      <td>object</td>\n",
              "      <td>NaN</td>\n",
              "      <td>NaN</td>\n",
              "      <td>NaN</td>\n",
              "      <td>https://statics.basalam.com/public/users/xn5O8...</td>\n",
              "    </tr>\n",
              "    <tr>\n",
              "      <th>photo_SMALL</th>\n",
              "      <td>540</td>\n",
              "      <td>2363917</td>\n",
              "      <td>object</td>\n",
              "      <td>NaN</td>\n",
              "      <td>NaN</td>\n",
              "      <td>NaN</td>\n",
              "      <td>https://statics.basalam.com/public/users/xn5O8...</td>\n",
              "    </tr>\n",
              "    <tr>\n",
              "      <th>rating_average</th>\n",
              "      <td>3</td>\n",
              "      <td>40</td>\n",
              "      <td>float64</td>\n",
              "      <td>0.0</td>\n",
              "      <td>727152.0</td>\n",
              "      <td>0.0</td>\n",
              "      <td>0.0</td>\n",
              "    </tr>\n",
              "    <tr>\n",
              "      <th>rating_count</th>\n",
              "      <td>3</td>\n",
              "      <td>716</td>\n",
              "      <td>float64</td>\n",
              "      <td>297856.0</td>\n",
              "      <td>224061.0</td>\n",
              "      <td>0.0</td>\n",
              "      <td>0.0</td>\n",
              "    </tr>\n",
              "    <tr>\n",
              "      <th>rating_signals</th>\n",
              "      <td>3</td>\n",
              "      <td>716</td>\n",
              "      <td>float64</td>\n",
              "      <td>297856.0</td>\n",
              "      <td>224061.0</td>\n",
              "      <td>0.0</td>\n",
              "      <td>0.0</td>\n",
              "    </tr>\n",
              "    <tr>\n",
              "      <th>primaryPrice</th>\n",
              "      <td>3</td>\n",
              "      <td>26820</td>\n",
              "      <td>float64</td>\n",
              "      <td>301409.0</td>\n",
              "      <td>1450081.0</td>\n",
              "      <td>0.0</td>\n",
              "      <td>0.0</td>\n",
              "    </tr>\n",
              "    <tr>\n",
              "      <th>preparationDays</th>\n",
              "      <td>3</td>\n",
              "      <td>32</td>\n",
              "      <td>float64</td>\n",
              "      <td>204105.0</td>\n",
              "      <td>644132.0</td>\n",
              "      <td>0.0</td>\n",
              "      <td>1.0</td>\n",
              "    </tr>\n",
              "    <tr>\n",
              "      <th>weight</th>\n",
              "      <td>3</td>\n",
              "      <td>4384</td>\n",
              "      <td>float64</td>\n",
              "      <td>321858.0</td>\n",
              "      <td>2368259.0</td>\n",
              "      <td>0.0</td>\n",
              "      <td>100.0</td>\n",
              "    </tr>\n",
              "    <tr>\n",
              "      <th>categoryId</th>\n",
              "      <td>146163</td>\n",
              "      <td>319</td>\n",
              "      <td>float64</td>\n",
              "      <td>297810.0</td>\n",
              "      <td>297810.0</td>\n",
              "      <td>0.0</td>\n",
              "      <td>0.0</td>\n",
              "    </tr>\n",
              "    <tr>\n",
              "      <th>has_delivery</th>\n",
              "      <td>146166</td>\n",
              "      <td>2</td>\n",
              "      <td>object</td>\n",
              "      <td>NaN</td>\n",
              "      <td>NaN</td>\n",
              "      <td>NaN</td>\n",
              "      <td>True</td>\n",
              "    </tr>\n",
              "    <tr>\n",
              "      <th>has_variation</th>\n",
              "      <td>3</td>\n",
              "      <td>2</td>\n",
              "      <td>object</td>\n",
              "      <td>NaN</td>\n",
              "      <td>NaN</td>\n",
              "      <td>NaN</td>\n",
              "      <td>False</td>\n",
              "    </tr>\n",
              "    <tr>\n",
              "      <th>new_categoryId</th>\n",
              "      <td>3</td>\n",
              "      <td>816</td>\n",
              "      <td>float64</td>\n",
              "      <td>42054.0</td>\n",
              "      <td>2411355.0</td>\n",
              "      <td>0.0</td>\n",
              "      <td>790.0</td>\n",
              "    </tr>\n",
              "    <tr>\n",
              "      <th>navigation_id</th>\n",
              "      <td>2363132</td>\n",
              "      <td>55</td>\n",
              "      <td>float64</td>\n",
              "      <td>3054.0</td>\n",
              "      <td>34884.0</td>\n",
              "      <td>0.0</td>\n",
              "      <td>1.0</td>\n",
              "    </tr>\n",
              "    <tr>\n",
              "      <th>vendor_name</th>\n",
              "      <td>3</td>\n",
              "      <td>88849</td>\n",
              "      <td>object</td>\n",
              "      <td>NaN</td>\n",
              "      <td>NaN</td>\n",
              "      <td>NaN</td>\n",
              "      <td>تاپیکس TOPX | تحویل سفارش از 7 نوروز به بعد است.</td>\n",
              "    </tr>\n",
              "    <tr>\n",
              "      <th>vendor_identifier</th>\n",
              "      <td>3</td>\n",
              "      <td>88822</td>\n",
              "      <td>object</td>\n",
              "      <td>NaN</td>\n",
              "      <td>NaN</td>\n",
              "      <td>NaN</td>\n",
              "      <td>top_x</td>\n",
              "    </tr>\n",
              "    <tr>\n",
              "      <th>vendor_statusId</th>\n",
              "      <td>3</td>\n",
              "      <td>2</td>\n",
              "      <td>float64</td>\n",
              "      <td>907.0</td>\n",
              "      <td>2411355.0</td>\n",
              "      <td>0.0</td>\n",
              "      <td>2987.0</td>\n",
              "    </tr>\n",
              "    <tr>\n",
              "      <th>vendor_freeShippingToIran</th>\n",
              "      <td>669330</td>\n",
              "      <td>848</td>\n",
              "      <td>float64</td>\n",
              "      <td>200545.0</td>\n",
              "      <td>1615749.0</td>\n",
              "      <td>0.0</td>\n",
              "      <td>10000000.0</td>\n",
              "    </tr>\n",
              "    <tr>\n",
              "      <th>vendor_freeShippingToSameCity</th>\n",
              "      <td>786896</td>\n",
              "      <td>727</td>\n",
              "      <td>float64</td>\n",
              "      <td>121384.0</td>\n",
              "      <td>1475651.0</td>\n",
              "      <td>0.0</td>\n",
              "      <td>5000000.0</td>\n",
              "    </tr>\n",
              "    <tr>\n",
              "      <th>vendor_cityId</th>\n",
              "      <td>3</td>\n",
              "      <td>1008</td>\n",
              "      <td>float64</td>\n",
              "      <td>0.0</td>\n",
              "      <td>2411355.0</td>\n",
              "      <td>0.0</td>\n",
              "      <td>2052.0</td>\n",
              "    </tr>\n",
              "    <tr>\n",
              "      <th>vendor_provinceId</th>\n",
              "      <td>3</td>\n",
              "      <td>31</td>\n",
              "      <td>float64</td>\n",
              "      <td>0.0</td>\n",
              "      <td>2308698.0</td>\n",
              "      <td>0.0</td>\n",
              "      <td>10.0</td>\n",
              "    </tr>\n",
              "    <tr>\n",
              "      <th>vendor_has_delivery</th>\n",
              "      <td>10409</td>\n",
              "      <td>2</td>\n",
              "      <td>object</td>\n",
              "      <td>NaN</td>\n",
              "      <td>NaN</td>\n",
              "      <td>NaN</td>\n",
              "      <td>True</td>\n",
              "    </tr>\n",
              "    <tr>\n",
              "      <th>vendor_score</th>\n",
              "      <td>1239540</td>\n",
              "      <td>2</td>\n",
              "      <td>float64</td>\n",
              "      <td>0.0</td>\n",
              "      <td>0.0</td>\n",
              "      <td>0.0</td>\n",
              "      <td>0.0</td>\n",
              "    </tr>\n",
              "    <tr>\n",
              "      <th>vendor_id</th>\n",
              "      <td>3</td>\n",
              "      <td>88822</td>\n",
              "      <td>float64</td>\n",
              "      <td>0.0</td>\n",
              "      <td>2411355.0</td>\n",
              "      <td>0.0</td>\n",
              "      <td>873468.0</td>\n",
              "    </tr>\n",
              "    <tr>\n",
              "      <th>vendor_status_id</th>\n",
              "      <td>3</td>\n",
              "      <td>2</td>\n",
              "      <td>float64</td>\n",
              "      <td>907.0</td>\n",
              "      <td>2411355.0</td>\n",
              "      <td>0.0</td>\n",
              "      <td>2987.0</td>\n",
              "    </tr>\n",
              "    <tr>\n",
              "      <th>vendor_status_title</th>\n",
              "      <td>3</td>\n",
              "      <td>2</td>\n",
              "      <td>object</td>\n",
              "      <td>NaN</td>\n",
              "      <td>NaN</td>\n",
              "      <td>NaN</td>\n",
              "      <td>فعال</td>\n",
              "    </tr>\n",
              "    <tr>\n",
              "      <th>vendor_owner_city</th>\n",
              "      <td>7</td>\n",
              "      <td>989</td>\n",
              "      <td>object</td>\n",
              "      <td>NaN</td>\n",
              "      <td>NaN</td>\n",
              "      <td>NaN</td>\n",
              "      <td>تهران</td>\n",
              "    </tr>\n",
              "    <tr>\n",
              "      <th>vendor_owner_id</th>\n",
              "      <td>3</td>\n",
              "      <td>88822</td>\n",
              "      <td>float64</td>\n",
              "      <td>0.0</td>\n",
              "      <td>2411355.0</td>\n",
              "      <td>0.0</td>\n",
              "      <td>3270373.0</td>\n",
              "    </tr>\n",
              "    <tr>\n",
              "      <th>isFreeShipping</th>\n",
              "      <td>3</td>\n",
              "      <td>2</td>\n",
              "      <td>object</td>\n",
              "      <td>NaN</td>\n",
              "      <td>NaN</td>\n",
              "      <td>NaN</td>\n",
              "      <td>False</td>\n",
              "    </tr>\n",
              "    <tr>\n",
              "      <th>IsAvailable</th>\n",
              "      <td>3</td>\n",
              "      <td>2</td>\n",
              "      <td>object</td>\n",
              "      <td>NaN</td>\n",
              "      <td>NaN</td>\n",
              "      <td>NaN</td>\n",
              "      <td>True</td>\n",
              "    </tr>\n",
              "    <tr>\n",
              "      <th>IsSaleable</th>\n",
              "      <td>3</td>\n",
              "      <td>2</td>\n",
              "      <td>object</td>\n",
              "      <td>NaN</td>\n",
              "      <td>NaN</td>\n",
              "      <td>NaN</td>\n",
              "      <td>True</td>\n",
              "    </tr>\n",
              "    <tr>\n",
              "      <th>mainAttribute</th>\n",
              "      <td>2213550</td>\n",
              "      <td>1375</td>\n",
              "      <td>object</td>\n",
              "      <td>NaN</td>\n",
              "      <td>NaN</td>\n",
              "      <td>NaN</td>\n",
              "      <td>1000 گرم</td>\n",
              "    </tr>\n",
              "    <tr>\n",
              "      <th>categoryTitle</th>\n",
              "      <td>46</td>\n",
              "      <td>813</td>\n",
              "      <td>object</td>\n",
              "      <td>NaN</td>\n",
              "      <td>NaN</td>\n",
              "      <td>NaN</td>\n",
              "      <td>سایر</td>\n",
              "    </tr>\n",
              "    <tr>\n",
              "      <th>published</th>\n",
              "      <td>2341306</td>\n",
              "      <td>2</td>\n",
              "      <td>object</td>\n",
              "      <td>NaN</td>\n",
              "      <td>NaN</td>\n",
              "      <td>NaN</td>\n",
              "      <td>True</td>\n",
              "    </tr>\n",
              "    <tr>\n",
              "      <th>video_ORIGINAL</th>\n",
              "      <td>2254969</td>\n",
              "      <td>149162</td>\n",
              "      <td>object</td>\n",
              "      <td>NaN</td>\n",
              "      <td>NaN</td>\n",
              "      <td>NaN</td>\n",
              "      <td>https://basalam-com.arvanvod.ir/yOpvGE3e0D/YP0...</td>\n",
              "    </tr>\n",
              "    <tr>\n",
              "      <th>promotions</th>\n",
              "      <td>2411289</td>\n",
              "      <td>65</td>\n",
              "      <td>object</td>\n",
              "      <td>NaN</td>\n",
              "      <td>NaN</td>\n",
              "      <td>NaN</td>\n",
              "      <td>{'type': 'FLASH_SALES_NOW', 'link': None, 'tit...</td>\n",
              "    </tr>\n",
              "  </tbody>\n",
              "</table>\n",
              "</div>\n",
              "    <div class=\"colab-df-buttons\">\n",
              "\n",
              "  <div class=\"colab-df-container\">\n",
              "    <button class=\"colab-df-convert\" onclick=\"convertToInteractive('df-568a1deb-d810-4376-86f6-811287550528')\"\n",
              "            title=\"Convert this dataframe to an interactive table.\"\n",
              "            style=\"display:none;\">\n",
              "\n",
              "  <svg xmlns=\"http://www.w3.org/2000/svg\" height=\"24px\" viewBox=\"0 -960 960 960\">\n",
              "    <path d=\"M120-120v-720h720v720H120Zm60-500h600v-160H180v160Zm220 220h160v-160H400v160Zm0 220h160v-160H400v160ZM180-400h160v-160H180v160Zm440 0h160v-160H620v160ZM180-180h160v-160H180v160Zm440 0h160v-160H620v160Z\"/>\n",
              "  </svg>\n",
              "    </button>\n",
              "\n",
              "  <style>\n",
              "    .colab-df-container {\n",
              "      display:flex;\n",
              "      gap: 12px;\n",
              "    }\n",
              "\n",
              "    .colab-df-convert {\n",
              "      background-color: #E8F0FE;\n",
              "      border: none;\n",
              "      border-radius: 50%;\n",
              "      cursor: pointer;\n",
              "      display: none;\n",
              "      fill: #1967D2;\n",
              "      height: 32px;\n",
              "      padding: 0 0 0 0;\n",
              "      width: 32px;\n",
              "    }\n",
              "\n",
              "    .colab-df-convert:hover {\n",
              "      background-color: #E2EBFA;\n",
              "      box-shadow: 0px 1px 2px rgba(60, 64, 67, 0.3), 0px 1px 3px 1px rgba(60, 64, 67, 0.15);\n",
              "      fill: #174EA6;\n",
              "    }\n",
              "\n",
              "    .colab-df-buttons div {\n",
              "      margin-bottom: 4px;\n",
              "    }\n",
              "\n",
              "    [theme=dark] .colab-df-convert {\n",
              "      background-color: #3B4455;\n",
              "      fill: #D2E3FC;\n",
              "    }\n",
              "\n",
              "    [theme=dark] .colab-df-convert:hover {\n",
              "      background-color: #434B5C;\n",
              "      box-shadow: 0px 1px 3px 1px rgba(0, 0, 0, 0.15);\n",
              "      filter: drop-shadow(0px 1px 2px rgba(0, 0, 0, 0.3));\n",
              "      fill: #FFFFFF;\n",
              "    }\n",
              "  </style>\n",
              "\n",
              "    <script>\n",
              "      const buttonEl =\n",
              "        document.querySelector('#df-568a1deb-d810-4376-86f6-811287550528 button.colab-df-convert');\n",
              "      buttonEl.style.display =\n",
              "        google.colab.kernel.accessAllowed ? 'block' : 'none';\n",
              "\n",
              "      async function convertToInteractive(key) {\n",
              "        const element = document.querySelector('#df-568a1deb-d810-4376-86f6-811287550528');\n",
              "        const dataTable =\n",
              "          await google.colab.kernel.invokeFunction('convertToInteractive',\n",
              "                                                    [key], {});\n",
              "        if (!dataTable) return;\n",
              "\n",
              "        const docLinkHtml = 'Like what you see? Visit the ' +\n",
              "          '<a target=\"_blank\" href=https://colab.research.google.com/notebooks/data_table.ipynb>data table notebook</a>'\n",
              "          + ' to learn more about interactive tables.';\n",
              "        element.innerHTML = '';\n",
              "        dataTable['output_type'] = 'display_data';\n",
              "        await google.colab.output.renderOutput(dataTable, element);\n",
              "        const docLink = document.createElement('div');\n",
              "        docLink.innerHTML = docLinkHtml;\n",
              "        element.appendChild(docLink);\n",
              "      }\n",
              "    </script>\n",
              "  </div>\n",
              "\n",
              "\n",
              "<div id=\"df-88548bc4-6e30-4003-b2a8-dab8f426971a\">\n",
              "  <button class=\"colab-df-quickchart\" onclick=\"quickchart('df-88548bc4-6e30-4003-b2a8-dab8f426971a')\"\n",
              "            title=\"Suggest charts\"\n",
              "            style=\"display:none;\">\n",
              "\n",
              "<svg xmlns=\"http://www.w3.org/2000/svg\" height=\"24px\"viewBox=\"0 0 24 24\"\n",
              "     width=\"24px\">\n",
              "    <g>\n",
              "        <path d=\"M19 3H5c-1.1 0-2 .9-2 2v14c0 1.1.9 2 2 2h14c1.1 0 2-.9 2-2V5c0-1.1-.9-2-2-2zM9 17H7v-7h2v7zm4 0h-2V7h2v10zm4 0h-2v-4h2v4z\"/>\n",
              "    </g>\n",
              "</svg>\n",
              "  </button>\n",
              "\n",
              "<style>\n",
              "  .colab-df-quickchart {\n",
              "      --bg-color: #E8F0FE;\n",
              "      --fill-color: #1967D2;\n",
              "      --hover-bg-color: #E2EBFA;\n",
              "      --hover-fill-color: #174EA6;\n",
              "      --disabled-fill-color: #AAA;\n",
              "      --disabled-bg-color: #DDD;\n",
              "  }\n",
              "\n",
              "  [theme=dark] .colab-df-quickchart {\n",
              "      --bg-color: #3B4455;\n",
              "      --fill-color: #D2E3FC;\n",
              "      --hover-bg-color: #434B5C;\n",
              "      --hover-fill-color: #FFFFFF;\n",
              "      --disabled-bg-color: #3B4455;\n",
              "      --disabled-fill-color: #666;\n",
              "  }\n",
              "\n",
              "  .colab-df-quickchart {\n",
              "    background-color: var(--bg-color);\n",
              "    border: none;\n",
              "    border-radius: 50%;\n",
              "    cursor: pointer;\n",
              "    display: none;\n",
              "    fill: var(--fill-color);\n",
              "    height: 32px;\n",
              "    padding: 0;\n",
              "    width: 32px;\n",
              "  }\n",
              "\n",
              "  .colab-df-quickchart:hover {\n",
              "    background-color: var(--hover-bg-color);\n",
              "    box-shadow: 0 1px 2px rgba(60, 64, 67, 0.3), 0 1px 3px 1px rgba(60, 64, 67, 0.15);\n",
              "    fill: var(--button-hover-fill-color);\n",
              "  }\n",
              "\n",
              "  .colab-df-quickchart-complete:disabled,\n",
              "  .colab-df-quickchart-complete:disabled:hover {\n",
              "    background-color: var(--disabled-bg-color);\n",
              "    fill: var(--disabled-fill-color);\n",
              "    box-shadow: none;\n",
              "  }\n",
              "\n",
              "  .colab-df-spinner {\n",
              "    border: 2px solid var(--fill-color);\n",
              "    border-color: transparent;\n",
              "    border-bottom-color: var(--fill-color);\n",
              "    animation:\n",
              "      spin 1s steps(1) infinite;\n",
              "  }\n",
              "\n",
              "  @keyframes spin {\n",
              "    0% {\n",
              "      border-color: transparent;\n",
              "      border-bottom-color: var(--fill-color);\n",
              "      border-left-color: var(--fill-color);\n",
              "    }\n",
              "    20% {\n",
              "      border-color: transparent;\n",
              "      border-left-color: var(--fill-color);\n",
              "      border-top-color: var(--fill-color);\n",
              "    }\n",
              "    30% {\n",
              "      border-color: transparent;\n",
              "      border-left-color: var(--fill-color);\n",
              "      border-top-color: var(--fill-color);\n",
              "      border-right-color: var(--fill-color);\n",
              "    }\n",
              "    40% {\n",
              "      border-color: transparent;\n",
              "      border-right-color: var(--fill-color);\n",
              "      border-top-color: var(--fill-color);\n",
              "    }\n",
              "    60% {\n",
              "      border-color: transparent;\n",
              "      border-right-color: var(--fill-color);\n",
              "    }\n",
              "    80% {\n",
              "      border-color: transparent;\n",
              "      border-right-color: var(--fill-color);\n",
              "      border-bottom-color: var(--fill-color);\n",
              "    }\n",
              "    90% {\n",
              "      border-color: transparent;\n",
              "      border-bottom-color: var(--fill-color);\n",
              "    }\n",
              "  }\n",
              "</style>\n",
              "\n",
              "  <script>\n",
              "    async function quickchart(key) {\n",
              "      const quickchartButtonEl =\n",
              "        document.querySelector('#' + key + ' button');\n",
              "      quickchartButtonEl.disabled = true;  // To prevent multiple clicks.\n",
              "      quickchartButtonEl.classList.add('colab-df-spinner');\n",
              "      try {\n",
              "        const charts = await google.colab.kernel.invokeFunction(\n",
              "            'suggestCharts', [key], {});\n",
              "      } catch (error) {\n",
              "        console.error('Error during call to suggestCharts:', error);\n",
              "      }\n",
              "      quickchartButtonEl.classList.remove('colab-df-spinner');\n",
              "      quickchartButtonEl.classList.add('colab-df-quickchart-complete');\n",
              "    }\n",
              "    (() => {\n",
              "      let quickchartButtonEl =\n",
              "        document.querySelector('#df-88548bc4-6e30-4003-b2a8-dab8f426971a button');\n",
              "      quickchartButtonEl.style.display =\n",
              "        google.colab.kernel.accessAllowed ? 'block' : 'none';\n",
              "    })();\n",
              "  </script>\n",
              "</div>\n",
              "\n",
              "    </div>\n",
              "  </div>\n"
            ],
            "application/vnd.google.colaboratory.intrinsic+json": {
              "type": "dataframe",
              "summary": "{\n  \"name\": \"            })\",\n  \"rows\": 43,\n  \"fields\": [\n    {\n      \"column\": \"miss value\",\n      \"properties\": {\n        \"dtype\": \"number\",\n        \"std\": 764752,\n        \"min\": 0,\n        \"max\": 2411289,\n        \"num_unique_values\": 19,\n        \"samples\": [\n          0,\n          3,\n          10409\n        ],\n        \"semantic_type\": \"\",\n        \"description\": \"\"\n      }\n    },\n    {\n      \"column\": \"uniq\",\n      \"properties\": {\n        \"dtype\": \"number\",\n        \"std\": 689008,\n        \"min\": 1,\n        \"max\": 2411358,\n        \"num_unique_values\": 28,\n        \"samples\": [\n          40,\n          813,\n          2363917\n        ],\n        \"semantic_type\": \"\",\n        \"description\": \"\"\n      }\n    },\n    {\n      \"column\": \"type\",\n      \"properties\": {\n        \"dtype\": \"category\",\n        \"num_unique_values\": 3,\n        \"samples\": [\n          \"int64\",\n          \"float64\",\n          \"object\"\n        ],\n        \"semantic_type\": \"\",\n        \"description\": \"\"\n      }\n    },\n    {\n      \"column\": \"outlier_iqr\",\n      \"properties\": {\n        \"dtype\": \"number\",\n        \"std\": 144653.7013008211,\n        \"min\": 0.0,\n        \"max\": 419092.0,\n        \"num_unique_values\": 15,\n        \"samples\": [\n          297810.0,\n          3054.0,\n          0.0\n        ],\n        \"semantic_type\": \"\",\n        \"description\": \"\"\n      }\n    },\n    {\n      \"column\": \"outlier_Z-score\",\n      \"properties\": {\n        \"dtype\": \"number\",\n        \"std\": 973422.4842636632,\n        \"min\": 0.0,\n        \"max\": 2411358.0,\n        \"num_unique_values\": 17,\n        \"samples\": [\n          2411358.0,\n          1024592.0,\n          727152.0\n        ],\n        \"semantic_type\": \"\",\n        \"description\": \"\"\n      }\n    },\n    {\n      \"column\": \"outlier_Z-score modified\",\n      \"properties\": {\n        \"dtype\": \"number\",\n        \"std\": 209050.80061268443,\n        \"min\": 0.0,\n        \"max\": 1024592.0,\n        \"num_unique_values\": 3,\n        \"samples\": [\n          0.0,\n          1024592.0,\n          76942.0\n        ],\n        \"semantic_type\": \"\",\n        \"description\": \"\"\n      }\n    },\n    {\n      \"column\": \"Most repeated\",\n      \"properties\": {\n        \"dtype\": \"string\",\n        \"num_unique_values\": 26,\n        \"samples\": [\n          \"https://statics.basalam.com/public/users/xn5O8x/01-08/i0GIXOaSvIUgD73oU1cuO7bqrgiAStrfhGKGFBymYW6WxfYFcw.jpg_256X256X70.jpg\",\n          2052.0,\n          \"9873883\"\n        ],\n        \"semantic_type\": \"\",\n        \"description\": \"\"\n      }\n    }\n  ]\n}"
            }
          },
          "metadata": {},
          "execution_count": 7
        }
      ],
      "source": [
        "def outliers_number(data: pd.Series, iqr=True,  modified=False, threshold=3, threshold_modified=4.5):\n",
        "    if iqr:\n",
        "        q1 = data.quantile(0.25)\n",
        "        q3 = data.quantile(0.75)\n",
        "        IQR = q3-q1\n",
        "\n",
        "        return data[(data > q3+IQR*1.5) | (data < q1-IQR*1.5)].index\n",
        "    else:\n",
        "        if modified:\n",
        "            median = data.median()\n",
        "            mad = np.median(np.abs(data - median))\n",
        "\n",
        "            modified_z_scores = 0.6745 * (data - median) / mad\n",
        "\n",
        "            return data[np.abs(modified_z_scores) > threshold_modified].index\n",
        "        else:\n",
        "            z_score = (data - data.mean()) / data.std()\n",
        "            return data[np.abs(data) > threshold].index\n",
        "\n",
        "cols = products.columns.tolist()\n",
        "miss_values = pd.Series([int(products[col].isna().sum()) for col in cols])\n",
        "\n",
        "def outlier_len(iqr, modified):\n",
        "    outlier_iqr = []\n",
        "    for col in cols:\n",
        "        if (type(products[col][0]) in [np.int64, np.float64]):\n",
        "            outlier_iqr.append(len(outliers_number(products[col], iqr, modified)))\n",
        "        else:\n",
        "            outlier_iqr.append(np.nan)\n",
        "\n",
        "    return pd.Series(outlier_iqr)\n",
        "\n",
        "pd.DataFrame(index=products.columns.tolist(),\n",
        "             data={\n",
        "            'miss value': miss_values.values,\n",
        "            'uniq': products.nunique(),\n",
        "            \"type\": products.dtypes.values,\n",
        "            'outlier_iqr': outlier_len(True, False).values,\n",
        "            'outlier_Z-score': outlier_len(False, False).values,\n",
        "            'outlier_Z-score modified': outlier_len(False, True).values,\n",
        "            'Most repeated': [products[col].value_counts().index[0] for col in cols]\n",
        "            })"
      ]
    },
    {
      "cell_type": "code",
      "execution_count": 8,
      "metadata": {
        "colab": {
          "base_uri": "https://localhost:8080/"
        },
        "id": "4U-3H7uyx_c3",
        "outputId": "3624ab32-7588-4763-b2af-785b896f76dd"
      },
      "outputs": [
        {
          "output_type": "execute_result",
          "data": {
            "text/plain": [
              "Index(['_id', '_score', 'sales_count_week', 'name', 'price', 'status_id',\n",
              "       'status_title', 'stock', 'photo_MEDIUM', 'photo_SMALL',\n",
              "       'rating_average', 'rating_count', 'rating_signals', 'primaryPrice',\n",
              "       'preparationDays', 'weight', 'categoryId', 'has_delivery',\n",
              "       'has_variation', 'new_categoryId', 'navigation_id', 'vendor_name',\n",
              "       'vendor_identifier', 'vendor_statusId', 'vendor_freeShippingToIran',\n",
              "       'vendor_freeShippingToSameCity', 'vendor_cityId', 'vendor_provinceId',\n",
              "       'vendor_has_delivery', 'vendor_score', 'vendor_id', 'vendor_status_id',\n",
              "       'vendor_status_title', 'vendor_owner_city', 'vendor_owner_id',\n",
              "       'isFreeShipping', 'IsAvailable', 'IsSaleable', 'mainAttribute',\n",
              "       'categoryTitle', 'published', 'video_ORIGINAL', 'promotions'],\n",
              "      dtype='object')"
            ]
          },
          "metadata": {},
          "execution_count": 8
        }
      ],
      "source": [
        "sample = products.sample(n=50000)\n",
        "sample.columns"
      ]
    },
    {
      "cell_type": "code",
      "execution_count": 9,
      "metadata": {
        "colab": {
          "base_uri": "https://localhost:8080/",
          "height": 489
        },
        "id": "N5YWvSQ8x_c4",
        "outputId": "37052ff6-0d3b-405d-b634-30c2194af50a"
      },
      "outputs": [
        {
          "output_type": "execute_result",
          "data": {
            "text/plain": [
              "categoryTitle\n",
              "گیاهان آپارتمانی        235\n",
              "ظروف آشپزخانه           227\n",
              "لوازم پخت و پز          226\n",
              "فلاسک، کلمن و ماگ       224\n",
              "ظروف سرو و پذیرایی      223\n",
              "                       ... \n",
              "دوربین عکاسی              1\n",
              "دوربین ورزشی و گوپرو      1\n",
              "دوربین گوشی و تبلت        1\n",
              "شعله افکن                 1\n",
              "ساندبار                   1\n",
              "Name: _id, Length: 776, dtype: int64"
            ],
            "text/html": [
              "<div>\n",
              "<style scoped>\n",
              "    .dataframe tbody tr th:only-of-type {\n",
              "        vertical-align: middle;\n",
              "    }\n",
              "\n",
              "    .dataframe tbody tr th {\n",
              "        vertical-align: top;\n",
              "    }\n",
              "\n",
              "    .dataframe thead th {\n",
              "        text-align: right;\n",
              "    }\n",
              "</style>\n",
              "<table border=\"1\" class=\"dataframe\">\n",
              "  <thead>\n",
              "    <tr style=\"text-align: right;\">\n",
              "      <th></th>\n",
              "      <th>_id</th>\n",
              "    </tr>\n",
              "    <tr>\n",
              "      <th>categoryTitle</th>\n",
              "      <th></th>\n",
              "    </tr>\n",
              "  </thead>\n",
              "  <tbody>\n",
              "    <tr>\n",
              "      <th>گیاهان آپارتمانی</th>\n",
              "      <td>235</td>\n",
              "    </tr>\n",
              "    <tr>\n",
              "      <th>ظروف آشپزخانه</th>\n",
              "      <td>227</td>\n",
              "    </tr>\n",
              "    <tr>\n",
              "      <th>لوازم پخت و پز</th>\n",
              "      <td>226</td>\n",
              "    </tr>\n",
              "    <tr>\n",
              "      <th>فلاسک، کلمن و ماگ</th>\n",
              "      <td>224</td>\n",
              "    </tr>\n",
              "    <tr>\n",
              "      <th>ظروف سرو و پذیرایی</th>\n",
              "      <td>223</td>\n",
              "    </tr>\n",
              "    <tr>\n",
              "      <th>...</th>\n",
              "      <td>...</td>\n",
              "    </tr>\n",
              "    <tr>\n",
              "      <th>دوربین عکاسی</th>\n",
              "      <td>1</td>\n",
              "    </tr>\n",
              "    <tr>\n",
              "      <th>دوربین ورزشی و گوپرو</th>\n",
              "      <td>1</td>\n",
              "    </tr>\n",
              "    <tr>\n",
              "      <th>دوربین گوشی و تبلت</th>\n",
              "      <td>1</td>\n",
              "    </tr>\n",
              "    <tr>\n",
              "      <th>شعله افکن</th>\n",
              "      <td>1</td>\n",
              "    </tr>\n",
              "    <tr>\n",
              "      <th>ساندبار</th>\n",
              "      <td>1</td>\n",
              "    </tr>\n",
              "  </tbody>\n",
              "</table>\n",
              "<p>776 rows × 1 columns</p>\n",
              "</div><br><label><b>dtype:</b> int64</label>"
            ]
          },
          "metadata": {},
          "execution_count": 9
        }
      ],
      "source": [
        "sample.groupby('categoryTitle')['_id'].count().sort_values(ascending=False)"
      ]
    },
    {
      "cell_type": "code",
      "execution_count": null,
      "metadata": {
        "id": "XzvAvac6x_c6"
      },
      "outputs": [],
      "source": [
        "# filter products with rating count more than 1/5 of the max rating count\n",
        "sample[sample['rating_count']>max(products['rating_count'])/5][['_id','rating_average', 'name', 'sales_count_week']].sort_values(by='rating_average')"
      ]
    },
    {
      "cell_type": "code",
      "execution_count": null,
      "metadata": {
        "id": "DwluFn5cx_c7"
      },
      "outputs": [],
      "source": [
        "# products with count of their reviews\n",
        "reviews_per_product = pd.read_csv('reviews_count_per_product.csv')\n",
        "reviews_per_product.head()"
      ]
    },
    {
      "cell_type": "code",
      "execution_count": null,
      "metadata": {
        "id": "Ldj2YWTZx_c7"
      },
      "outputs": [],
      "source": [
        "# number of products without any reviews\n",
        "len(sample[~sample['_id'].isin(reviews_per_product['productId'])])/sample.shape[0]"
      ]
    },
    {
      "cell_type": "code",
      "execution_count": null,
      "metadata": {
        "id": "GQ1qy6wNx_c8"
      },
      "outputs": [],
      "source": [
        "px.histogram(reviews_per_product['count'])"
      ]
    },
    {
      "cell_type": "code",
      "execution_count": null,
      "metadata": {
        "id": "4Slov_-Jx_c8"
      },
      "outputs": [],
      "source": [
        "# check the average rating of products with at least 10 reviews\n",
        "p_atleast10comment = sample[sample['_id'].isin(reviews_per_product[reviews_per_product['count']>10]['productId'])]\n",
        "p_atleast10comment[p_atleast10comment['rating_count'] > 50][['name', 'sales_count_week', 'rating_average', 'categoryTitle']].groupby(\n",
        "    'categoryTitle').filter(lambda x: len(x)>5).groupby('categoryTitle')['rating_average'].agg(['mean', 'count']).sort_values(by='mean')"
      ]
    },
    {
      "cell_type": "code",
      "execution_count": null,
      "metadata": {
        "id": "POdfbjnNx_c8"
      },
      "outputs": [],
      "source": [
        "# check the average rating of products with at least 5 reviews\n",
        "print(sample[sample['categoryTitle'] == 'میوه خشک']['rating_average'].mean())\n",
        "print(sample[(sample['categoryTitle'] == 'میوه خشک') & (sample['_id'].isin(reviews_per_product[reviews_per_product['count']>5]['productId']))]['rating_average'].mean())"
      ]
    },
    {
      "cell_type": "code",
      "execution_count": null,
      "metadata": {
        "id": "Wnp8naAix_c9"
      },
      "outputs": [],
      "source": [
        "# check the average rating of categories with at least 50 products and at least 5 reviews\n",
        "\n",
        "filtered = sample[(sample['categoryTitle'] != 'سایر') & (sample['rating_average']!=0) & (sample['_id'].isin(reviews_per_product[reviews_per_product['count']>5]['productId']))\n",
        "                    ].groupby('categoryTitle').filter(lambda x: len(x)>5\n",
        "                    ).groupby('categoryTitle')['rating_average'].mean().reset_index(name='rate'\n",
        "                    ).sort_values(by='rate', ascending=True).head(30)\n",
        "\n",
        "rating_by_cat_plot = pd.DataFrame({\n",
        "    'category': filtered.categoryTitle.values,\n",
        "    'rate': filtered.rate.values\n",
        "})\n",
        "\n",
        "fig = px.bar(rating_by_cat_plot, x='category', y='rate')\n",
        "fig.update_layout(\n",
        "    xaxis=dict(\n",
        "        tickangle=-90,\n",
        "        tickfont=dict(size=14, color='black')\n",
        "    )\n",
        ")\n",
        "\n",
        "fig.show()"
      ]
    },
    {
      "cell_type": "code",
      "execution_count": null,
      "metadata": {
        "id": "LFVa2NFex_c9"
      },
      "outputs": [],
      "source": [
        "# check the number of rating count\n",
        "print(sum(sample[(sample['categoryTitle'] != 'سایر') & (sample['rating_average']!=0)]['rating_count']<10)/len(sample[(sample['categoryTitle'] != 'سایر') & (sample['rating_average']!=0)]['rating_count']))\n",
        "fig = px.histogram(sample[(sample['categoryTitle'] != 'سایر') & (sample['rating_average']!=0)]['rating_count'])\n",
        "\n",
        "fig.show()"
      ]
    },
    {
      "cell_type": "code",
      "execution_count": null,
      "metadata": {
        "id": "08QyYXUIx_c9"
      },
      "outputs": [],
      "source": [
        "filtered = sample[(sample['categoryTitle'] != 'سایر') & (sample['rating_average']!=0\n",
        "                )].groupby('categoryTitle').size().reset_index(name='product_count').sort_values(by='product_count', ascending=False).head(10)\n",
        "\n",
        "rating_by_cat_plot = pd.DataFrame({\n",
        "    'category': filtered.categoryTitle.values,\n",
        "    'product_count': filtered.product_count.values\n",
        "})\n",
        "\n",
        "fig = px.bar(rating_by_cat_plot, x='category', y='product_count')\n",
        "fig.update_layout(\n",
        "    xaxis=dict(\n",
        "        tickangle=-45,\n",
        "        tickfont=dict(size=14, color='black')\n",
        "    )\n",
        ")\n",
        "\n",
        "fig.show()"
      ]
    },
    {
      "cell_type": "markdown",
      "metadata": {
        "id": "fKDnm9W7x_c9"
      },
      "source": [
        "## map"
      ]
    },
    {
      "cell_type": "code",
      "execution_count": null,
      "metadata": {
        "id": "XbLaRmfjx_c-"
      },
      "outputs": [],
      "source": [
        "pip install geopandas"
      ]
    },
    {
      "cell_type": "code",
      "execution_count": null,
      "metadata": {
        "id": "p3MiQ7IVx_c-"
      },
      "outputs": [],
      "source": [
        "map_provinceId = {\n",
        "    3.0: 'EastAzarbaijan', 4.0: 'WestAzarbaijan', 5.0: 'Ardebil', 6.0: 'Esfahan', 7.0: 'Alborz',\n",
        "    8.0: 'Ilam',9.0: 'Bushehr',10.0: 'Tehran',11.0: 'ChaharMahallandBakhtiari',\n",
        "    12.0: 'SouthKhorasan', 13.0: 'RazaviKhorasan', 14.0: 'NorthKhorasan', 15.0:'Khuzestan',\n",
        "    16.0: 'Zanjan', 17.0: 'Semnan', 18.0: 'SistanandBaluchestan', 19.0: 'Fars', 20.0: 'Qazvin',\n",
        "    21.0: 'Qom', 22.0: 'Kordestan', 23.0:'Kerman', 24.0:'Kermanshah',\n",
        "    25.0: 'KohgiluyehandBuyerAhmad', 26.0: 'Golestan',\n",
        "    27.0: 'Gilan', 28.0: 'Lorestan', 29.0: 'Mazandaran',\n",
        "    30.0: 'Markazi', 31.0: 'Hormozgan', 32.0:'Hamadan', 33.0: 'Yazd'\n",
        "}"
      ]
    },
    {
      "cell_type": "code",
      "execution_count": null,
      "metadata": {
        "id": "5VNwHs2px_c-"
      },
      "outputs": [],
      "source": [
        "import geopandas as gpd\n",
        "\n",
        "# Load the GeoJSON file\n",
        "gdf = gpd.read_file('E:/Courses&Code/BaSalam-Project/data/geojson/gadm41_IRN_1.json')"
      ]
    },
    {
      "cell_type": "code",
      "execution_count": null,
      "metadata": {
        "id": "BANQHZkmx_c-"
      },
      "outputs": [],
      "source": [
        "products['vendor_provinceId'] = products['vendor_provinceId'].map(map_provinceId)"
      ]
    },
    {
      "cell_type": "code",
      "execution_count": null,
      "metadata": {
        "id": "Tj04cxYQx_c-"
      },
      "outputs": [],
      "source": [
        "vendor_counts = products.groupby('vendor_provinceId')['vendor_id'].nunique()\n",
        "vendor_counts = vendor_counts.reset_index(name='NAME_1')\n",
        "vendor_counts.columns = ['NAME_1', 'vendor_counts']\n",
        "vendor_counts['percentage'] = pd.Series(np.round(vendor_counts['vendor_counts'] / len(products['vendor_id'].unique()) * 100 , 2))\n",
        "vendor_per_province = pd.merge(gdf, vendor_counts, on='NAME_1')"
      ]
    },
    {
      "cell_type": "code",
      "execution_count": null,
      "metadata": {
        "id": "0EbcsLnkx_c-"
      },
      "outputs": [],
      "source": [
        "fig = px.choropleth(vendor_per_province,\n",
        "                    geojson=vendor_per_province.geometry,\n",
        "                    locations=vendor_per_province.index,\n",
        "                    color=vendor_per_province.vendor_counts,\n",
        "                    hover_name=vendor_per_province['NAME_1'],\n",
        "                    title=\"Number of vendors in each province\",\n",
        "                    hover_data=['percentage'])\n",
        "\n",
        "fig.update_geos(fitbounds=\"locations\", visible=True)\n",
        "\n",
        "fig.show()"
      ]
    },
    {
      "cell_type": "markdown",
      "metadata": {
        "id": "xecniLSwx_dA"
      },
      "source": [
        "### worst vendor province"
      ]
    },
    {
      "cell_type": "code",
      "execution_count": null,
      "metadata": {
        "id": "2u7X9CsGx_dB"
      },
      "outputs": [],
      "source": [
        "products[(products['rating_count']>10)].groupby('vendor_id')['rating_average'].mean().sort_values(ascending=True).head(200)"
      ]
    },
    {
      "cell_type": "code",
      "execution_count": null,
      "metadata": {
        "id": "t1svsYiqx_dB"
      },
      "outputs": [],
      "source": [
        "worst_vendor_province = products[products['vendor_id'].isin(products[(products['rating_count']>10)].groupby('vendor_id')['rating_average'].mean().sort_values(ascending=True).head(100).index)][\n",
        "    ['vendor_id', 'vendor_provinceId']].drop_duplicates().groupby('vendor_provinceId')['vendor_id'].count().sort_values(ascending=False).reset_index(name='vendor_count')\n",
        "worst_vendor_province.columns = ['NAME_1', 'vendor_counts']\n",
        "worst_vendor_province['percentage'] = pd.Series(worst_vendor_province['vendor_counts'] )\n",
        "vendor_per_province = pd.merge(gdf, worst_vendor_province, on='NAME_1')\n",
        "fig = px.choropleth(vendor_per_province,\n",
        "                    geojson=vendor_per_province.geometry,\n",
        "                    locations=vendor_per_province.index,\n",
        "                    color=vendor_per_province.vendor_counts,\n",
        "                    hover_name=vendor_per_province['NAME_1'],\n",
        "                    title=\"Number of vendors in each province\",\n",
        "                    hover_data=['percentage'])\n",
        "fig.update_geos(fitbounds=\"locations\", visible=True)\n",
        "\n",
        "fig.show()"
      ]
    },
    {
      "cell_type": "markdown",
      "metadata": {
        "id": "3Gd9Sha7x_dB"
      },
      "source": [
        "### best vendor province\n"
      ]
    },
    {
      "cell_type": "code",
      "execution_count": null,
      "metadata": {
        "id": "qXamQb4_x_dB"
      },
      "outputs": [],
      "source": [
        "best_vendor_province = products[products['vendor_id'].isin(products[(products['rating_count']>10)].groupby('vendor_id')['rating_average'].mean().sort_values(ascending=False).head(100).index)][\n",
        "    ['vendor_id', 'vendor_provinceId']].drop_duplicates().groupby('vendor_provinceId')['vendor_id'].count().sort_values(ascending=False).reset_index(name='vendor_count')\n",
        "best_vendor_province.columns = ['NAME_1', 'vendor_counts']\n",
        "best_vendor_province['percentage'] = pd.Series(best_vendor_province['vendor_counts'] )\n",
        "vendor_per_province = pd.merge(gdf, best_vendor_province, on='NAME_1')\n",
        "\n",
        "fig = px.choropleth(vendor_per_province,\n",
        "                    geojson=vendor_per_province.geometry,\n",
        "                    locations=vendor_per_province.index,\n",
        "                    color=vendor_per_province.vendor_counts,\n",
        "                    hover_name=vendor_per_province['NAME_1'],\n",
        "                    title=\"Number of vendors in each province\",\n",
        "                    hover_data=['percentage'])\n",
        "fig.update_geos(fitbounds=\"locations\", visible=True)\n",
        "\n",
        "fig.show()"
      ]
    },
    {
      "cell_type": "markdown",
      "metadata": {
        "id": "e7mAWq89x_dB"
      },
      "source": [
        "## more"
      ]
    },
    {
      "cell_type": "code",
      "execution_count": null,
      "metadata": {
        "id": "G41NoKmdx_dB"
      },
      "outputs": [],
      "source": [
        "px.histogram(products['_score'])"
      ]
    },
    {
      "cell_type": "code",
      "execution_count": null,
      "metadata": {
        "id": "W3D0ag2Kx_dC"
      },
      "outputs": [],
      "source": [
        "sample['_score'].isna().sum()"
      ]
    },
    {
      "cell_type": "code",
      "execution_count": null,
      "metadata": {
        "id": "Ckq749Uax_dC"
      },
      "outputs": [],
      "source": [
        "sample['_score-cut'] = pd.cut(sample['_score'], bins=[-1, 50, 100, 200, 300, 400, 500], labels=[0, 1, 2, 3, 4, 5]).values"
      ]
    },
    {
      "cell_type": "code",
      "execution_count": null,
      "metadata": {
        "id": "xZY4Fh6nx_dC"
      },
      "outputs": [],
      "source": [
        "sample.groupby('_score-cut')[['price', 'sales_count_week']].mean()"
      ]
    },
    {
      "cell_type": "code",
      "execution_count": null,
      "metadata": {
        "id": "vbSl0s9Px_dC"
      },
      "outputs": [],
      "source": [
        "sample['_score-sales-mean'] = sample['_score-cut'].map(sample.groupby('_score-cut')[ 'sales_count_week'].mean())"
      ]
    },
    {
      "cell_type": "code",
      "execution_count": null,
      "metadata": {
        "id": "lk1ksZofx_dC"
      },
      "outputs": [],
      "source": [
        "px.scatter(sample, x='_score', y='rating_count')"
      ]
    },
    {
      "cell_type": "markdown",
      "metadata": {
        "id": "h9SKm5FBx_dD"
      },
      "source": [
        "## anomlay"
      ]
    },
    {
      "cell_type": "code",
      "execution_count": null,
      "metadata": {
        "id": "GdBB3MGCx_dD"
      },
      "outputs": [],
      "source": [
        "products.groupby('categoryTitle').size().sort_values(ascending=False)"
      ]
    },
    {
      "cell_type": "code",
      "execution_count": null,
      "metadata": {
        "id": "OSI2rARGx_dD"
      },
      "outputs": [],
      "source": [
        "category_with_high_sale = products[products['sales_count_week']!=0].groupby('categoryTitle').size().sort_values(ascending=False).head(10)\n",
        "category_with_high_sale"
      ]
    },
    {
      "cell_type": "code",
      "execution_count": null,
      "metadata": {
        "id": "qLCHqcUmx_dD"
      },
      "outputs": [],
      "source": [
        "data = products[((products['categoryTitle'].isin(category_with_high_sale.index)) & (products['rating_average'] > 0)) & (products['sales_count_week']!=0\n",
        "                                )][['sales_count_week', 'categoryTitle', 'rating_average', 'price']]\n",
        "data['price-q'] = pd.cut(data['price'], bins=[0, 500000, 2000000, 50000000, 100000000000000000], labels=['Very low', 'Low', 'Medium', 'High'])\n",
        "fig = px.histogram(data['price-q'])\n",
        "fig.show()"
      ]
    },
    {
      "cell_type": "code",
      "execution_count": null,
      "metadata": {
        "id": "1Imclje1x_dD"
      },
      "outputs": [],
      "source": [
        "fig = px.scatter_3d(data, x='sales_count_week', y='rating_average', z='price-q')\n",
        "fig.show()"
      ]
    }
  ],
  "metadata": {
    "kernelspec": {
      "display_name": "Python 3",
      "name": "python3"
    },
    "language_info": {
      "codemirror_mode": {
        "name": "ipython",
        "version": 3
      },
      "file_extension": ".py",
      "mimetype": "text/x-python",
      "name": "python",
      "nbconvert_exporter": "python",
      "pygments_lexer": "ipython3",
      "version": "3.12.8"
    },
    "colab": {
      "provenance": [],
      "gpuType": "T4"
    },
    "accelerator": "GPU"
  },
  "nbformat": 4,
  "nbformat_minor": 0
}