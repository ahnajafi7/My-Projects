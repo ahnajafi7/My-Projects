{
 "cells": [
  {
   "cell_type": "markdown",
   "id": "3207a16b-b3f3-438d-a6f8-026f7bba0d72",
   "metadata": {},
   "source": [
    "**I have completed a data science project in Python where I analyzed data related to house and property sales. The objective of this exercise was to analyze the data to identify patterns and extract useful insights such as the number and prices of houses and properties sold in different years and conditions. This analysis involved statistical calculations and comparisons, data grouping, and creating visual charts. Overall, the goal of this exercise was to enhance my data analysis skills using Python and related libraries.**\n",
    "1.\timporting our library.\n",
    "2.\treading our dataset\n",
    "3.\tfind the how many houses and properties are sold \n",
    "4.\tcalculate the average house price\n",
    "5.\tfind the highest sales\n",
    "6.\tGroup the dataset by years\n",
    "7.\tGroup the dataset by number of bedrooms\n",
    "8.\tGroup the dataset by property type\n",
    "9.\tfind the cheapest house sale in 2010\n",
    "10.\tfind the most expensive house sale in 2017\n",
    "11.\tfind the most expensive house with 5 bedrooms\n",
    "12.\tfind the cheapest unit\n",
    "13.\tfind the cheapest unit in 2008\n",
    "14.\tfind the average house price in 2015\n",
    "15.\tfind the total amount of unit sales in 2016\n",
    "16.\tFind the cheapest house sales at 2617\n",
    "17.\tCreate a pie chart that shows the distribution of sales by bedrooms number.\n",
    "18.\tCreate a histogram that shows the Sales dataset\n"
   ]
  },
  {
   "cell_type": "markdown",
   "id": "965d7f8a-cdd7-45a6-811f-df03ee3f0f4b",
   "metadata": {},
   "source": [
    "## 1.importing our library"
   ]
  },
  {
   "cell_type": "code",
   "execution_count": 2,
   "id": "7f967e33-d84d-454a-a343-c2989a794905",
   "metadata": {},
   "outputs": [],
   "source": [
    "import numpy as np\n",
    "import matplotlib.pyplot as plt\n",
    "import pandas as pd\n",
    "%matplotlib inline"
   ]
  },
  {
   "cell_type": "markdown",
   "id": "b5e1530a-7a72-4326-a292-d20c188e92d5",
   "metadata": {},
   "source": [
    "## 2.reading our dataset"
   ]
  },
  {
   "cell_type": "code",
   "execution_count": 3,
   "id": "dd09decf-2746-4d24-bc64-5ebde5003b4b",
   "metadata": {},
   "outputs": [
    {
     "data": {
      "text/html": [
       "<div>\n",
       "<style scoped>\n",
       "    .dataframe tbody tr th:only-of-type {\n",
       "        vertical-align: middle;\n",
       "    }\n",
       "\n",
       "    .dataframe tbody tr th {\n",
       "        vertical-align: top;\n",
       "    }\n",
       "\n",
       "    .dataframe thead th {\n",
       "        text-align: right;\n",
       "    }\n",
       "</style>\n",
       "<table border=\"1\" class=\"dataframe\">\n",
       "  <thead>\n",
       "    <tr style=\"text-align: right;\">\n",
       "      <th></th>\n",
       "      <th>Datesold</th>\n",
       "      <th>Postcode</th>\n",
       "      <th>Price</th>\n",
       "      <th>Property Type</th>\n",
       "      <th>Bedrooms</th>\n",
       "      <th>Year</th>\n",
       "    </tr>\n",
       "  </thead>\n",
       "  <tbody>\n",
       "    <tr>\n",
       "      <th>0</th>\n",
       "      <td>07/02/2007 00:00</td>\n",
       "      <td>2607</td>\n",
       "      <td>525000</td>\n",
       "      <td>house</td>\n",
       "      <td>4</td>\n",
       "      <td>2007</td>\n",
       "    </tr>\n",
       "    <tr>\n",
       "      <th>1</th>\n",
       "      <td>27/02/2007 00:00</td>\n",
       "      <td>2906</td>\n",
       "      <td>290000</td>\n",
       "      <td>house</td>\n",
       "      <td>3</td>\n",
       "      <td>2007</td>\n",
       "    </tr>\n",
       "    <tr>\n",
       "      <th>2</th>\n",
       "      <td>07/03/2007 00:00</td>\n",
       "      <td>2905</td>\n",
       "      <td>328000</td>\n",
       "      <td>house</td>\n",
       "      <td>3</td>\n",
       "      <td>2007</td>\n",
       "    </tr>\n",
       "    <tr>\n",
       "      <th>3</th>\n",
       "      <td>09/03/2007 00:00</td>\n",
       "      <td>2905</td>\n",
       "      <td>380000</td>\n",
       "      <td>house</td>\n",
       "      <td>4</td>\n",
       "      <td>2007</td>\n",
       "    </tr>\n",
       "    <tr>\n",
       "      <th>4</th>\n",
       "      <td>21/03/2007 00:00</td>\n",
       "      <td>2906</td>\n",
       "      <td>310000</td>\n",
       "      <td>house</td>\n",
       "      <td>3</td>\n",
       "      <td>2007</td>\n",
       "    </tr>\n",
       "    <tr>\n",
       "      <th>...</th>\n",
       "      <td>...</td>\n",
       "      <td>...</td>\n",
       "      <td>...</td>\n",
       "      <td>...</td>\n",
       "      <td>...</td>\n",
       "      <td>...</td>\n",
       "    </tr>\n",
       "    <tr>\n",
       "      <th>28190</th>\n",
       "      <td>21/12/2018 00:00</td>\n",
       "      <td>2612</td>\n",
       "      <td>580000</td>\n",
       "      <td>unit</td>\n",
       "      <td>2</td>\n",
       "      <td>2018</td>\n",
       "    </tr>\n",
       "    <tr>\n",
       "      <th>28191</th>\n",
       "      <td>22/12/2018 00:00</td>\n",
       "      <td>2602</td>\n",
       "      <td>750000</td>\n",
       "      <td>house</td>\n",
       "      <td>3</td>\n",
       "      <td>2018</td>\n",
       "    </tr>\n",
       "    <tr>\n",
       "      <th>28192</th>\n",
       "      <td>24/12/2018 00:00</td>\n",
       "      <td>2914</td>\n",
       "      <td>640000</td>\n",
       "      <td>house</td>\n",
       "      <td>4</td>\n",
       "      <td>2018</td>\n",
       "    </tr>\n",
       "    <tr>\n",
       "      <th>28193</th>\n",
       "      <td>24/12/2018 00:00</td>\n",
       "      <td>2602</td>\n",
       "      <td>780000</td>\n",
       "      <td>house</td>\n",
       "      <td>3</td>\n",
       "      <td>2018</td>\n",
       "    </tr>\n",
       "    <tr>\n",
       "      <th>28194</th>\n",
       "      <td>24/12/2018 00:00</td>\n",
       "      <td>2603</td>\n",
       "      <td>1410000</td>\n",
       "      <td>house</td>\n",
       "      <td>4</td>\n",
       "      <td>2018</td>\n",
       "    </tr>\n",
       "  </tbody>\n",
       "</table>\n",
       "<p>28195 rows × 6 columns</p>\n",
       "</div>"
      ],
      "text/plain": [
       "               Datesold  Postcode    Price Property Type  Bedrooms  Year\n",
       "0      07/02/2007 00:00      2607   525000         house         4  2007\n",
       "1      27/02/2007 00:00      2906   290000         house         3  2007\n",
       "2      07/03/2007 00:00      2905   328000         house         3  2007\n",
       "3      09/03/2007 00:00      2905   380000         house         4  2007\n",
       "4      21/03/2007 00:00      2906   310000         house         3  2007\n",
       "...                 ...       ...      ...           ...       ...   ...\n",
       "28190  21/12/2018 00:00      2612   580000          unit         2  2018\n",
       "28191  22/12/2018 00:00      2602   750000         house         3  2018\n",
       "28192  24/12/2018 00:00      2914   640000         house         4  2018\n",
       "28193  24/12/2018 00:00      2602   780000         house         3  2018\n",
       "28194  24/12/2018 00:00      2603  1410000         house         4  2018\n",
       "\n",
       "[28195 rows x 6 columns]"
      ]
     },
     "execution_count": 3,
     "metadata": {},
     "output_type": "execute_result"
    }
   ],
   "source": [
    "House_Sales_DF = pd.read_csv('H:/Data Science/Python for Data Science/75/12. Data Science Hands-On Projects __ 5.1 House Sales.csv')\n",
    "House_Sales_DF"
   ]
  },
  {
   "cell_type": "markdown",
   "id": "41cf1ec8-500a-47d0-b452-22b7b0b0d268",
   "metadata": {},
   "source": [
    "## 3.find the how many houses and properties are sold "
   ]
  },
  {
   "cell_type": "code",
   "execution_count": 4,
   "id": "f22c1109-5a0b-4736-9223-6e61d4241aa3",
   "metadata": {},
   "outputs": [
    {
     "data": {
      "text/plain": [
       "28195"
      ]
     },
     "execution_count": 4,
     "metadata": {},
     "output_type": "execute_result"
    }
   ],
   "source": [
    "len(House_Sales_DF)"
   ]
  },
  {
   "cell_type": "code",
   "execution_count": 5,
   "id": "8e91cd01-d779-4248-a510-843ed7adb930",
   "metadata": {},
   "outputs": [
    {
     "name": "stdout",
     "output_type": "stream",
     "text": [
      "<class 'pandas.core.frame.DataFrame'>\n",
      "RangeIndex: 28195 entries, 0 to 28194\n",
      "Data columns (total 6 columns):\n",
      " #   Column         Non-Null Count  Dtype \n",
      "---  ------         --------------  ----- \n",
      " 0   Datesold       28195 non-null  object\n",
      " 1   Postcode       28195 non-null  int64 \n",
      " 2   Price          28195 non-null  int64 \n",
      " 3   Property Type  28195 non-null  object\n",
      " 4   Bedrooms       28195 non-null  int64 \n",
      " 5   Year           28195 non-null  int64 \n",
      "dtypes: int64(4), object(2)\n",
      "memory usage: 1.3+ MB\n"
     ]
    }
   ],
   "source": [
    "House_Sales_DF.info()"
   ]
  },
  {
   "cell_type": "code",
   "execution_count": 6,
   "id": "95ecad61-2938-4fb6-87a0-b10cf1eef689",
   "metadata": {},
   "outputs": [
    {
     "data": {
      "text/plain": [
       "Datesold         28195\n",
       "Postcode         28195\n",
       "Price            28195\n",
       "Property Type    28195\n",
       "Bedrooms         28195\n",
       "Year             28195\n",
       "dtype: int64"
      ]
     },
     "execution_count": 6,
     "metadata": {},
     "output_type": "execute_result"
    }
   ],
   "source": [
    "House_Sales_DF.count()"
   ]
  },
  {
   "cell_type": "markdown",
   "id": "61ae1347-1cdf-4fc7-9d66-28a8da2631fc",
   "metadata": {},
   "source": [
    "## 4.calculate the average house price"
   ]
  },
  {
   "cell_type": "code",
   "execution_count": 7,
   "id": "f0bcee27-07a9-4b20-91d0-1a09d937256a",
   "metadata": {},
   "outputs": [
    {
     "data": {
      "text/plain": [
       "608535.3251640361"
      ]
     },
     "execution_count": 7,
     "metadata": {},
     "output_type": "execute_result"
    }
   ],
   "source": [
    "House_Sales_DF['Price'].mean()"
   ]
  },
  {
   "cell_type": "markdown",
   "id": "54e4f5a3-721e-4dc0-be93-0723ff346ad0",
   "metadata": {},
   "source": [
    "## 5.find the highest sales"
   ]
  },
  {
   "cell_type": "code",
   "execution_count": 8,
   "id": "28ab4a38-96c2-4719-984b-ef6ae094b1f5",
   "metadata": {},
   "outputs": [
    {
     "data": {
      "text/html": [
       "<div>\n",
       "<style scoped>\n",
       "    .dataframe tbody tr th:only-of-type {\n",
       "        vertical-align: middle;\n",
       "    }\n",
       "\n",
       "    .dataframe tbody tr th {\n",
       "        vertical-align: top;\n",
       "    }\n",
       "\n",
       "    .dataframe thead th {\n",
       "        text-align: right;\n",
       "    }\n",
       "</style>\n",
       "<table border=\"1\" class=\"dataframe\">\n",
       "  <thead>\n",
       "    <tr style=\"text-align: right;\">\n",
       "      <th></th>\n",
       "      <th>Datesold</th>\n",
       "      <th>Postcode</th>\n",
       "      <th>Price</th>\n",
       "      <th>Property Type</th>\n",
       "      <th>Bedrooms</th>\n",
       "      <th>Year</th>\n",
       "    </tr>\n",
       "  </thead>\n",
       "  <tbody>\n",
       "    <tr>\n",
       "      <th>15186</th>\n",
       "      <td>02/11/2015 00:00</td>\n",
       "      <td>2611</td>\n",
       "      <td>8000000</td>\n",
       "      <td>house</td>\n",
       "      <td>4</td>\n",
       "      <td>2015</td>\n",
       "    </tr>\n",
       "  </tbody>\n",
       "</table>\n",
       "</div>"
      ],
      "text/plain": [
       "               Datesold  Postcode    Price Property Type  Bedrooms  Year\n",
       "15186  02/11/2015 00:00      2611  8000000         house         4  2015"
      ]
     },
     "execution_count": 8,
     "metadata": {},
     "output_type": "execute_result"
    }
   ],
   "source": [
    "House_Sales_DF[House_Sales_DF['Price'] == House_Sales_DF['Price'].max()]"
   ]
  },
  {
   "cell_type": "markdown",
   "id": "d10da981-1313-4616-9794-de3366f014a4",
   "metadata": {},
   "source": [
    "## 6.Group the dataset by years"
   ]
  },
  {
   "cell_type": "code",
   "execution_count": 9,
   "id": "2d811fc9-2458-4644-8b9c-a7d5811278b3",
   "metadata": {},
   "outputs": [
    {
     "data": {
      "text/plain": [
       "<pandas.core.groupby.generic.DataFrameGroupBy object at 0x00000235CFD9BC90>"
      ]
     },
     "execution_count": 9,
     "metadata": {},
     "output_type": "execute_result"
    }
   ],
   "source": [
    "House_Sales_DF.groupby('Year')"
   ]
  },
  {
   "cell_type": "code",
   "execution_count": 10,
   "id": "add7926a-b60f-4bba-8ccc-707e93163a54",
   "metadata": {},
   "outputs": [
    {
     "data": {
      "text/plain": [
       "{2007: [0, 1, 2, 3, 4, 5, 6, 7, 8, 9, 10, 11, 12, 13, 14, 15, 16, 17, 18, 19, 20, 21, 22, 23, 24, 25, 26, 27, 28, 29, 30, 31, 32, 33, 34, 35, 36, 37, 38, 39, 40, 41, 42, 43, 44, 45, 46, 47, 48, 49, 50, 51, 52, 53, 54, 55, 56, 57, 58, 59, 60, 61, 62, 63, 64, 65, 66, 67, 68, 69, 70, 71, 72, 73, 74, 75, 76, 77, 78, 79, 80, 81, 82, 83, 84, 85, 86, 87, 88, 89, 90, 91, 92, 93, 94, 95, 96, 97, 98, 99, ...], 2008: [147, 148, 149, 150, 151, 152, 153, 154, 155, 156, 157, 158, 159, 160, 161, 162, 163, 164, 165, 166, 167, 168, 169, 170, 171, 172, 173, 174, 175, 176, 177, 178, 179, 180, 181, 182, 183, 184, 185, 186, 187, 188, 189, 190, 191, 192, 193, 194, 195, 196, 197, 198, 199, 200, 201, 202, 203, 204, 205, 206, 207, 208, 209, 210, 211, 212, 213, 214, 215, 216, 217, 218, 219, 220, 221, 222, 223, 224, 225, 226, 227, 228, 229, 230, 231, 232, 233, 234, 235, 236, 237, 238, 239, 240, 241, 242, 243, 244, 245, 246, ...], 2009: [786, 787, 788, 789, 790, 791, 792, 793, 794, 795, 796, 797, 798, 799, 800, 801, 802, 803, 804, 805, 806, 807, 808, 809, 810, 811, 812, 813, 814, 815, 816, 817, 818, 819, 820, 821, 822, 823, 824, 825, 826, 827, 828, 829, 830, 831, 832, 833, 834, 835, 836, 837, 838, 839, 840, 841, 842, 843, 844, 845, 846, 847, 848, 849, 850, 851, 852, 853, 854, 855, 856, 857, 858, 859, 860, 861, 862, 863, 864, 865, 866, 867, 868, 869, 870, 871, 872, 873, 874, 875, 876, 877, 878, 879, 880, 881, 882, 883, 884, 885, ...], 2010: [2212, 2213, 2214, 2215, 2216, 2217, 2218, 2219, 2220, 2221, 2222, 2223, 2224, 2225, 2226, 2227, 2228, 2229, 2230, 2231, 2232, 2233, 2234, 2235, 2236, 2237, 2238, 2239, 2240, 2241, 2242, 2243, 2244, 2245, 2246, 2247, 2248, 2249, 2250, 2251, 2252, 2253, 2254, 2255, 2256, 2257, 2258, 2259, 2260, 2261, 2262, 2263, 2264, 2265, 2266, 2267, 2268, 2269, 2270, 2271, 2272, 2273, 2274, 2275, 2276, 2277, 2278, 2279, 2280, 2281, 2282, 2283, 2284, 2285, 2286, 2287, 2288, 2289, 2290, 2291, 2292, 2293, 2294, 2295, 2296, 2297, 2298, 2299, 2300, 2301, 2302, 2303, 2304, 2305, 2306, 2307, 2308, 2309, 2310, 2311, ...], 2011: [3767, 3768, 3769, 3770, 3771, 3772, 3773, 3774, 3775, 3776, 3777, 3778, 3779, 3780, 3781, 3782, 3783, 3784, 3785, 3786, 3787, 3788, 3789, 3790, 3791, 3792, 3793, 3794, 3795, 3796, 3797, 3798, 3799, 3800, 3801, 3802, 3803, 3804, 3805, 3806, 3807, 3808, 3809, 3810, 3811, 3812, 3813, 3814, 3815, 3816, 3817, 3818, 3819, 3820, 3821, 3822, 3823, 3824, 3825, 3826, 3827, 3828, 3829, 3830, 3831, 3832, 3833, 3834, 3835, 3836, 3837, 3838, 3839, 3840, 3841, 3842, 3843, 3844, 3845, 3846, 3847, 3848, 3849, 3850, 3851, 3852, 3853, 3854, 3855, 3856, 3857, 3858, 3859, 3860, 3861, 3862, 3863, 3864, 3865, 3866, ...], 2012: [5400, 5401, 5402, 5403, 5404, 5405, 5406, 5407, 5408, 5409, 5410, 5411, 5412, 5413, 5414, 5415, 5416, 5417, 5418, 5419, 5420, 5421, 5422, 5423, 5424, 5425, 5426, 5427, 5428, 5429, 5430, 5431, 5432, 5433, 5434, 5435, 5436, 5437, 5438, 5439, 5440, 5441, 5442, 5443, 5444, 5445, 5446, 5447, 5448, 5449, 5450, 5451, 5452, 5453, 5454, 5455, 5456, 5457, 5458, 5459, 5460, 5461, 5462, 5463, 5464, 5465, 5466, 5467, 5468, 5469, 5470, 5471, 5472, 5473, 5474, 5475, 5476, 5477, 5478, 5479, 5480, 5481, 5482, 5483, 5484, 5485, 5486, 5487, 5488, 5489, 5490, 5491, 5492, 5493, 5494, 5495, 5496, 5497, 5498, 5499, ...], 2013: [7258, 7259, 7260, 7261, 7262, 7263, 7264, 7265, 7266, 7267, 7268, 7269, 7270, 7271, 7272, 7273, 7274, 7275, 7276, 7277, 7278, 7279, 7280, 7281, 7282, 7283, 7284, 7285, 7286, 7287, 7288, 7289, 7290, 7291, 7292, 7293, 7294, 7295, 7296, 7297, 7298, 7299, 7300, 7301, 7302, 7303, 7304, 7305, 7306, 7307, 7308, 7309, 7310, 7311, 7312, 7313, 7314, 7315, 7316, 7317, 7318, 7319, 7320, 7321, 7322, 7323, 7324, 7325, 7326, 7327, 7328, 7329, 7330, 7331, 7332, 7333, 7334, 7335, 7336, 7337, 7338, 7339, 7340, 7341, 7342, 7343, 7344, 7345, 7346, 7347, 7348, 7349, 7350, 7351, 7352, 7353, 7354, 7355, 7356, 7357, ...], 2014: [9377, 9378, 9379, 9380, 9381, 9382, 9383, 9384, 9385, 9386, 9387, 9388, 9389, 9390, 9391, 9392, 9393, 9394, 9395, 9396, 9397, 9398, 9399, 9400, 9401, 9402, 9403, 9404, 9405, 9406, 9407, 9408, 9409, 9410, 9411, 9412, 9413, 9414, 9415, 9416, 9417, 9418, 9419, 9420, 9421, 9422, 9423, 9424, 9425, 9426, 9427, 9428, 9429, 9430, 9431, 9432, 9433, 9434, 9435, 9436, 9437, 9438, 9439, 9440, 9441, 9442, 9443, 9444, 9445, 9446, 9447, 9448, 9449, 9450, 9451, 9452, 9453, 9454, 9455, 9456, 9457, 9458, 9459, 9460, 9461, 9462, 9463, 9464, 9465, 9466, 9467, 9468, 9469, 9470, 9471, 9472, 9473, 9474, 9475, 9476, ...], 2015: [12240, 12241, 12242, 12243, 12244, 12245, 12246, 12247, 12248, 12249, 12250, 12251, 12252, 12253, 12254, 12255, 12256, 12257, 12258, 12259, 12260, 12261, 12262, 12263, 12264, 12265, 12266, 12267, 12268, 12269, 12270, 12271, 12272, 12273, 12274, 12275, 12276, 12277, 12278, 12279, 12280, 12281, 12282, 12283, 12284, 12285, 12286, 12287, 12288, 12289, 12290, 12291, 12292, 12293, 12294, 12295, 12296, 12297, 12298, 12299, 12300, 12301, 12302, 12303, 12304, 12305, 12306, 12307, 12308, 12309, 12310, 12311, 12312, 12313, 12314, 12315, 12316, 12317, 12318, 12319, 12320, 12321, 12322, 12323, 12324, 12325, 12326, 12327, 12328, 12329, 12330, 12331, 12332, 12333, 12334, 12335, 12336, 12337, 12338, 12339, ...], 2016: [15888, 15889, 15890, 15891, 15892, 15893, 15894, 15895, 15896, 15897, 15898, 15899, 15900, 15901, 15902, 15903, 15904, 15905, 15906, 15907, 15908, 15909, 15910, 15911, 15912, 15913, 15914, 15915, 15916, 15917, 15918, 15919, 15920, 15921, 15922, 15923, 15924, 15925, 15926, 15927, 15928, 15929, 15930, 15931, 15932, 15933, 15934, 15935, 15936, 15937, 15938, 15939, 15940, 15941, 15942, 15943, 15944, 15945, 15946, 15947, 15948, 15949, 15950, 15951, 15952, 15953, 15954, 15955, 15956, 15957, 15958, 15959, 15960, 15961, 15962, 15963, 15964, 15965, 15966, 15967, 15968, 15969, 15970, 15971, 15972, 15973, 15974, 15975, 15976, 15977, 15978, 15979, 15980, 15981, 15982, 15983, 15984, 15985, 15986, 15987, ...], 2017: [19796, 19797, 19798, 19799, 19800, 19801, 19802, 19803, 19804, 19805, 19806, 19807, 19808, 19809, 19810, 19811, 19812, 19813, 19814, 19815, 19816, 19817, 19818, 19819, 19820, 19821, 19822, 19823, 19824, 19825, 19826, 19827, 19828, 19829, 19830, 19831, 19832, 19833, 19834, 19835, 19836, 19837, 19838, 19839, 19840, 19841, 19842, 19843, 19844, 19845, 19846, 19847, 19848, 19849, 19850, 19851, 19852, 19853, 19854, 19855, 19856, 19857, 19858, 19859, 19860, 19861, 19862, 19863, 19864, 19865, 19866, 19867, 19868, 19869, 19870, 19871, 19872, 19873, 19874, 19875, 19876, 19877, 19878, 19879, 19880, 19881, 19882, 19883, 19884, 19885, 19886, 19887, 19888, 19889, 19890, 19891, 19892, 19893, 19894, 19895, ...], 2018: [24337, 24338, 24339, 24340, 24341, 24342, 24343, 24344, 24345, 24346, 24347, 24348, 24349, 24350, 24351, 24352, 24353, 24354, 24355, 24356, 24357, 24358, 24359, 24360, 24361, 24362, 24363, 24364, 24365, 24366, 24367, 24368, 24369, 24370, 24371, 24372, 24373, 24374, 24375, 24376, 24377, 24378, 24379, 24380, 24381, 24382, 24383, 24384, 24385, 24386, 24387, 24388, 24389, 24390, 24391, 24392, 24393, 24394, 24395, 24396, 24397, 24398, 24399, 24400, 24401, 24402, 24403, 24404, 24405, 24406, 24407, 24408, 24409, 24410, 24411, 24412, 24413, 24414, 24415, 24416, 24417, 24418, 24419, 24420, 24421, 24422, 24423, 24424, 24425, 24426, 24427, 24428, 24429, 24430, 24431, 24432, 24433, 24434, 24435, 24436, ...]}"
      ]
     },
     "execution_count": 10,
     "metadata": {},
     "output_type": "execute_result"
    }
   ],
   "source": [
    "House_Sales_DF.groupby('Year').groups"
   ]
  },
  {
   "cell_type": "markdown",
   "id": "a24ef341-8861-4ed9-b683-356932906230",
   "metadata": {},
   "source": [
    "## 7.Group the dataset by number of bedrooms"
   ]
  },
  {
   "cell_type": "code",
   "execution_count": 11,
   "id": "dca58960-81e2-4506-a958-9d1e6eef41ff",
   "metadata": {},
   "outputs": [
    {
     "data": {
      "text/plain": [
       "<pandas.core.groupby.generic.DataFrameGroupBy object at 0x00000235CFDC0A50>"
      ]
     },
     "execution_count": 11,
     "metadata": {},
     "output_type": "execute_result"
    }
   ],
   "source": [
    "House_Sales_DF.groupby('Bedrooms')"
   ]
  },
  {
   "cell_type": "code",
   "execution_count": 12,
   "id": "e109b91c-2091-467f-a8eb-5c67dfac2957",
   "metadata": {},
   "outputs": [
    {
     "data": {
      "text/plain": [
       "{0: [493, 6581, 7382, 7399, 7627, 7898, 8188, 8316, 8513, 9414, 11994, 12312, 12344, 13168, 13627, 13718, 15080, 16458, 16465, 18659, 18992, 19104, 19892, 21384, 22574, 22974, 26796, 26868], 1: [21, 85, 93, 120, 141, 155, 156, 209, 254, 370, 392, 443, 460, 496, 509, 597, 624, 669, 671, 731, 787, 872, 902, 986, 989, 991, 1014, 1099, 1110, 1148, 1149, 1229, 1230, 1251, 1280, 1321, 1327, 1342, 1409, 1411, 1445, 1468, 1493, 1512, 1513, 1533, 1551, 1587, 1623, 1639, 1716, 1818, 1832, 1845, 1901, 1919, 1933, 1947, 2000, 2036, 2060, 2061, 2087, 2128, 2157, 2169, 2174, 2178, 2199, 2222, 2232, 2260, 2276, 2324, 2429, 2491, 2500, 2539, 2544, 2579, 2604, 2622, 2648, 2730, 2777, 2848, 2869, 2870, 2921, 2959, 2968, 3009, 3049, 3073, 3078, 3091, 3118, 3140, 3145, 3146, ...], 2: [13, 18, 29, 51, 54, 60, 62, 74, 76, 77, 79, 84, 104, 106, 137, 140, 147, 151, 178, 186, 192, 215, 218, 222, 232, 259, 265, 268, 274, 286, 320, 325, 327, 366, 373, 379, 390, 416, 426, 428, 434, 435, 437, 447, 448, 452, 461, 469, 472, 481, 497, 504, 510, 518, 528, 540, 549, 555, 568, 596, 615, 618, 644, 670, 674, 702, 709, 723, 724, 761, 773, 774, 785, 786, 790, 792, 800, 810, 821, 854, 864, 865, 871, 877, 878, 884, 886, 887, 891, 892, 909, 910, 915, 916, 917, 926, 927, 939, 940, 954, ...], 3: [1, 2, 4, 6, 8, 9, 10, 11, 17, 22, 23, 24, 25, 26, 27, 31, 33, 35, 36, 38, 39, 40, 41, 42, 43, 46, 53, 55, 56, 58, 61, 65, 67, 68, 78, 80, 81, 86, 87, 91, 92, 98, 102, 103, 108, 109, 110, 112, 113, 117, 118, 119, 121, 122, 123, 125, 126, 128, 129, 130, 131, 134, 138, 142, 144, 145, 146, 148, 160, 162, 163, 164, 165, 166, 167, 168, 173, 183, 185, 189, 190, 194, 195, 196, 197, 199, 204, 207, 210, 213, 219, 220, 223, 224, 225, 228, 229, 231, 233, 236, ...], 4: [0, 3, 5, 7, 12, 14, 15, 20, 28, 30, 32, 34, 44, 45, 48, 49, 50, 52, 57, 59, 63, 64, 66, 70, 71, 72, 73, 75, 82, 83, 89, 90, 94, 96, 99, 100, 105, 107, 111, 114, 115, 116, 127, 132, 133, 135, 136, 139, 143, 149, 150, 152, 153, 154, 157, 158, 159, 161, 169, 170, 171, 172, 175, 177, 180, 182, 184, 187, 188, 191, 193, 198, 201, 202, 206, 208, 211, 212, 214, 216, 217, 227, 230, 234, 235, 240, 241, 244, 245, 248, 249, 251, 252, 255, 257, 262, 263, 264, 267, 270, ...], 5: [16, 19, 37, 47, 69, 88, 95, 97, 101, 124, 174, 176, 179, 181, 200, 203, 205, 221, 226, 250, 266, 334, 352, 356, 385, 391, 402, 427, 522, 551, 553, 611, 614, 616, 621, 659, 678, 712, 745, 752, 809, 852, 875, 899, 953, 960, 977, 982, 983, 985, 1009, 1018, 1060, 1062, 1065, 1096, 1098, 1116, 1144, 1154, 1183, 1193, 1194, 1213, 1277, 1286, 1287, 1310, 1354, 1367, 1379, 1402, 1452, 1460, 1511, 1524, 1547, 1596, 1606, 1622, 1650, 1715, 1742, 1747, 1753, 1797, 1814, 1821, 1824, 1844, 1913, 1918, 1924, 1950, 1953, 1978, 2008, 2018, 2042, 2047, ...]}"
      ]
     },
     "execution_count": 12,
     "metadata": {},
     "output_type": "execute_result"
    }
   ],
   "source": [
    "House_Sales_DF.groupby('Bedrooms').groups"
   ]
  },
  {
   "cell_type": "markdown",
   "id": "dbcd1bb1-aece-4676-b02c-19f0da19b359",
   "metadata": {},
   "source": [
    "## 8.Group the dataset by property type"
   ]
  },
  {
   "cell_type": "code",
   "execution_count": 13,
   "id": "1b3438cc-c320-4a81-8eba-0b7f862f3413",
   "metadata": {},
   "outputs": [
    {
     "data": {
      "text/plain": [
       "{'house': [0, 1, 2, 3, 4, 5, 6, 7, 8, 9, 10, 11, 12, 14, 15, 16, 17, 19, 20, 21, 22, 23, 24, 25, 27, 28, 30, 31, 32, 33, 34, 35, 36, 37, 40, 41, 42, 43, 44, 45, 46, 47, 48, 49, 50, 51, 52, 53, 54, 55, 56, 57, 58, 59, 61, 63, 64, 65, 66, 67, 69, 70, 71, 72, 73, 75, 78, 80, 81, 82, 83, 85, 86, 87, 88, 89, 90, 91, 92, 93, 94, 95, 96, 97, 98, 99, 100, 101, 102, 103, 104, 105, 106, 107, 108, 109, 110, 111, 112, 113, ...], 'unit': [13, 18, 26, 29, 38, 39, 60, 62, 68, 74, 76, 77, 79, 84, 140, 141, 146, 155, 186, 192, 232, 254, 259, 268, 286, 287, 366, 370, 379, 392, 428, 435, 437, 443, 447, 448, 452, 460, 461, 472, 493, 496, 497, 504, 509, 510, 528, 549, 555, 565, 596, 597, 624, 644, 669, 670, 671, 724, 725, 731, 761, 773, 784, 785, 786, 787, 790, 792, 797, 810, 835, 848, 854, 864, 865, 871, 872, 877, 886, 887, 891, 892, 902, 908, 909, 910, 915, 916, 917, 926, 927, 934, 939, 940, 954, 955, 966, 974, 979, 986, ...]}"
      ]
     },
     "execution_count": 13,
     "metadata": {},
     "output_type": "execute_result"
    }
   ],
   "source": [
    "House_Sales_DF.groupby('Property Type')\n",
    "House_Sales_DF.groupby('Property Type').groups"
   ]
  },
  {
   "cell_type": "markdown",
   "id": "6f404056-22d2-41d8-862c-058d93b15502",
   "metadata": {},
   "source": [
    "## 9.find the cheapest house sale in 2010"
   ]
  },
  {
   "cell_type": "code",
   "execution_count": 14,
   "id": "86083d82-146b-4345-9c93-2552b1e1db40",
   "metadata": {},
   "outputs": [
    {
     "data": {
      "text/html": [
       "<div>\n",
       "<style scoped>\n",
       "    .dataframe tbody tr th:only-of-type {\n",
       "        vertical-align: middle;\n",
       "    }\n",
       "\n",
       "    .dataframe tbody tr th {\n",
       "        vertical-align: top;\n",
       "    }\n",
       "\n",
       "    .dataframe thead th {\n",
       "        text-align: right;\n",
       "    }\n",
       "</style>\n",
       "<table border=\"1\" class=\"dataframe\">\n",
       "  <thead>\n",
       "    <tr style=\"text-align: right;\">\n",
       "      <th></th>\n",
       "      <th>Datesold</th>\n",
       "      <th>Postcode</th>\n",
       "      <th>Price</th>\n",
       "      <th>Property Type</th>\n",
       "      <th>Bedrooms</th>\n",
       "      <th>Year</th>\n",
       "    </tr>\n",
       "  </thead>\n",
       "  <tbody>\n",
       "    <tr>\n",
       "      <th>3925</th>\n",
       "      <td>17/02/2011 00:00</td>\n",
       "      <td>2620</td>\n",
       "      <td>180000</td>\n",
       "      <td>unit</td>\n",
       "      <td>1</td>\n",
       "      <td>2011</td>\n",
       "    </tr>\n",
       "  </tbody>\n",
       "</table>\n",
       "</div>"
      ],
      "text/plain": [
       "              Datesold  Postcode   Price Property Type  Bedrooms  Year\n",
       "3925  17/02/2011 00:00      2620  180000          unit         1  2011"
      ]
     },
     "execution_count": 14,
     "metadata": {},
     "output_type": "execute_result"
    }
   ],
   "source": [
    "House_Sales_DF.groupby('Year').get_group(2011)[House_Sales_DF.groupby('Year').get_group(2011)['Price'] == House_Sales_DF.groupby('Year').get_group(2011)['Price'].min()]"
   ]
  },
  {
   "cell_type": "code",
   "execution_count": 15,
   "id": "46436acf-ed55-40c0-bf36-666796c701c7",
   "metadata": {},
   "outputs": [],
   "source": [
    "Houses = House_Sales_DF.groupby('Property Type').get_group('house')"
   ]
  },
  {
   "cell_type": "code",
   "execution_count": 16,
   "id": "290e5b82-4831-4778-b319-a30c02e725b8",
   "metadata": {},
   "outputs": [
    {
     "data": {
      "text/html": [
       "<div>\n",
       "<style scoped>\n",
       "    .dataframe tbody tr th:only-of-type {\n",
       "        vertical-align: middle;\n",
       "    }\n",
       "\n",
       "    .dataframe tbody tr th {\n",
       "        vertical-align: top;\n",
       "    }\n",
       "\n",
       "    .dataframe thead th {\n",
       "        text-align: right;\n",
       "    }\n",
       "</style>\n",
       "<table border=\"1\" class=\"dataframe\">\n",
       "  <thead>\n",
       "    <tr style=\"text-align: right;\">\n",
       "      <th></th>\n",
       "      <th>Datesold</th>\n",
       "      <th>Postcode</th>\n",
       "      <th>Price</th>\n",
       "      <th>Property Type</th>\n",
       "      <th>Bedrooms</th>\n",
       "      <th>Year</th>\n",
       "    </tr>\n",
       "  </thead>\n",
       "  <tbody>\n",
       "    <tr>\n",
       "      <th>2212</th>\n",
       "      <td>04/01/2010 00:00</td>\n",
       "      <td>2615</td>\n",
       "      <td>435000</td>\n",
       "      <td>house</td>\n",
       "      <td>3</td>\n",
       "      <td>2010</td>\n",
       "    </tr>\n",
       "    <tr>\n",
       "      <th>2213</th>\n",
       "      <td>05/01/2010 00:00</td>\n",
       "      <td>2904</td>\n",
       "      <td>712000</td>\n",
       "      <td>house</td>\n",
       "      <td>4</td>\n",
       "      <td>2010</td>\n",
       "    </tr>\n",
       "    <tr>\n",
       "      <th>2214</th>\n",
       "      <td>06/01/2010 00:00</td>\n",
       "      <td>2617</td>\n",
       "      <td>435000</td>\n",
       "      <td>house</td>\n",
       "      <td>4</td>\n",
       "      <td>2010</td>\n",
       "    </tr>\n",
       "    <tr>\n",
       "      <th>2215</th>\n",
       "      <td>06/01/2010 00:00</td>\n",
       "      <td>2606</td>\n",
       "      <td>1350000</td>\n",
       "      <td>house</td>\n",
       "      <td>5</td>\n",
       "      <td>2010</td>\n",
       "    </tr>\n",
       "    <tr>\n",
       "      <th>2216</th>\n",
       "      <td>07/01/2010 00:00</td>\n",
       "      <td>2905</td>\n",
       "      <td>612500</td>\n",
       "      <td>house</td>\n",
       "      <td>4</td>\n",
       "      <td>2010</td>\n",
       "    </tr>\n",
       "    <tr>\n",
       "      <th>...</th>\n",
       "      <td>...</td>\n",
       "      <td>...</td>\n",
       "      <td>...</td>\n",
       "      <td>...</td>\n",
       "      <td>...</td>\n",
       "      <td>...</td>\n",
       "    </tr>\n",
       "    <tr>\n",
       "      <th>3760</th>\n",
       "      <td>23/12/2010 00:00</td>\n",
       "      <td>2902</td>\n",
       "      <td>687000</td>\n",
       "      <td>house</td>\n",
       "      <td>4</td>\n",
       "      <td>2010</td>\n",
       "    </tr>\n",
       "    <tr>\n",
       "      <th>3761</th>\n",
       "      <td>23/12/2010 00:00</td>\n",
       "      <td>2602</td>\n",
       "      <td>767000</td>\n",
       "      <td>house</td>\n",
       "      <td>4</td>\n",
       "      <td>2010</td>\n",
       "    </tr>\n",
       "    <tr>\n",
       "      <th>3762</th>\n",
       "      <td>24/12/2010 00:00</td>\n",
       "      <td>2615</td>\n",
       "      <td>447000</td>\n",
       "      <td>house</td>\n",
       "      <td>4</td>\n",
       "      <td>2010</td>\n",
       "    </tr>\n",
       "    <tr>\n",
       "      <th>3763</th>\n",
       "      <td>24/12/2010 00:00</td>\n",
       "      <td>2913</td>\n",
       "      <td>457500</td>\n",
       "      <td>house</td>\n",
       "      <td>3</td>\n",
       "      <td>2010</td>\n",
       "    </tr>\n",
       "    <tr>\n",
       "      <th>3764</th>\n",
       "      <td>24/12/2010 00:00</td>\n",
       "      <td>2602</td>\n",
       "      <td>595000</td>\n",
       "      <td>house</td>\n",
       "      <td>3</td>\n",
       "      <td>2010</td>\n",
       "    </tr>\n",
       "  </tbody>\n",
       "</table>\n",
       "<p>1374 rows × 6 columns</p>\n",
       "</div>"
      ],
      "text/plain": [
       "              Datesold  Postcode    Price Property Type  Bedrooms  Year\n",
       "2212  04/01/2010 00:00      2615   435000         house         3  2010\n",
       "2213  05/01/2010 00:00      2904   712000         house         4  2010\n",
       "2214  06/01/2010 00:00      2617   435000         house         4  2010\n",
       "2215  06/01/2010 00:00      2606  1350000         house         5  2010\n",
       "2216  07/01/2010 00:00      2905   612500         house         4  2010\n",
       "...                ...       ...      ...           ...       ...   ...\n",
       "3760  23/12/2010 00:00      2902   687000         house         4  2010\n",
       "3761  23/12/2010 00:00      2602   767000         house         4  2010\n",
       "3762  24/12/2010 00:00      2615   447000         house         4  2010\n",
       "3763  24/12/2010 00:00      2913   457500         house         3  2010\n",
       "3764  24/12/2010 00:00      2602   595000         house         3  2010\n",
       "\n",
       "[1374 rows x 6 columns]"
      ]
     },
     "execution_count": 16,
     "metadata": {},
     "output_type": "execute_result"
    }
   ],
   "source": [
    "Houses_on_2010 = Houses.groupby('Year').get_group(2010)\n",
    "Houses_on_2010"
   ]
  },
  {
   "cell_type": "code",
   "execution_count": 17,
   "id": "f461c048-962f-415b-9677-1476cee96965",
   "metadata": {},
   "outputs": [
    {
     "data": {
      "text/html": [
       "<div>\n",
       "<style scoped>\n",
       "    .dataframe tbody tr th:only-of-type {\n",
       "        vertical-align: middle;\n",
       "    }\n",
       "\n",
       "    .dataframe tbody tr th {\n",
       "        vertical-align: top;\n",
       "    }\n",
       "\n",
       "    .dataframe thead th {\n",
       "        text-align: right;\n",
       "    }\n",
       "</style>\n",
       "<table border=\"1\" class=\"dataframe\">\n",
       "  <thead>\n",
       "    <tr style=\"text-align: right;\">\n",
       "      <th></th>\n",
       "      <th>Datesold</th>\n",
       "      <th>Postcode</th>\n",
       "      <th>Price</th>\n",
       "      <th>Property Type</th>\n",
       "      <th>Bedrooms</th>\n",
       "      <th>Year</th>\n",
       "    </tr>\n",
       "  </thead>\n",
       "  <tbody>\n",
       "    <tr>\n",
       "      <th>3262</th>\n",
       "      <td>21/09/2010 00:00</td>\n",
       "      <td>2606</td>\n",
       "      <td>110000</td>\n",
       "      <td>house</td>\n",
       "      <td>4</td>\n",
       "      <td>2010</td>\n",
       "    </tr>\n",
       "  </tbody>\n",
       "</table>\n",
       "</div>"
      ],
      "text/plain": [
       "              Datesold  Postcode   Price Property Type  Bedrooms  Year\n",
       "3262  21/09/2010 00:00      2606  110000         house         4  2010"
      ]
     },
     "execution_count": 17,
     "metadata": {},
     "output_type": "execute_result"
    }
   ],
   "source": [
    "Houses_on_2010[Houses_on_2010['Price'] == Houses_on_2010['Price'].min()]"
   ]
  },
  {
   "cell_type": "markdown",
   "id": "4094bf8e-8ae0-4b38-bf8a-b3b3fd32c554",
   "metadata": {},
   "source": [
    "## 10.find the most expensive house sale in 2017"
   ]
  },
  {
   "cell_type": "code",
   "execution_count": 18,
   "id": "e86b3bef-a3aa-4b44-b2c4-490e0414ff79",
   "metadata": {},
   "outputs": [],
   "source": [
    "Houses_on_2017 = Houses.groupby('Year').get_group(2017)"
   ]
  },
  {
   "cell_type": "code",
   "execution_count": 19,
   "id": "ecbafdb9-0d24-4b2c-854c-3df72d06f114",
   "metadata": {},
   "outputs": [
    {
     "data": {
      "text/html": [
       "<div>\n",
       "<style scoped>\n",
       "    .dataframe tbody tr th:only-of-type {\n",
       "        vertical-align: middle;\n",
       "    }\n",
       "\n",
       "    .dataframe tbody tr th {\n",
       "        vertical-align: top;\n",
       "    }\n",
       "\n",
       "    .dataframe thead th {\n",
       "        text-align: right;\n",
       "    }\n",
       "</style>\n",
       "<table border=\"1\" class=\"dataframe\">\n",
       "  <thead>\n",
       "    <tr style=\"text-align: right;\">\n",
       "      <th></th>\n",
       "      <th>Datesold</th>\n",
       "      <th>Postcode</th>\n",
       "      <th>Price</th>\n",
       "      <th>Property Type</th>\n",
       "      <th>Bedrooms</th>\n",
       "      <th>Year</th>\n",
       "    </tr>\n",
       "  </thead>\n",
       "  <tbody>\n",
       "    <tr>\n",
       "      <th>23800</th>\n",
       "      <td>21/11/2017 00:00</td>\n",
       "      <td>2603</td>\n",
       "      <td>4700000</td>\n",
       "      <td>house</td>\n",
       "      <td>4</td>\n",
       "      <td>2017</td>\n",
       "    </tr>\n",
       "  </tbody>\n",
       "</table>\n",
       "</div>"
      ],
      "text/plain": [
       "               Datesold  Postcode    Price Property Type  Bedrooms  Year\n",
       "23800  21/11/2017 00:00      2603  4700000         house         4  2017"
      ]
     },
     "execution_count": 19,
     "metadata": {},
     "output_type": "execute_result"
    }
   ],
   "source": [
    "Houses_on_2017[Houses_on_2017['Price'] == Houses_on_2017['Price'].max()]"
   ]
  },
  {
   "cell_type": "markdown",
   "id": "c91c5a8e-91d6-462c-bdfa-fd1a3322060e",
   "metadata": {},
   "source": [
    "## 11.find the most expensive house with 5 bedrooms"
   ]
  },
  {
   "cell_type": "code",
   "execution_count": 20,
   "id": "9240d9f3-b28f-4032-84c0-d0e1750840a1",
   "metadata": {},
   "outputs": [
    {
     "data": {
      "text/html": [
       "<div>\n",
       "<style scoped>\n",
       "    .dataframe tbody tr th:only-of-type {\n",
       "        vertical-align: middle;\n",
       "    }\n",
       "\n",
       "    .dataframe tbody tr th {\n",
       "        vertical-align: top;\n",
       "    }\n",
       "\n",
       "    .dataframe thead th {\n",
       "        text-align: right;\n",
       "    }\n",
       "</style>\n",
       "<table border=\"1\" class=\"dataframe\">\n",
       "  <thead>\n",
       "    <tr style=\"text-align: right;\">\n",
       "      <th></th>\n",
       "      <th>Datesold</th>\n",
       "      <th>Postcode</th>\n",
       "      <th>Price</th>\n",
       "      <th>Property Type</th>\n",
       "      <th>Bedrooms</th>\n",
       "      <th>Year</th>\n",
       "    </tr>\n",
       "  </thead>\n",
       "  <tbody>\n",
       "    <tr>\n",
       "      <th>2589</th>\n",
       "      <td>22/04/2010 00:00</td>\n",
       "      <td>2603</td>\n",
       "      <td>7300000</td>\n",
       "      <td>house</td>\n",
       "      <td>5</td>\n",
       "      <td>2010</td>\n",
       "    </tr>\n",
       "  </tbody>\n",
       "</table>\n",
       "</div>"
      ],
      "text/plain": [
       "              Datesold  Postcode    Price Property Type  Bedrooms  Year\n",
       "2589  22/04/2010 00:00      2603  7300000         house         5  2010"
      ]
     },
     "execution_count": 20,
     "metadata": {},
     "output_type": "execute_result"
    }
   ],
   "source": [
    "Houses.groupby('Bedrooms').get_group(5)[Houses.groupby('Bedrooms').get_group(5)['Price'] == Houses.groupby('Bedrooms').get_group(5)['Price'].max()]"
   ]
  },
  {
   "cell_type": "code",
   "execution_count": 21,
   "id": "48657ebd-9e34-49a7-9601-fcc2aec487fb",
   "metadata": {},
   "outputs": [
    {
     "data": {
      "text/plain": [
       "7300000"
      ]
     },
     "execution_count": 21,
     "metadata": {},
     "output_type": "execute_result"
    }
   ],
   "source": [
    "House_Sales_DF.groupby('Property Type').get_group('house').groupby('Bedrooms').get_group(5)['Price'].max()"
   ]
  },
  {
   "cell_type": "markdown",
   "id": "0d4cf7fe-70f3-4dfb-b17e-f8cb2761bdc1",
   "metadata": {},
   "source": [
    "## 12.find the cheapest unit"
   ]
  },
  {
   "cell_type": "markdown",
   "id": "a95e47a3-d177-44f2-8705-b03b3f5adf6c",
   "metadata": {},
   "source": [
    "House_Sales_DF[House_Sales_DF['Price'] == House_Sales_DF['Price'].min()]"
   ]
  },
  {
   "cell_type": "code",
   "execution_count": 22,
   "id": "9a94a3f2-25e8-4d91-9fb8-4c6aefcdfa07",
   "metadata": {},
   "outputs": [
    {
     "data": {
      "text/html": [
       "<div>\n",
       "<style scoped>\n",
       "    .dataframe tbody tr th:only-of-type {\n",
       "        vertical-align: middle;\n",
       "    }\n",
       "\n",
       "    .dataframe tbody tr th {\n",
       "        vertical-align: top;\n",
       "    }\n",
       "\n",
       "    .dataframe thead th {\n",
       "        text-align: right;\n",
       "    }\n",
       "</style>\n",
       "<table border=\"1\" class=\"dataframe\">\n",
       "  <thead>\n",
       "    <tr style=\"text-align: right;\">\n",
       "      <th></th>\n",
       "      <th>Datesold</th>\n",
       "      <th>Postcode</th>\n",
       "      <th>Price</th>\n",
       "      <th>Property Type</th>\n",
       "      <th>Bedrooms</th>\n",
       "      <th>Year</th>\n",
       "    </tr>\n",
       "  </thead>\n",
       "  <tbody>\n",
       "    <tr>\n",
       "      <th>12179</th>\n",
       "      <td>18/12/2014 00:00</td>\n",
       "      <td>2612</td>\n",
       "      <td>85000</td>\n",
       "      <td>unit</td>\n",
       "      <td>1</td>\n",
       "      <td>2014</td>\n",
       "    </tr>\n",
       "  </tbody>\n",
       "</table>\n",
       "</div>"
      ],
      "text/plain": [
       "               Datesold  Postcode  Price Property Type  Bedrooms  Year\n",
       "12179  18/12/2014 00:00      2612  85000          unit         1  2014"
      ]
     },
     "execution_count": 22,
     "metadata": {},
     "output_type": "execute_result"
    }
   ],
   "source": [
    "Unit = House_Sales_DF.groupby('Property Type').get_group('unit')\n",
    "Unit[Unit['Price'] == Unit['Price'].min()]"
   ]
  },
  {
   "cell_type": "code",
   "execution_count": 23,
   "id": "fbdfd027-e049-4408-b480-11b6f8cf102c",
   "metadata": {},
   "outputs": [
    {
     "name": "stderr",
     "output_type": "stream",
     "text": [
      "C:\\Users\\ROSE PC\\AppData\\Local\\Temp\\ipykernel_5128\\252737511.py:1: UserWarning: Boolean Series key will be reindexed to match DataFrame index.\n",
      "  Unit[House_Sales_DF['Price'] == House_Sales_DF.groupby('Property Type').get_group('unit')['Price'].min()]\n"
     ]
    },
    {
     "data": {
      "text/html": [
       "<div>\n",
       "<style scoped>\n",
       "    .dataframe tbody tr th:only-of-type {\n",
       "        vertical-align: middle;\n",
       "    }\n",
       "\n",
       "    .dataframe tbody tr th {\n",
       "        vertical-align: top;\n",
       "    }\n",
       "\n",
       "    .dataframe thead th {\n",
       "        text-align: right;\n",
       "    }\n",
       "</style>\n",
       "<table border=\"1\" class=\"dataframe\">\n",
       "  <thead>\n",
       "    <tr style=\"text-align: right;\">\n",
       "      <th></th>\n",
       "      <th>Datesold</th>\n",
       "      <th>Postcode</th>\n",
       "      <th>Price</th>\n",
       "      <th>Property Type</th>\n",
       "      <th>Bedrooms</th>\n",
       "      <th>Year</th>\n",
       "    </tr>\n",
       "  </thead>\n",
       "  <tbody>\n",
       "    <tr>\n",
       "      <th>12179</th>\n",
       "      <td>18/12/2014 00:00</td>\n",
       "      <td>2612</td>\n",
       "      <td>85000</td>\n",
       "      <td>unit</td>\n",
       "      <td>1</td>\n",
       "      <td>2014</td>\n",
       "    </tr>\n",
       "  </tbody>\n",
       "</table>\n",
       "</div>"
      ],
      "text/plain": [
       "               Datesold  Postcode  Price Property Type  Bedrooms  Year\n",
       "12179  18/12/2014 00:00      2612  85000          unit         1  2014"
      ]
     },
     "execution_count": 23,
     "metadata": {},
     "output_type": "execute_result"
    }
   ],
   "source": [
    "Unit[House_Sales_DF['Price'] == House_Sales_DF.groupby('Property Type').get_group('unit')['Price'].min()]"
   ]
  },
  {
   "cell_type": "markdown",
   "id": "7e60a36e-aec2-4637-8669-6b9b4e3660ea",
   "metadata": {},
   "source": [
    "## 13.find the cheapest unit in 2008"
   ]
  },
  {
   "cell_type": "code",
   "execution_count": 24,
   "id": "dc985258-02bd-42cf-a954-a2b5eafa7d8d",
   "metadata": {},
   "outputs": [
    {
     "data": {
      "text/html": [
       "<div>\n",
       "<style scoped>\n",
       "    .dataframe tbody tr th:only-of-type {\n",
       "        vertical-align: middle;\n",
       "    }\n",
       "\n",
       "    .dataframe tbody tr th {\n",
       "        vertical-align: top;\n",
       "    }\n",
       "\n",
       "    .dataframe thead th {\n",
       "        text-align: right;\n",
       "    }\n",
       "</style>\n",
       "<table border=\"1\" class=\"dataframe\">\n",
       "  <thead>\n",
       "    <tr style=\"text-align: right;\">\n",
       "      <th></th>\n",
       "      <th>Datesold</th>\n",
       "      <th>Postcode</th>\n",
       "      <th>Price</th>\n",
       "      <th>Property Type</th>\n",
       "      <th>Bedrooms</th>\n",
       "      <th>Year</th>\n",
       "    </tr>\n",
       "  </thead>\n",
       "  <tbody>\n",
       "    <tr>\n",
       "      <th>493</th>\n",
       "      <td>21/10/2008 00:00</td>\n",
       "      <td>2612</td>\n",
       "      <td>90000</td>\n",
       "      <td>unit</td>\n",
       "      <td>0</td>\n",
       "      <td>2008</td>\n",
       "    </tr>\n",
       "  </tbody>\n",
       "</table>\n",
       "</div>"
      ],
      "text/plain": [
       "             Datesold  Postcode  Price Property Type  Bedrooms  Year\n",
       "493  21/10/2008 00:00      2612  90000          unit         0  2008"
      ]
     },
     "execution_count": 24,
     "metadata": {},
     "output_type": "execute_result"
    }
   ],
   "source": [
    "House_Sales_DF.groupby('Year').get_group(2008)[House_Sales_DF.groupby('Year').get_group(2008)['Price'] == House_Sales_DF.groupby('Year').get_group(2008)['Price'].min()]"
   ]
  },
  {
   "cell_type": "code",
   "execution_count": 25,
   "id": "5388e534-b703-46ea-ba17-8c5bda0e7329",
   "metadata": {},
   "outputs": [
    {
     "data": {
      "text/html": [
       "<div>\n",
       "<style scoped>\n",
       "    .dataframe tbody tr th:only-of-type {\n",
       "        vertical-align: middle;\n",
       "    }\n",
       "\n",
       "    .dataframe tbody tr th {\n",
       "        vertical-align: top;\n",
       "    }\n",
       "\n",
       "    .dataframe thead th {\n",
       "        text-align: right;\n",
       "    }\n",
       "</style>\n",
       "<table border=\"1\" class=\"dataframe\">\n",
       "  <thead>\n",
       "    <tr style=\"text-align: right;\">\n",
       "      <th></th>\n",
       "      <th>Datesold</th>\n",
       "      <th>Postcode</th>\n",
       "      <th>Price</th>\n",
       "      <th>Property Type</th>\n",
       "      <th>Bedrooms</th>\n",
       "      <th>Year</th>\n",
       "    </tr>\n",
       "  </thead>\n",
       "  <tbody>\n",
       "    <tr>\n",
       "      <th>493</th>\n",
       "      <td>21/10/2008 00:00</td>\n",
       "      <td>2612</td>\n",
       "      <td>90000</td>\n",
       "      <td>unit</td>\n",
       "      <td>0</td>\n",
       "      <td>2008</td>\n",
       "    </tr>\n",
       "  </tbody>\n",
       "</table>\n",
       "</div>"
      ],
      "text/plain": [
       "             Datesold  Postcode  Price Property Type  Bedrooms  Year\n",
       "493  21/10/2008 00:00      2612  90000          unit         0  2008"
      ]
     },
     "execution_count": 25,
     "metadata": {},
     "output_type": "execute_result"
    }
   ],
   "source": [
    "Unit = House_Sales_DF.groupby('Property Type').get_group('unit')\n",
    "Unit_on_2008 = Unit.groupby('Year').get_group(2008)\n",
    "Unit_on_2008[Unit_on_2008['Price'] == Unit_on_2008['Price'].min()]"
   ]
  },
  {
   "cell_type": "markdown",
   "id": "f0cd724d-7dba-4dc1-97a4-f2d808a2aabe",
   "metadata": {},
   "source": [
    "## 14.find the average house price in 2015"
   ]
  },
  {
   "cell_type": "code",
   "execution_count": 26,
   "id": "73846062-d108-44b9-9f10-4fb179bc0464",
   "metadata": {},
   "outputs": [
    {
     "data": {
      "text/plain": [
       "661248.3653410928"
      ]
     },
     "execution_count": 26,
     "metadata": {},
     "output_type": "execute_result"
    }
   ],
   "source": [
    "Houses.groupby('Year').get_group(2015)['Price'].mean()"
   ]
  },
  {
   "cell_type": "markdown",
   "id": "38060aaf-1f6d-415e-86cc-54c2196c0425",
   "metadata": {},
   "source": [
    "## 15.find the total amount of unit sales in 2016"
   ]
  },
  {
   "cell_type": "code",
   "execution_count": 27,
   "id": "47ca8d61-b85c-484d-b302-734ce69851e8",
   "metadata": {},
   "outputs": [
    {
     "data": {
      "text/plain": [
       "296981819"
      ]
     },
     "execution_count": 27,
     "metadata": {},
     "output_type": "execute_result"
    }
   ],
   "source": [
    "Unit.groupby('Year').get_group(2016)['Price'].sum()"
   ]
  },
  {
   "cell_type": "markdown",
   "id": "9930da51-e6ce-4594-82a1-935208a96577",
   "metadata": {},
   "source": [
    "## 16.Find the cheapest house sales at 2617"
   ]
  },
  {
   "cell_type": "code",
   "execution_count": 32,
   "id": "7277bcec-5ad8-43ee-82e9-831ea3b6c0b5",
   "metadata": {},
   "outputs": [
    {
     "data": {
      "text/html": [
       "<div>\n",
       "<style scoped>\n",
       "    .dataframe tbody tr th:only-of-type {\n",
       "        vertical-align: middle;\n",
       "    }\n",
       "\n",
       "    .dataframe tbody tr th {\n",
       "        vertical-align: top;\n",
       "    }\n",
       "\n",
       "    .dataframe thead th {\n",
       "        text-align: right;\n",
       "    }\n",
       "</style>\n",
       "<table border=\"1\" class=\"dataframe\">\n",
       "  <thead>\n",
       "    <tr style=\"text-align: right;\">\n",
       "      <th></th>\n",
       "      <th>Datesold</th>\n",
       "      <th>Postcode</th>\n",
       "      <th>Price</th>\n",
       "      <th>Property Type</th>\n",
       "      <th>Bedrooms</th>\n",
       "      <th>Year</th>\n",
       "    </tr>\n",
       "  </thead>\n",
       "  <tbody>\n",
       "    <tr>\n",
       "      <th>44</th>\n",
       "      <td>14/08/2007 00:00</td>\n",
       "      <td>2617</td>\n",
       "      <td>625000</td>\n",
       "      <td>house</td>\n",
       "      <td>4</td>\n",
       "      <td>2007</td>\n",
       "    </tr>\n",
       "    <tr>\n",
       "      <th>95</th>\n",
       "      <td>25/10/2007 00:00</td>\n",
       "      <td>2617</td>\n",
       "      <td>645000</td>\n",
       "      <td>house</td>\n",
       "      <td>5</td>\n",
       "      <td>2007</td>\n",
       "    </tr>\n",
       "    <tr>\n",
       "      <th>166</th>\n",
       "      <td>08/02/2008 00:00</td>\n",
       "      <td>2617</td>\n",
       "      <td>395000</td>\n",
       "      <td>house</td>\n",
       "      <td>3</td>\n",
       "      <td>2008</td>\n",
       "    </tr>\n",
       "    <tr>\n",
       "      <th>170</th>\n",
       "      <td>11/02/2008 00:00</td>\n",
       "      <td>2617</td>\n",
       "      <td>416000</td>\n",
       "      <td>house</td>\n",
       "      <td>4</td>\n",
       "      <td>2008</td>\n",
       "    </tr>\n",
       "    <tr>\n",
       "      <th>177</th>\n",
       "      <td>23/02/2008 00:00</td>\n",
       "      <td>2617</td>\n",
       "      <td>500000</td>\n",
       "      <td>house</td>\n",
       "      <td>4</td>\n",
       "      <td>2008</td>\n",
       "    </tr>\n",
       "    <tr>\n",
       "      <th>...</th>\n",
       "      <td>...</td>\n",
       "      <td>...</td>\n",
       "      <td>...</td>\n",
       "      <td>...</td>\n",
       "      <td>...</td>\n",
       "      <td>...</td>\n",
       "    </tr>\n",
       "    <tr>\n",
       "      <th>28110</th>\n",
       "      <td>15/12/2018 00:00</td>\n",
       "      <td>2617</td>\n",
       "      <td>748000</td>\n",
       "      <td>house</td>\n",
       "      <td>4</td>\n",
       "      <td>2018</td>\n",
       "    </tr>\n",
       "    <tr>\n",
       "      <th>28128</th>\n",
       "      <td>18/12/2018 00:00</td>\n",
       "      <td>2617</td>\n",
       "      <td>517000</td>\n",
       "      <td>house</td>\n",
       "      <td>3</td>\n",
       "      <td>2018</td>\n",
       "    </tr>\n",
       "    <tr>\n",
       "      <th>28145</th>\n",
       "      <td>19/12/2018 00:00</td>\n",
       "      <td>2617</td>\n",
       "      <td>535000</td>\n",
       "      <td>house</td>\n",
       "      <td>3</td>\n",
       "      <td>2018</td>\n",
       "    </tr>\n",
       "    <tr>\n",
       "      <th>28146</th>\n",
       "      <td>19/12/2018 00:00</td>\n",
       "      <td>2617</td>\n",
       "      <td>572000</td>\n",
       "      <td>house</td>\n",
       "      <td>3</td>\n",
       "      <td>2018</td>\n",
       "    </tr>\n",
       "    <tr>\n",
       "      <th>28157</th>\n",
       "      <td>20/12/2018 00:00</td>\n",
       "      <td>2617</td>\n",
       "      <td>545000</td>\n",
       "      <td>house</td>\n",
       "      <td>3</td>\n",
       "      <td>2018</td>\n",
       "    </tr>\n",
       "  </tbody>\n",
       "</table>\n",
       "<p>1366 rows × 6 columns</p>\n",
       "</div>"
      ],
      "text/plain": [
       "               Datesold  Postcode   Price Property Type  Bedrooms  Year\n",
       "44     14/08/2007 00:00      2617  625000         house         4  2007\n",
       "95     25/10/2007 00:00      2617  645000         house         5  2007\n",
       "166    08/02/2008 00:00      2617  395000         house         3  2008\n",
       "170    11/02/2008 00:00      2617  416000         house         4  2008\n",
       "177    23/02/2008 00:00      2617  500000         house         4  2008\n",
       "...                 ...       ...     ...           ...       ...   ...\n",
       "28110  15/12/2018 00:00      2617  748000         house         4  2018\n",
       "28128  18/12/2018 00:00      2617  517000         house         3  2018\n",
       "28145  19/12/2018 00:00      2617  535000         house         3  2018\n",
       "28146  19/12/2018 00:00      2617  572000         house         3  2018\n",
       "28157  20/12/2018 00:00      2617  545000         house         3  2018\n",
       "\n",
       "[1366 rows x 6 columns]"
      ]
     },
     "execution_count": 32,
     "metadata": {},
     "output_type": "execute_result"
    }
   ],
   "source": [
    "House_on_2617 = House_Sales_DF.groupby('Property Type').get_group('house').groupby('Postcode').get_group(2617)\n",
    "House_on_2617"
   ]
  },
  {
   "cell_type": "code",
   "execution_count": 33,
   "id": "efeafc03-d688-4f48-a473-9bf1d3b09b89",
   "metadata": {},
   "outputs": [
    {
     "data": {
      "text/html": [
       "<div>\n",
       "<style scoped>\n",
       "    .dataframe tbody tr th:only-of-type {\n",
       "        vertical-align: middle;\n",
       "    }\n",
       "\n",
       "    .dataframe tbody tr th {\n",
       "        vertical-align: top;\n",
       "    }\n",
       "\n",
       "    .dataframe thead th {\n",
       "        text-align: right;\n",
       "    }\n",
       "</style>\n",
       "<table border=\"1\" class=\"dataframe\">\n",
       "  <thead>\n",
       "    <tr style=\"text-align: right;\">\n",
       "      <th></th>\n",
       "      <th>Datesold</th>\n",
       "      <th>Postcode</th>\n",
       "      <th>Price</th>\n",
       "      <th>Property Type</th>\n",
       "      <th>Bedrooms</th>\n",
       "      <th>Year</th>\n",
       "    </tr>\n",
       "  </thead>\n",
       "  <tbody>\n",
       "    <tr>\n",
       "      <th>18279</th>\n",
       "      <td>30/08/2016 00:00</td>\n",
       "      <td>2617</td>\n",
       "      <td>240000</td>\n",
       "      <td>house</td>\n",
       "      <td>1</td>\n",
       "      <td>2016</td>\n",
       "    </tr>\n",
       "  </tbody>\n",
       "</table>\n",
       "</div>"
      ],
      "text/plain": [
       "               Datesold  Postcode   Price Property Type  Bedrooms  Year\n",
       "18279  30/08/2016 00:00      2617  240000         house         1  2016"
      ]
     },
     "execution_count": 33,
     "metadata": {},
     "output_type": "execute_result"
    }
   ],
   "source": [
    "House_on_2617[House_on_2617['Price'] == House_on_2617['Price'].min()]"
   ]
  },
  {
   "cell_type": "markdown",
   "id": "b00db23e-0245-499a-88d1-c89b66e53747",
   "metadata": {},
   "source": [
    "## 17.Create a pie chart that shows the distribution of sales by bedrooms number"
   ]
  },
  {
   "cell_type": "code",
   "execution_count": 35,
   "id": "3a786d9c-90b1-4f33-b0c9-1fb5a66d261b",
   "metadata": {},
   "outputs": [
    {
     "data": {
      "text/plain": [
       "0"
      ]
     },
     "execution_count": 35,
     "metadata": {},
     "output_type": "execute_result"
    }
   ],
   "source": [
    "House_Sales_DF['Bedrooms'].min()"
   ]
  },
  {
   "cell_type": "code",
   "execution_count": 36,
   "id": "ca416a05-a536-472e-9d54-c40814633672",
   "metadata": {},
   "outputs": [
    {
     "data": {
      "text/plain": [
       "5"
      ]
     },
     "execution_count": 36,
     "metadata": {},
     "output_type": "execute_result"
    }
   ],
   "source": [
    "House_Sales_DF['Bedrooms'].max()"
   ]
  },
  {
   "cell_type": "code",
   "execution_count": 37,
   "id": "daa56f88-42bc-43b4-88e9-9d2d689e0515",
   "metadata": {},
   "outputs": [],
   "source": [
    "labels = ['0 Bedrooms','1 Bedrooms','2 Bedrooms','3 Bedrooms','4 Bedrooms','5 Bedrooms']"
   ]
  },
  {
   "cell_type": "code",
   "execution_count": 38,
   "id": "5b331baa-c705-48ef-82b8-52b09eac0385",
   "metadata": {},
   "outputs": [
    {
     "data": {
      "text/plain": [
       "[28, 1521, 3339, 11462, 9990, 1855]"
      ]
     },
     "execution_count": 38,
     "metadata": {},
     "output_type": "execute_result"
    }
   ],
   "source": [
    "sizes = [len(House_Sales_DF.groupby('Bedrooms').get_group(0)), len(House_Sales_DF.groupby('Bedrooms').get_group(1)), \n",
    "        len(House_Sales_DF.groupby('Bedrooms').get_group(2)), len(House_Sales_DF.groupby('Bedrooms').get_group(3)), \n",
    "        len(House_Sales_DF.groupby('Bedrooms').get_group(4)), len(House_Sales_DF.groupby('Bedrooms').get_group(5))]\n",
    "sizes"
   ]
  },
  {
   "cell_type": "code",
   "execution_count": 41,
   "id": "ec3b4543-cd3d-40fc-8c6d-3bb7bef44a3b",
   "metadata": {},
   "outputs": [
    {
     "data": {
      "image/png": "[encoded data removed]",
      "text/plain": [
       "<Figure size 2000x2000 with 1 Axes>"
      ]
     },
     "metadata": {},
     "output_type": "display_data"
    }
   ],
   "source": [
    "Figure , Axes = plt.subplots(figsize = (20,20))\n",
    "Axes.pie(sizes ,labels = labels, autopct = '%1.1f%%', textprops={'fontsize': 20}, explode = [0.1,0.3,0.1,0.1,0.1,0.1])\n",
    "Axes.legend()\n",
    "plt.show()"
   ]
  },
  {
   "cell_type": "markdown",
   "id": "0aa1c139-fa3c-4b37-8cdb-580fd460b66d",
   "metadata": {},
   "source": [
    "## 18.Create a histogram that shows the Sales dataset"
   ]
  },
  {
   "cell_type": "code",
   "execution_count": 43,
   "id": "d503c407-adc5-4f00-a26d-7438e3cee118",
   "metadata": {},
   "outputs": [
    {
     "data": {
      "image/png": "[encoded data removed]",
      "text/plain": [
       "<Figure size 1400x600 with 4 Axes>"
      ]
     },
     "metadata": {},
     "output_type": "display_data"
    }
   ],
   "source": [
    "Histogram = House_Sales_DF.hist(figsize = (14,6))"
   ]
  },
  {
   "cell_type": "code",
   "execution_count": 79,
   "id": "bf9708bb-86b1-42cf-8a1a-9d8aa97a37f8",
   "metadata": {},
   "outputs": [
    {
     "data": {
      "text/plain": [
       "[28, 1521, 3339, 11462, 9990, 1855]"
      ]
     },
     "execution_count": 79,
     "metadata": {},
     "output_type": "execute_result"
    }
   ],
   "source": [
    "sizes = [len(House_Sales_DF.groupby('Bedrooms').get_group(0)), len(House_Sales_DF.groupby('Bedrooms').get_group(1)), \n",
    "        len(House_Sales_DF.groupby('Bedrooms').get_group(2)), len(House_Sales_DF.groupby('Bedrooms').get_group(3)), \n",
    "        len(House_Sales_DF.groupby('Bedrooms').get_group(4)), len(House_Sales_DF.groupby('Bedrooms').get_group(5))]\n",
    "sizes"
   ]
  },
  {
   "cell_type": "code",
   "execution_count": 81,
   "id": "62c2d602-15e0-4157-adb4-844a1d2f350d",
   "metadata": {},
   "outputs": [
    {
     "data": {
      "text/plain": [
       "56500"
      ]
     },
     "execution_count": 81,
     "metadata": {},
     "output_type": "execute_result"
    }
   ],
   "source": [
    "House_Sales_DF['Price'].min()"
   ]
  },
  {
   "cell_type": "code",
   "execution_count": 82,
   "id": "c895e1ed-6b88-4f9d-9e11-4395dfa1d71f",
   "metadata": {},
   "outputs": [
    {
     "data": {
      "text/plain": [
       "8000000"
      ]
     },
     "execution_count": 82,
     "metadata": {},
     "output_type": "execute_result"
    }
   ],
   "source": [
    "House_Sales_DF['Price'].max()"
   ]
  },
  {
   "cell_type": "code",
   "execution_count": 86,
   "id": "785e8418-6505-4ddb-84d9-586549050ce8",
   "metadata": {},
   "outputs": [
    {
     "data": {
      "text/plain": [
       "0         525000\n",
       "1         290000\n",
       "2         328000\n",
       "3         380000\n",
       "4         310000\n",
       "          ...   \n",
       "28190     580000\n",
       "28191     750000\n",
       "28192     640000\n",
       "28193     780000\n",
       "28194    1410000\n",
       "Name: Price, Length: 28195, dtype: int64"
      ]
     },
     "execution_count": 86,
     "metadata": {},
     "output_type": "execute_result"
    }
   ],
   "source": [
    "Prices_List = House_Sales_DF['Price'] \n",
    "Prices_List"
   ]
  },
  {
   "cell_type": "code",
   "execution_count": 107,
   "id": "ecd0327f-7bc7-405a-8c97-413036cc225a",
   "metadata": {},
   "outputs": [
    {
     "data": {
      "text/plain": [
       "<function matplotlib.pyplot.show(close=None, block=None)>"
      ]
     },
     "execution_count": 107,
     "metadata": {},
     "output_type": "execute_result"
    },
    {
     "data": {
      "image/png": "[encoded data removed]",
      "text/plain": [
       "<Figure size 2000x2000 with 1 Axes>"
      ]
     },
     "metadata": {},
     "output_type": "display_data"
    }
   ],
   "source": [
    "nbins = 1000\n",
    "Figure , Axes = plt.subplots(figsize = (20,20))\n",
    "n , bins , patches = plt.hist(Prices_List , bins = nbins)\n",
    "plt.xlim([min(Prices_List), max(Prices_List)])\n",
    "plt.show"
   ]
  },
  {
   "cell_type": "code",
   "execution_count": 108,
   "id": "48c6891a-2a8e-4505-9929-5749c74c9fd0",
   "metadata": {},
   "outputs": [],
   "source": [
    "Figure.savefig('House_Sales_histogram.png')"
   ]
  },
  {
   "cell_type": "code",
   "execution_count": null,
   "id": "fddc891e-9a4f-4bec-a149-ed24dcf86a10",
   "metadata": {},
   "outputs": [],
   "source": []
  }
 ],
 "metadata": {
  "kernelspec": {
   "display_name": "Python 3 (ipykernel)",
   "language": "python",
   "name": "python3"
  },
  "language_info": {
   "codemirror_mode": {
    "name": "ipython",
    "version": 3
   },
   "file_extension": ".py",
   "mimetype": "text/x-python",
   "name": "python",
   "nbconvert_exporter": "python",
   "pygments_lexer": "ipython3",
   "version": "3.12.4"
  }
 },
 "nbformat": 4,
 "nbformat_minor": 5
}
